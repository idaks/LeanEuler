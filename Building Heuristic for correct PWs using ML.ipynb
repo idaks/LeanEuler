{
 "cells": [
  {
   "cell_type": "code",
   "execution_count": null,
   "metadata": {},
   "outputs": [],
   "source": [
    "!pip3 install anytree"
   ]
  },
  {
   "cell_type": "code",
   "execution_count": 1,
   "metadata": {},
   "outputs": [],
   "source": [
    "from lean_euler import LeanEuler\n",
    "import networkx as nx\n",
    "from euler_input_visualization_nxpd import visualize_euler_input\n",
    "from nxpd import draw\n",
    "from nxpd import nxpdParams\n",
    "nxpdParams['show'] = 'ipynb'\n",
    "from PW_explorer.run_clingo import run_clingo\n",
    "from PW_explorer.load_worlds import load_worlds\n",
    "from PW_explorer.pwe_query import PWEQuery\n",
    "from PW_explorer.Custom_Visualization_Functions import euler_visualization_nxpd\n",
    "import pandas as pd\n",
    "import numpy as np\n",
    "import pickle as pkl\n",
    "import matplotlib.pyplot as plt\n",
    "import itertools"
   ]
  },
  {
   "cell_type": "code",
   "execution_count": 2,
   "metadata": {},
   "outputs": [],
   "source": [
    "import PW_explorer as pwe"
   ]
  },
  {
   "cell_type": "code",
   "execution_count": 3,
   "metadata": {},
   "outputs": [],
   "source": [
    "Xs = []\n",
    "ys = []"
   ]
  },
  {
   "cell_type": "code",
   "execution_count": 4,
   "metadata": {},
   "outputs": [],
   "source": [
    "# CEN-NDC\n",
    "cleantax_file = [\n",
    "    '# Taxonomy-1: NSF BD Hubs http://www.nsf.gov/pubs/2015/nsf15562/nsf15562.htm',\n",
    "    '# Taxonomy 2: http://www.nationaldiversitycouncil.org/wp-content/uploads/2011/12/us_regions.jpg',\n",
    "    '#',\n",
    "    'taxonomy CEN Census_Regions',\n",
    "    '(USA Northeast Midwest South West)',\n",
    "    'taxonomy NDC National_Diversity_Council',\n",
    "    '(USA Midwest Northeast Southeast Southwest West)',\n",
    "    'articulations CEN NDC',\n",
    "    '[CEN.USA equals NDC.USA]',\n",
    "    '[CEN.West includes NDC.West]',\n",
    "    '[CEN.West disjoint NDC.Northeast]',\n",
    "    '[CEN.South overlaps NDC.Southwest]',\n",
    "    '[CEN.South includes NDC.Southeast]',\n",
    "    '[CEN.Midwest equals NDC.Midwest]',\n",
    "    '[CEN.Northeast is_included_in NDC.Northeast]',\n",
    "    '']"
   ]
  },
  {
   "cell_type": "code",
   "execution_count": 28,
   "metadata": {},
   "outputs": [],
   "source": [
    "cleantax_file = [\n",
    "    'taxonomy CEN Census_Regions',\n",
    "    '(USA Midwest South West Northeast)',\n",
    "    'taxonomy TZ Time_Zone',\n",
    "    '(USA Pacific Mountain Central Eastern)',\n",
    "    'articulations CEN TZ',\n",
    "    '[CEN.Midwest disjoint TZ.Pacific]',\n",
    "    '[CEN.Midwest overlaps TZ.Eastern]',\n",
    "    '[CEN.Midwest overlaps TZ.Mountain]',\n",
    "    '[CEN.Northeast is_included_in TZ.Eastern]',\n",
    "    '[CEN.South disjoint TZ.Pacific]',\n",
    "    '[CEN.South overlaps TZ.Central]',\n",
    "    '[CEN.South overlaps TZ.Eastern]',\n",
    "    '[CEN.South overlaps TZ.Mountain]',\n",
    "    '[CEN.USA equals TZ.USA]',\n",
    "    '[CEN.West disjoint TZ.Central]',\n",
    "    '[CEN.West disjoint TZ.Eastern]',\n",
    "    '[CEN.West overlaps TZ.Mountain]',\n",
    "    '']"
   ]
  },
  {
   "cell_type": "code",
   "execution_count": 52,
   "metadata": {},
   "outputs": [],
   "source": [
    " cleantax_file = [\n",
    "    'taxonomy NDC National_Diversity_Council',\n",
    "    '(USA Midwest Northeast Southeast Southwest West)',\n",
    "    'taxonomy TZ Time_Zone',\n",
    "    '(USA Pacific Mountain Central Eastern)',\n",
    "    'articulations NDC TZ',\n",
    "    '[NDC.Midwest overlaps TZ.Eastern]',\n",
    "    '[NDC.Midwest overlaps TZ.Mountain]',\n",
    "    '[NDC.USA equals TZ.USA]',\n",
    "    '[NDC.Southwest overlaps TZ.Mountain]',\n",
    "    '[NDC.Southeast disjoint TZ.Mountain]',\n",
    "    '[NDC.West disjoint TZ.Central]',\n",
    "    '[NDC.Southeast overlaps TZ.Central]',\n",
    "    '[NDC.Midwest overlaps TZ.Central]',\n",
    "    '[NDC.Northeast is_included_in TZ.Eastern]',\n",
    "    '[NDC.Southwest disjoint TZ.Eastern]',\n",
    "    '[NDC.West includes TZ.Pacific]',\n",
    "    '[NDC.West disjoint TZ.Eastern]',\n",
    "    '']"
   ]
  },
  {
   "cell_type": "code",
   "execution_count": null,
   "metadata": {},
   "outputs": [],
   "source": []
  },
  {
   "cell_type": "code",
   "execution_count": 53,
   "metadata": {},
   "outputs": [],
   "source": [
    "gt_rel_data, tax_data = LeanEuler.parse_cleantax(cleantax_file)"
   ]
  },
  {
   "cell_type": "code",
   "execution_count": 54,
   "metadata": {
    "scrolled": true
   },
   "outputs": [
    {
     "data": {
      "text/html": [
       "<div>\n",
       "<style scoped>\n",
       "    .dataframe tbody tr th:only-of-type {\n",
       "        vertical-align: middle;\n",
       "    }\n",
       "\n",
       "    .dataframe tbody tr th {\n",
       "        vertical-align: top;\n",
       "    }\n",
       "\n",
       "    .dataframe thead th {\n",
       "        text-align: right;\n",
       "    }\n",
       "</style>\n",
       "<table border=\"1\" class=\"dataframe\">\n",
       "  <thead>\n",
       "    <tr style=\"text-align: right;\">\n",
       "      <th></th>\n",
       "      <th>Node1</th>\n",
       "      <th>Relation</th>\n",
       "      <th>Node2</th>\n",
       "    </tr>\n",
       "  </thead>\n",
       "  <tbody>\n",
       "    <tr>\n",
       "      <th>0</th>\n",
       "      <td>\"NDC_USA\"</td>\n",
       "      <td>parent</td>\n",
       "      <td>\"NDC_Midwest\"</td>\n",
       "    </tr>\n",
       "    <tr>\n",
       "      <th>1</th>\n",
       "      <td>\"NDC_USA\"</td>\n",
       "      <td>parent</td>\n",
       "      <td>\"NDC_Northeast\"</td>\n",
       "    </tr>\n",
       "    <tr>\n",
       "      <th>2</th>\n",
       "      <td>\"NDC_USA\"</td>\n",
       "      <td>parent</td>\n",
       "      <td>\"NDC_Southeast\"</td>\n",
       "    </tr>\n",
       "    <tr>\n",
       "      <th>3</th>\n",
       "      <td>\"NDC_USA\"</td>\n",
       "      <td>parent</td>\n",
       "      <td>\"NDC_Southwest\"</td>\n",
       "    </tr>\n",
       "    <tr>\n",
       "      <th>4</th>\n",
       "      <td>\"NDC_USA\"</td>\n",
       "      <td>parent</td>\n",
       "      <td>\"NDC_West\"</td>\n",
       "    </tr>\n",
       "    <tr>\n",
       "      <th>5</th>\n",
       "      <td>\"TZ_USA\"</td>\n",
       "      <td>parent</td>\n",
       "      <td>\"TZ_Pacific\"</td>\n",
       "    </tr>\n",
       "    <tr>\n",
       "      <th>6</th>\n",
       "      <td>\"TZ_USA\"</td>\n",
       "      <td>parent</td>\n",
       "      <td>\"TZ_Mountain\"</td>\n",
       "    </tr>\n",
       "    <tr>\n",
       "      <th>7</th>\n",
       "      <td>\"TZ_USA\"</td>\n",
       "      <td>parent</td>\n",
       "      <td>\"TZ_Central\"</td>\n",
       "    </tr>\n",
       "    <tr>\n",
       "      <th>8</th>\n",
       "      <td>\"TZ_USA\"</td>\n",
       "      <td>parent</td>\n",
       "      <td>\"TZ_Eastern\"</td>\n",
       "    </tr>\n",
       "    <tr>\n",
       "      <th>9</th>\n",
       "      <td>\"NDC_Midwest\"</td>\n",
       "      <td>o</td>\n",
       "      <td>\"TZ_Eastern\"</td>\n",
       "    </tr>\n",
       "    <tr>\n",
       "      <th>10</th>\n",
       "      <td>\"NDC_Midwest\"</td>\n",
       "      <td>o</td>\n",
       "      <td>\"TZ_Mountain\"</td>\n",
       "    </tr>\n",
       "    <tr>\n",
       "      <th>11</th>\n",
       "      <td>\"NDC_USA\"</td>\n",
       "      <td>=</td>\n",
       "      <td>\"TZ_USA\"</td>\n",
       "    </tr>\n",
       "    <tr>\n",
       "      <th>12</th>\n",
       "      <td>\"NDC_Southwest\"</td>\n",
       "      <td>o</td>\n",
       "      <td>\"TZ_Mountain\"</td>\n",
       "    </tr>\n",
       "    <tr>\n",
       "      <th>13</th>\n",
       "      <td>\"NDC_Southeast\"</td>\n",
       "      <td>!</td>\n",
       "      <td>\"TZ_Mountain\"</td>\n",
       "    </tr>\n",
       "    <tr>\n",
       "      <th>14</th>\n",
       "      <td>\"NDC_West\"</td>\n",
       "      <td>!</td>\n",
       "      <td>\"TZ_Central\"</td>\n",
       "    </tr>\n",
       "    <tr>\n",
       "      <th>15</th>\n",
       "      <td>\"NDC_Southeast\"</td>\n",
       "      <td>o</td>\n",
       "      <td>\"TZ_Central\"</td>\n",
       "    </tr>\n",
       "    <tr>\n",
       "      <th>16</th>\n",
       "      <td>\"NDC_Midwest\"</td>\n",
       "      <td>o</td>\n",
       "      <td>\"TZ_Central\"</td>\n",
       "    </tr>\n",
       "    <tr>\n",
       "      <th>17</th>\n",
       "      <td>\"NDC_Northeast\"</td>\n",
       "      <td>&lt;</td>\n",
       "      <td>\"TZ_Eastern\"</td>\n",
       "    </tr>\n",
       "    <tr>\n",
       "      <th>18</th>\n",
       "      <td>\"NDC_Southwest\"</td>\n",
       "      <td>!</td>\n",
       "      <td>\"TZ_Eastern\"</td>\n",
       "    </tr>\n",
       "    <tr>\n",
       "      <th>19</th>\n",
       "      <td>\"NDC_West\"</td>\n",
       "      <td>&gt;</td>\n",
       "      <td>\"TZ_Pacific\"</td>\n",
       "    </tr>\n",
       "    <tr>\n",
       "      <th>20</th>\n",
       "      <td>\"NDC_West\"</td>\n",
       "      <td>!</td>\n",
       "      <td>\"TZ_Eastern\"</td>\n",
       "    </tr>\n",
       "  </tbody>\n",
       "</table>\n",
       "</div>"
      ],
      "text/plain": [
       "              Node1 Relation            Node2\n",
       "0         \"NDC_USA\"   parent    \"NDC_Midwest\"\n",
       "1         \"NDC_USA\"   parent  \"NDC_Northeast\"\n",
       "2         \"NDC_USA\"   parent  \"NDC_Southeast\"\n",
       "3         \"NDC_USA\"   parent  \"NDC_Southwest\"\n",
       "4         \"NDC_USA\"   parent       \"NDC_West\"\n",
       "5          \"TZ_USA\"   parent     \"TZ_Pacific\"\n",
       "6          \"TZ_USA\"   parent    \"TZ_Mountain\"\n",
       "7          \"TZ_USA\"   parent     \"TZ_Central\"\n",
       "8          \"TZ_USA\"   parent     \"TZ_Eastern\"\n",
       "9     \"NDC_Midwest\"        o     \"TZ_Eastern\"\n",
       "10    \"NDC_Midwest\"        o    \"TZ_Mountain\"\n",
       "11        \"NDC_USA\"        =         \"TZ_USA\"\n",
       "12  \"NDC_Southwest\"        o    \"TZ_Mountain\"\n",
       "13  \"NDC_Southeast\"        !    \"TZ_Mountain\"\n",
       "14       \"NDC_West\"        !     \"TZ_Central\"\n",
       "15  \"NDC_Southeast\"        o     \"TZ_Central\"\n",
       "16    \"NDC_Midwest\"        o     \"TZ_Central\"\n",
       "17  \"NDC_Northeast\"        <     \"TZ_Eastern\"\n",
       "18  \"NDC_Southwest\"        !     \"TZ_Eastern\"\n",
       "19       \"NDC_West\"        >     \"TZ_Pacific\"\n",
       "20       \"NDC_West\"        !     \"TZ_Eastern\""
      ]
     },
     "execution_count": 54,
     "metadata": {},
     "output_type": "execute_result"
    }
   ],
   "source": [
    "gt_rel_data"
   ]
  },
  {
   "cell_type": "code",
   "execution_count": 55,
   "metadata": {},
   "outputs": [],
   "source": [
    "#tax_data"
   ]
  },
  {
   "cell_type": "code",
   "execution_count": 56,
   "metadata": {},
   "outputs": [],
   "source": [
    "gt_rules = LeanEuler.gen_asp_rules(gt_rel_data, tax_data, encoding='mnpw')"
   ]
  },
  {
   "cell_type": "code",
   "execution_count": 57,
   "metadata": {},
   "outputs": [
    {
     "name": "stdout",
     "output_type": "stream",
     "text": [
      "r(1..29).\n",
      "\n",
      "% Region Meanings\n",
      "in(X, M) :- r(M), concept(X, T, N), N1=N+1, bit(M, T, N1).\n",
      "out(X, M) :- r(M), concept(X, T, N), N1=N+1, not bit(M, T, N1).\n",
      "in(X, M) :- r(M), concept2(X, _), not out(X, M).\n",
      "irs(M) :- in(X, M), out(X, M), r(M), concept2(X, _).\n",
      "\n",
      "% Region Constraints\n",
      "irs(X) :- ir(X, _).\n",
      "vrs(X) :- vr(X, _).\n",
      "vr(X, X) :- not irs(X), r(X).\n",
      "ir(X, X) :- not vrs(X), r(X).\n",
      ":- vrs(X), irs(X).\n",
      "\n",
      "concept2(A, B) :- concept(A,B,_).\n",
      "\n",
      "% Taxonomy Description\n",
      "\n",
      "%  Euler Bit\n",
      "bit(M, 0, V) :- r(M), M1=M/1, V = M1 \\ 6.\n",
      "\n",
      "%  Euler Bit\n",
      "bit(M, 1, V) :- r(M), M1=M/6, V = M1 \\ 5.\n",
      "\n",
      "concept2(\"NDC_USA\", 0).\n",
      "concept(\"NDC_Midwest\", 0, 0).\n",
      "concept(\"NDC_Northeast\", 0, 1).\n",
      "concept(\"NDC_Southeast\", 0, 2).\n",
      "concept(\"NDC_Southwest\", 0, 3).\n",
      "concept(\"NDC_West\", 0, 4).\n",
      "concept2(\"TZ_USA\", 1).\n",
      "concept(\"TZ_Pacific\", 1, 0).\n",
      "concept(\"TZ_Mountain\", 1, 1).\n",
      "concept(\"TZ_Central\", 1, 2).\n",
      "concept(\"TZ_Eastern\", 1, 3).\n",
      "\n",
      "% \"NDC_Midwest\" isa \"NDC_USA\"\n",
      "ir(X, r2579) :- in(\"NDC_Midwest\", X), out(\"NDC_USA\", X).\n",
      ":- #count {X : vrs(X), in(\"NDC_Midwest\", X), in(\"NDC_USA\", X)} = 0.\n",
      "\n",
      "% \"NDC_Northeast\" isa \"NDC_USA\"\n",
      "ir(X, r2580) :- in(\"NDC_Northeast\", X), out(\"NDC_USA\", X).\n",
      ":- #count {X : vrs(X), in(\"NDC_Northeast\", X), in(\"NDC_USA\", X)} = 0.\n",
      "\n",
      "% \"NDC_Southeast\" isa \"NDC_USA\"\n",
      "ir(X, r2581) :- in(\"NDC_Southeast\", X), out(\"NDC_USA\", X).\n",
      ":- #count {X : vrs(X), in(\"NDC_Southeast\", X), in(\"NDC_USA\", X)} = 0.\n",
      "\n",
      "% \"NDC_Southwest\" isa \"NDC_USA\"\n",
      "ir(X, r2582) :- in(\"NDC_Southwest\", X), out(\"NDC_USA\", X).\n",
      ":- #count {X : vrs(X), in(\"NDC_Southwest\", X), in(\"NDC_USA\", X)} = 0.\n",
      "\n",
      "% \"NDC_West\" isa \"NDC_USA\"\n",
      "ir(X, r2583) :- in(\"NDC_West\", X), out(\"NDC_USA\", X).\n",
      ":- #count {X : vrs(X), in(\"NDC_West\", X), in(\"NDC_USA\", X)} = 0.\n",
      "\n",
      "% \"TZ_Pacific\" isa \"TZ_USA\"\n",
      "ir(X, r2590) :- in(\"TZ_Pacific\", X), out(\"TZ_USA\", X).\n",
      ":- #count {X : vrs(X), in(\"TZ_Pacific\", X), in(\"TZ_USA\", X)} = 0.\n",
      "\n",
      "% \"TZ_Mountain\" isa \"TZ_USA\"\n",
      "ir(X, r2591) :- in(\"TZ_Mountain\", X), out(\"TZ_USA\", X).\n",
      ":- #count {X : vrs(X), in(\"TZ_Mountain\", X), in(\"TZ_USA\", X)} = 0.\n",
      "\n",
      "% \"TZ_Central\" isa \"TZ_USA\"\n",
      "ir(X, r2592) :- in(\"TZ_Central\", X), out(\"TZ_USA\", X).\n",
      ":- #count {X : vrs(X), in(\"TZ_Central\", X), in(\"TZ_USA\", X)} = 0.\n",
      "\n",
      "% \"TZ_Eastern\" isa \"TZ_USA\"\n",
      "ir(X, r2593) :- in(\"TZ_Eastern\", X), out(\"TZ_USA\", X).\n",
      ":- #count {X : vrs(X), in(\"TZ_Eastern\", X), in(\"TZ_USA\", X)} = 0.\n",
      "\n",
      "% Coverage for \"NDC_USA\"\n",
      "out(\"NDC_USA\", X) :- out(\"NDC_Midwest\", X), out(\"NDC_Northeast\", X), out(\"NDC_Southeast\", X), out(\"NDC_Southwest\", X), out(\"NDC_West\", X).\n",
      "\n",
      "% Coverage for \"TZ_USA\"\n",
      "out(\"TZ_USA\", X) :- out(\"TZ_Pacific\", X), out(\"TZ_Mountain\", X), out(\"TZ_Central\", X), out(\"TZ_Eastern\", X).\n",
      "\n",
      "% \"NDC_Midwest\" ! \"NDC_Northeast\"\n",
      "ir(X, r2569) :- in(\"NDC_Midwest\", X), in(\"NDC_Northeast\", X).\n",
      ":- #count {X : vrs(X), in(\"NDC_Midwest\", X), out(\"NDC_Northeast\", X)} = 0.\n",
      ":- #count {X : vrs(X), in(\"NDC_Northeast\", X), out(\"NDC_Midwest\", X)} = 0.\n",
      "\n",
      "% \"NDC_Midwest\" ! \"NDC_Southeast\"\n",
      "ir(X, r2570) :- in(\"NDC_Midwest\", X), in(\"NDC_Southeast\", X).\n",
      ":- #count {X : vrs(X), in(\"NDC_Midwest\", X), out(\"NDC_Southeast\", X)} = 0.\n",
      ":- #count {X : vrs(X), in(\"NDC_Southeast\", X), out(\"NDC_Midwest\", X)} = 0.\n",
      "\n",
      "% \"NDC_Midwest\" ! \"NDC_Southwest\"\n",
      "ir(X, r2571) :- in(\"NDC_Midwest\", X), in(\"NDC_Southwest\", X).\n",
      ":- #count {X : vrs(X), in(\"NDC_Midwest\", X), out(\"NDC_Southwest\", X)} = 0.\n",
      ":- #count {X : vrs(X), in(\"NDC_Southwest\", X), out(\"NDC_Midwest\", X)} = 0.\n",
      "\n",
      "% \"NDC_Midwest\" ! \"NDC_West\"\n",
      "ir(X, r2572) :- in(\"NDC_Midwest\", X), in(\"NDC_West\", X).\n",
      ":- #count {X : vrs(X), in(\"NDC_Midwest\", X), out(\"NDC_West\", X)} = 0.\n",
      ":- #count {X : vrs(X), in(\"NDC_West\", X), out(\"NDC_Midwest\", X)} = 0.\n",
      "\n",
      "% \"NDC_Northeast\" ! \"NDC_Southeast\"\n",
      "ir(X, r2573) :- in(\"NDC_Northeast\", X), in(\"NDC_Southeast\", X).\n",
      ":- #count {X : vrs(X), in(\"NDC_Northeast\", X), out(\"NDC_Southeast\", X)} = 0.\n",
      ":- #count {X : vrs(X), in(\"NDC_Southeast\", X), out(\"NDC_Northeast\", X)} = 0.\n",
      "\n",
      "% \"NDC_Northeast\" ! \"NDC_Southwest\"\n",
      "ir(X, r2574) :- in(\"NDC_Northeast\", X), in(\"NDC_Southwest\", X).\n",
      ":- #count {X : vrs(X), in(\"NDC_Northeast\", X), out(\"NDC_Southwest\", X)} = 0.\n",
      ":- #count {X : vrs(X), in(\"NDC_Southwest\", X), out(\"NDC_Northeast\", X)} = 0.\n",
      "\n",
      "% \"NDC_Northeast\" ! \"NDC_West\"\n",
      "ir(X, r2575) :- in(\"NDC_Northeast\", X), in(\"NDC_West\", X).\n",
      ":- #count {X : vrs(X), in(\"NDC_Northeast\", X), out(\"NDC_West\", X)} = 0.\n",
      ":- #count {X : vrs(X), in(\"NDC_West\", X), out(\"NDC_Northeast\", X)} = 0.\n",
      "\n",
      "% \"NDC_Southeast\" ! \"NDC_Southwest\"\n",
      "ir(X, r2576) :- in(\"NDC_Southeast\", X), in(\"NDC_Southwest\", X).\n",
      ":- #count {X : vrs(X), in(\"NDC_Southeast\", X), out(\"NDC_Southwest\", X)} = 0.\n",
      ":- #count {X : vrs(X), in(\"NDC_Southwest\", X), out(\"NDC_Southeast\", X)} = 0.\n",
      "\n",
      "% \"NDC_Southeast\" ! \"NDC_West\"\n",
      "ir(X, r2577) :- in(\"NDC_Southeast\", X), in(\"NDC_West\", X).\n",
      ":- #count {X : vrs(X), in(\"NDC_Southeast\", X), out(\"NDC_West\", X)} = 0.\n",
      ":- #count {X : vrs(X), in(\"NDC_West\", X), out(\"NDC_Southeast\", X)} = 0.\n",
      "\n",
      "% \"NDC_Southwest\" ! \"NDC_West\"\n",
      "ir(X, r2578) :- in(\"NDC_Southwest\", X), in(\"NDC_West\", X).\n",
      ":- #count {X : vrs(X), in(\"NDC_Southwest\", X), out(\"NDC_West\", X)} = 0.\n",
      ":- #count {X : vrs(X), in(\"NDC_West\", X), out(\"NDC_Southwest\", X)} = 0.\n",
      "\n",
      "% \"TZ_Pacific\" ! \"TZ_Mountain\"\n",
      "ir(X, r2584) :- in(\"TZ_Pacific\", X), in(\"TZ_Mountain\", X).\n",
      ":- #count {X : vrs(X), in(\"TZ_Pacific\", X), out(\"TZ_Mountain\", X)} = 0.\n",
      ":- #count {X : vrs(X), in(\"TZ_Mountain\", X), out(\"TZ_Pacific\", X)} = 0.\n",
      "\n",
      "% \"TZ_Pacific\" ! \"TZ_Central\"\n",
      "ir(X, r2585) :- in(\"TZ_Pacific\", X), in(\"TZ_Central\", X).\n",
      ":- #count {X : vrs(X), in(\"TZ_Pacific\", X), out(\"TZ_Central\", X)} = 0.\n",
      ":- #count {X : vrs(X), in(\"TZ_Central\", X), out(\"TZ_Pacific\", X)} = 0.\n",
      "\n",
      "% \"TZ_Pacific\" ! \"TZ_Eastern\"\n",
      "ir(X, r2586) :- in(\"TZ_Pacific\", X), in(\"TZ_Eastern\", X).\n",
      ":- #count {X : vrs(X), in(\"TZ_Pacific\", X), out(\"TZ_Eastern\", X)} = 0.\n",
      ":- #count {X : vrs(X), in(\"TZ_Eastern\", X), out(\"TZ_Pacific\", X)} = 0.\n",
      "\n",
      "% \"TZ_Mountain\" ! \"TZ_Central\"\n",
      "ir(X, r2587) :- in(\"TZ_Mountain\", X), in(\"TZ_Central\", X).\n",
      ":- #count {X : vrs(X), in(\"TZ_Mountain\", X), out(\"TZ_Central\", X)} = 0.\n",
      ":- #count {X : vrs(X), in(\"TZ_Central\", X), out(\"TZ_Mountain\", X)} = 0.\n",
      "\n",
      "% \"TZ_Mountain\" ! \"TZ_Eastern\"\n",
      "ir(X, r2588) :- in(\"TZ_Mountain\", X), in(\"TZ_Eastern\", X).\n",
      ":- #count {X : vrs(X), in(\"TZ_Mountain\", X), out(\"TZ_Eastern\", X)} = 0.\n",
      ":- #count {X : vrs(X), in(\"TZ_Eastern\", X), out(\"TZ_Mountain\", X)} = 0.\n",
      "\n",
      "% \"TZ_Central\" ! \"TZ_Eastern\"\n",
      "ir(X, r2589) :- in(\"TZ_Central\", X), in(\"TZ_Eastern\", X).\n",
      ":- #count {X : vrs(X), in(\"TZ_Central\", X), out(\"TZ_Eastern\", X)} = 0.\n",
      ":- #count {X : vrs(X), in(\"TZ_Eastern\", X), out(\"TZ_Central\", X)} = 0.\n",
      "\n",
      "% Articulations\n",
      "\n",
      "% \"NDC_Midwest\" ['o'] \"TZ_Eastern\"\n",
      ":- #count {A : vrs(A), in(\"NDC_Midwest\", A), out(\"TZ_Eastern\", A)} = 0,\n",
      "   #count {B : vrs(B), in(\"NDC_Midwest\", B), in(\"TZ_Eastern\", B)} > 0,\n",
      "   #count {C : vrs(C), out(\"NDC_Midwest\", C), in(\"TZ_Eastern\", C)} = 0.\n",
      ":- #count {A : vrs(A), in(\"NDC_Midwest\", A), out(\"TZ_Eastern\", A)} > 0,\n",
      "   #count {B : vrs(B), in(\"NDC_Midwest\", B), in(\"TZ_Eastern\", B)} = 0,\n",
      "   #count {C : vrs(C), out(\"NDC_Midwest\", C), in(\"TZ_Eastern\", C)} > 0.\n",
      ":- #count {A : vrs(A), in(\"NDC_Midwest\", A), out(\"TZ_Eastern\", A)} = 0,\n",
      "   #count {B : vrs(B), in(\"NDC_Midwest\", B), in(\"TZ_Eastern\", B)} > 0,\n",
      "   #count {C : vrs(C), out(\"NDC_Midwest\", C), in(\"TZ_Eastern\", C)} > 0.\n",
      ":- #count {A : vrs(A), in(\"NDC_Midwest\", A), out(\"TZ_Eastern\", A)} > 0,\n",
      "   #count {B : vrs(B), in(\"NDC_Midwest\", B), in(\"TZ_Eastern\", B)} > 0,\n",
      "   #count {C : vrs(C), out(\"NDC_Midwest\", C), in(\"TZ_Eastern\", C)} = 0.\n",
      ":- #count {X : vrs(X), in(\"NDC_Midwest\", X), out(\"TZ_Eastern\", X)} = 0.\n",
      ":- #count {X : vrs(X), in(\"NDC_Midwest\", X), in(\"TZ_Eastern\", X)} = 0.\n",
      ":- #count {X : vrs(X), out(\"NDC_Midwest\", X), in(\"TZ_Eastern\", X)} = 0.\n",
      "\n",
      "% \"NDC_Midwest\" ['o'] \"TZ_Mountain\"\n",
      ":- #count {A : vrs(A), in(\"NDC_Midwest\", A), out(\"TZ_Mountain\", A)} = 0,\n",
      "   #count {B : vrs(B), in(\"NDC_Midwest\", B), in(\"TZ_Mountain\", B)} > 0,\n",
      "   #count {C : vrs(C), out(\"NDC_Midwest\", C), in(\"TZ_Mountain\", C)} = 0.\n",
      ":- #count {A : vrs(A), in(\"NDC_Midwest\", A), out(\"TZ_Mountain\", A)} > 0,\n",
      "   #count {B : vrs(B), in(\"NDC_Midwest\", B), in(\"TZ_Mountain\", B)} = 0,\n",
      "   #count {C : vrs(C), out(\"NDC_Midwest\", C), in(\"TZ_Mountain\", C)} > 0.\n",
      ":- #count {A : vrs(A), in(\"NDC_Midwest\", A), out(\"TZ_Mountain\", A)} = 0,\n",
      "   #count {B : vrs(B), in(\"NDC_Midwest\", B), in(\"TZ_Mountain\", B)} > 0,\n",
      "   #count {C : vrs(C), out(\"NDC_Midwest\", C), in(\"TZ_Mountain\", C)} > 0.\n",
      ":- #count {A : vrs(A), in(\"NDC_Midwest\", A), out(\"TZ_Mountain\", A)} > 0,\n",
      "   #count {B : vrs(B), in(\"NDC_Midwest\", B), in(\"TZ_Mountain\", B)} > 0,\n",
      "   #count {C : vrs(C), out(\"NDC_Midwest\", C), in(\"TZ_Mountain\", C)} = 0.\n",
      ":- #count {X : vrs(X), in(\"NDC_Midwest\", X), out(\"TZ_Mountain\", X)} = 0.\n",
      ":- #count {X : vrs(X), in(\"NDC_Midwest\", X), in(\"TZ_Mountain\", X)} = 0.\n",
      ":- #count {X : vrs(X), out(\"NDC_Midwest\", X), in(\"TZ_Mountain\", X)} = 0.\n",
      "\n",
      "% \"NDC_USA\" ['='] \"TZ_USA\"\n",
      ":- #count {A : vrs(A), in(\"NDC_USA\", A), out(\"TZ_USA\", A)} > 0,\n",
      "   #count {B : vrs(B), in(\"NDC_USA\", B), in(\"TZ_USA\", B)} = 0,\n",
      "   #count {C : vrs(C), out(\"NDC_USA\", C), in(\"TZ_USA\", C)} > 0.\n",
      ":- #count {A : vrs(A), in(\"NDC_USA\", A), out(\"TZ_USA\", A)} = 0,\n",
      "   #count {B : vrs(B), in(\"NDC_USA\", B), in(\"TZ_USA\", B)} > 0,\n",
      "   #count {C : vrs(C), out(\"NDC_USA\", C), in(\"TZ_USA\", C)} > 0.\n",
      ":- #count {A : vrs(A), in(\"NDC_USA\", A), out(\"TZ_USA\", A)} > 0,\n",
      "   #count {B : vrs(B), in(\"NDC_USA\", B), in(\"TZ_USA\", B)} > 0,\n",
      "   #count {C : vrs(C), out(\"NDC_USA\", C), in(\"TZ_USA\", C)} > 0.\n",
      ":- #count {A : vrs(A), in(\"NDC_USA\", A), out(\"TZ_USA\", A)} > 0,\n",
      "   #count {B : vrs(B), in(\"NDC_USA\", B), in(\"TZ_USA\", B)} > 0,\n",
      "   #count {C : vrs(C), out(\"NDC_USA\", C), in(\"TZ_USA\", C)} = 0.\n",
      "ir(X, r2594) :- in(\"NDC_USA\", X), out(\"TZ_USA\", X).\n",
      ":- #count {X : vrs(X), in(\"NDC_USA\", X), in(\"TZ_USA\", X)} = 0.\n",
      "ir(X, r2594) :- out(\"NDC_USA\", X), in(\"TZ_USA\", X).\n",
      "\n",
      "% \"NDC_Southwest\" ['o'] \"TZ_Mountain\"\n",
      ":- #count {A : vrs(A), in(\"NDC_Southwest\", A), out(\"TZ_Mountain\", A)} = 0,\n",
      "   #count {B : vrs(B), in(\"NDC_Southwest\", B), in(\"TZ_Mountain\", B)} > 0,\n",
      "   #count {C : vrs(C), out(\"NDC_Southwest\", C), in(\"TZ_Mountain\", C)} = 0.\n",
      ":- #count {A : vrs(A), in(\"NDC_Southwest\", A), out(\"TZ_Mountain\", A)} > 0,\n",
      "   #count {B : vrs(B), in(\"NDC_Southwest\", B), in(\"TZ_Mountain\", B)} = 0,\n",
      "   #count {C : vrs(C), out(\"NDC_Southwest\", C), in(\"TZ_Mountain\", C)} > 0.\n",
      ":- #count {A : vrs(A), in(\"NDC_Southwest\", A), out(\"TZ_Mountain\", A)} = 0,\n",
      "   #count {B : vrs(B), in(\"NDC_Southwest\", B), in(\"TZ_Mountain\", B)} > 0,\n",
      "   #count {C : vrs(C), out(\"NDC_Southwest\", C), in(\"TZ_Mountain\", C)} > 0.\n",
      ":- #count {A : vrs(A), in(\"NDC_Southwest\", A), out(\"TZ_Mountain\", A)} > 0,\n",
      "   #count {B : vrs(B), in(\"NDC_Southwest\", B), in(\"TZ_Mountain\", B)} > 0,\n",
      "   #count {C : vrs(C), out(\"NDC_Southwest\", C), in(\"TZ_Mountain\", C)} = 0.\n",
      ":- #count {X : vrs(X), in(\"NDC_Southwest\", X), out(\"TZ_Mountain\", X)} = 0.\n",
      ":- #count {X : vrs(X), in(\"NDC_Southwest\", X), in(\"TZ_Mountain\", X)} = 0.\n",
      ":- #count {X : vrs(X), out(\"NDC_Southwest\", X), in(\"TZ_Mountain\", X)} = 0.\n",
      "\n",
      "% \"NDC_Southeast\" ['!'] \"TZ_Mountain\"\n",
      ":- #count {A : vrs(A), in(\"NDC_Southeast\", A), out(\"TZ_Mountain\", A)} = 0,\n",
      "   #count {B : vrs(B), in(\"NDC_Southeast\", B), in(\"TZ_Mountain\", B)} > 0,\n",
      "   #count {C : vrs(C), out(\"NDC_Southeast\", C), in(\"TZ_Mountain\", C)} = 0.\n",
      ":- #count {A : vrs(A), in(\"NDC_Southeast\", A), out(\"TZ_Mountain\", A)} = 0,\n",
      "   #count {B : vrs(B), in(\"NDC_Southeast\", B), in(\"TZ_Mountain\", B)} > 0,\n",
      "   #count {C : vrs(C), out(\"NDC_Southeast\", C), in(\"TZ_Mountain\", C)} > 0.\n",
      ":- #count {A : vrs(A), in(\"NDC_Southeast\", A), out(\"TZ_Mountain\", A)} > 0,\n",
      "   #count {B : vrs(B), in(\"NDC_Southeast\", B), in(\"TZ_Mountain\", B)} > 0,\n",
      "   #count {C : vrs(C), out(\"NDC_Southeast\", C), in(\"TZ_Mountain\", C)} > 0.\n",
      ":- #count {A : vrs(A), in(\"NDC_Southeast\", A), out(\"TZ_Mountain\", A)} > 0,\n",
      "   #count {B : vrs(B), in(\"NDC_Southeast\", B), in(\"TZ_Mountain\", B)} > 0,\n",
      "   #count {C : vrs(C), out(\"NDC_Southeast\", C), in(\"TZ_Mountain\", C)} = 0.\n",
      ":- #count {X : vrs(X), in(\"NDC_Southeast\", X), out(\"TZ_Mountain\", X)} = 0.\n",
      "ir(X, r2595) :- in(\"NDC_Southeast\", X), in(\"TZ_Mountain\", X).\n",
      ":- #count {X : vrs(X), out(\"NDC_Southeast\", X), in(\"TZ_Mountain\", X)} = 0.\n",
      "\n",
      "% \"NDC_West\" ['!'] \"TZ_Central\"\n",
      ":- #count {A : vrs(A), in(\"NDC_West\", A), out(\"TZ_Central\", A)} = 0,\n",
      "   #count {B : vrs(B), in(\"NDC_West\", B), in(\"TZ_Central\", B)} > 0,\n",
      "   #count {C : vrs(C), out(\"NDC_West\", C), in(\"TZ_Central\", C)} = 0.\n",
      ":- #count {A : vrs(A), in(\"NDC_West\", A), out(\"TZ_Central\", A)} = 0,\n",
      "   #count {B : vrs(B), in(\"NDC_West\", B), in(\"TZ_Central\", B)} > 0,\n",
      "   #count {C : vrs(C), out(\"NDC_West\", C), in(\"TZ_Central\", C)} > 0.\n",
      ":- #count {A : vrs(A), in(\"NDC_West\", A), out(\"TZ_Central\", A)} > 0,\n",
      "   #count {B : vrs(B), in(\"NDC_West\", B), in(\"TZ_Central\", B)} > 0,\n",
      "   #count {C : vrs(C), out(\"NDC_West\", C), in(\"TZ_Central\", C)} > 0.\n",
      ":- #count {A : vrs(A), in(\"NDC_West\", A), out(\"TZ_Central\", A)} > 0,\n",
      "   #count {B : vrs(B), in(\"NDC_West\", B), in(\"TZ_Central\", B)} > 0,\n",
      "   #count {C : vrs(C), out(\"NDC_West\", C), in(\"TZ_Central\", C)} = 0.\n",
      ":- #count {X : vrs(X), in(\"NDC_West\", X), out(\"TZ_Central\", X)} = 0.\n",
      "ir(X, r2596) :- in(\"NDC_West\", X), in(\"TZ_Central\", X).\n",
      ":- #count {X : vrs(X), out(\"NDC_West\", X), in(\"TZ_Central\", X)} = 0.\n",
      "\n",
      "% \"NDC_Southeast\" ['o'] \"TZ_Central\"\n",
      ":- #count {A : vrs(A), in(\"NDC_Southeast\", A), out(\"TZ_Central\", A)} = 0,\n",
      "   #count {B : vrs(B), in(\"NDC_Southeast\", B), in(\"TZ_Central\", B)} > 0,\n",
      "   #count {C : vrs(C), out(\"NDC_Southeast\", C), in(\"TZ_Central\", C)} = 0.\n",
      ":- #count {A : vrs(A), in(\"NDC_Southeast\", A), out(\"TZ_Central\", A)} > 0,\n",
      "   #count {B : vrs(B), in(\"NDC_Southeast\", B), in(\"TZ_Central\", B)} = 0,\n",
      "   #count {C : vrs(C), out(\"NDC_Southeast\", C), in(\"TZ_Central\", C)} > 0.\n",
      ":- #count {A : vrs(A), in(\"NDC_Southeast\", A), out(\"TZ_Central\", A)} = 0,\n",
      "   #count {B : vrs(B), in(\"NDC_Southeast\", B), in(\"TZ_Central\", B)} > 0,\n",
      "   #count {C : vrs(C), out(\"NDC_Southeast\", C), in(\"TZ_Central\", C)} > 0.\n",
      ":- #count {A : vrs(A), in(\"NDC_Southeast\", A), out(\"TZ_Central\", A)} > 0,\n",
      "   #count {B : vrs(B), in(\"NDC_Southeast\", B), in(\"TZ_Central\", B)} > 0,\n",
      "   #count {C : vrs(C), out(\"NDC_Southeast\", C), in(\"TZ_Central\", C)} = 0.\n",
      ":- #count {X : vrs(X), in(\"NDC_Southeast\", X), out(\"TZ_Central\", X)} = 0.\n",
      ":- #count {X : vrs(X), in(\"NDC_Southeast\", X), in(\"TZ_Central\", X)} = 0.\n",
      ":- #count {X : vrs(X), out(\"NDC_Southeast\", X), in(\"TZ_Central\", X)} = 0.\n",
      "\n",
      "% \"NDC_Midwest\" ['o'] \"TZ_Central\"\n",
      ":- #count {A : vrs(A), in(\"NDC_Midwest\", A), out(\"TZ_Central\", A)} = 0,\n",
      "   #count {B : vrs(B), in(\"NDC_Midwest\", B), in(\"TZ_Central\", B)} > 0,\n",
      "   #count {C : vrs(C), out(\"NDC_Midwest\", C), in(\"TZ_Central\", C)} = 0.\n",
      ":- #count {A : vrs(A), in(\"NDC_Midwest\", A), out(\"TZ_Central\", A)} > 0,\n",
      "   #count {B : vrs(B), in(\"NDC_Midwest\", B), in(\"TZ_Central\", B)} = 0,\n",
      "   #count {C : vrs(C), out(\"NDC_Midwest\", C), in(\"TZ_Central\", C)} > 0.\n",
      ":- #count {A : vrs(A), in(\"NDC_Midwest\", A), out(\"TZ_Central\", A)} = 0,\n",
      "   #count {B : vrs(B), in(\"NDC_Midwest\", B), in(\"TZ_Central\", B)} > 0,\n",
      "   #count {C : vrs(C), out(\"NDC_Midwest\", C), in(\"TZ_Central\", C)} > 0.\n",
      ":- #count {A : vrs(A), in(\"NDC_Midwest\", A), out(\"TZ_Central\", A)} > 0,\n",
      "   #count {B : vrs(B), in(\"NDC_Midwest\", B), in(\"TZ_Central\", B)} > 0,\n",
      "   #count {C : vrs(C), out(\"NDC_Midwest\", C), in(\"TZ_Central\", C)} = 0.\n",
      ":- #count {X : vrs(X), in(\"NDC_Midwest\", X), out(\"TZ_Central\", X)} = 0.\n",
      ":- #count {X : vrs(X), in(\"NDC_Midwest\", X), in(\"TZ_Central\", X)} = 0.\n",
      ":- #count {X : vrs(X), out(\"NDC_Midwest\", X), in(\"TZ_Central\", X)} = 0.\n",
      "\n",
      "% \"NDC_Northeast\" ['<'] \"TZ_Eastern\"\n",
      ":- #count {A : vrs(A), in(\"NDC_Northeast\", A), out(\"TZ_Eastern\", A)} = 0,\n",
      "   #count {B : vrs(B), in(\"NDC_Northeast\", B), in(\"TZ_Eastern\", B)} > 0,\n",
      "   #count {C : vrs(C), out(\"NDC_Northeast\", C), in(\"TZ_Eastern\", C)} = 0.\n",
      ":- #count {A : vrs(A), in(\"NDC_Northeast\", A), out(\"TZ_Eastern\", A)} > 0,\n",
      "   #count {B : vrs(B), in(\"NDC_Northeast\", B), in(\"TZ_Eastern\", B)} = 0,\n",
      "   #count {C : vrs(C), out(\"NDC_Northeast\", C), in(\"TZ_Eastern\", C)} > 0.\n",
      ":- #count {A : vrs(A), in(\"NDC_Northeast\", A), out(\"TZ_Eastern\", A)} > 0,\n",
      "   #count {B : vrs(B), in(\"NDC_Northeast\", B), in(\"TZ_Eastern\", B)} > 0,\n",
      "   #count {C : vrs(C), out(\"NDC_Northeast\", C), in(\"TZ_Eastern\", C)} > 0.\n",
      ":- #count {A : vrs(A), in(\"NDC_Northeast\", A), out(\"TZ_Eastern\", A)} > 0,\n",
      "   #count {B : vrs(B), in(\"NDC_Northeast\", B), in(\"TZ_Eastern\", B)} > 0,\n",
      "   #count {C : vrs(C), out(\"NDC_Northeast\", C), in(\"TZ_Eastern\", C)} = 0.\n",
      "ir(X, r2597) :- in(\"NDC_Northeast\", X), out(\"TZ_Eastern\", X).\n",
      ":- #count {X : vrs(X), in(\"NDC_Northeast\", X), in(\"TZ_Eastern\", X)} = 0.\n",
      ":- #count {X : vrs(X), out(\"NDC_Northeast\", X), in(\"TZ_Eastern\", X)} = 0.\n",
      "\n",
      "% \"NDC_Southwest\" ['!'] \"TZ_Eastern\"\n",
      ":- #count {A : vrs(A), in(\"NDC_Southwest\", A), out(\"TZ_Eastern\", A)} = 0,\n",
      "   #count {B : vrs(B), in(\"NDC_Southwest\", B), in(\"TZ_Eastern\", B)} > 0,\n",
      "   #count {C : vrs(C), out(\"NDC_Southwest\", C), in(\"TZ_Eastern\", C)} = 0.\n",
      ":- #count {A : vrs(A), in(\"NDC_Southwest\", A), out(\"TZ_Eastern\", A)} = 0,\n",
      "   #count {B : vrs(B), in(\"NDC_Southwest\", B), in(\"TZ_Eastern\", B)} > 0,\n",
      "   #count {C : vrs(C), out(\"NDC_Southwest\", C), in(\"TZ_Eastern\", C)} > 0.\n",
      ":- #count {A : vrs(A), in(\"NDC_Southwest\", A), out(\"TZ_Eastern\", A)} > 0,\n",
      "   #count {B : vrs(B), in(\"NDC_Southwest\", B), in(\"TZ_Eastern\", B)} > 0,\n",
      "   #count {C : vrs(C), out(\"NDC_Southwest\", C), in(\"TZ_Eastern\", C)} > 0.\n",
      ":- #count {A : vrs(A), in(\"NDC_Southwest\", A), out(\"TZ_Eastern\", A)} > 0,\n",
      "   #count {B : vrs(B), in(\"NDC_Southwest\", B), in(\"TZ_Eastern\", B)} > 0,\n",
      "   #count {C : vrs(C), out(\"NDC_Southwest\", C), in(\"TZ_Eastern\", C)} = 0.\n",
      ":- #count {X : vrs(X), in(\"NDC_Southwest\", X), out(\"TZ_Eastern\", X)} = 0.\n",
      "ir(X, r2598) :- in(\"NDC_Southwest\", X), in(\"TZ_Eastern\", X).\n",
      ":- #count {X : vrs(X), out(\"NDC_Southwest\", X), in(\"TZ_Eastern\", X)} = 0.\n",
      "\n",
      "% \"NDC_West\" ['>'] \"TZ_Pacific\"\n",
      ":- #count {A : vrs(A), in(\"NDC_West\", A), out(\"TZ_Pacific\", A)} = 0,\n",
      "   #count {B : vrs(B), in(\"NDC_West\", B), in(\"TZ_Pacific\", B)} > 0,\n",
      "   #count {C : vrs(C), out(\"NDC_West\", C), in(\"TZ_Pacific\", C)} = 0.\n",
      ":- #count {A : vrs(A), in(\"NDC_West\", A), out(\"TZ_Pacific\", A)} > 0,\n",
      "   #count {B : vrs(B), in(\"NDC_West\", B), in(\"TZ_Pacific\", B)} = 0,\n",
      "   #count {C : vrs(C), out(\"NDC_West\", C), in(\"TZ_Pacific\", C)} > 0.\n",
      ":- #count {A : vrs(A), in(\"NDC_West\", A), out(\"TZ_Pacific\", A)} = 0,\n",
      "   #count {B : vrs(B), in(\"NDC_West\", B), in(\"TZ_Pacific\", B)} > 0,\n",
      "   #count {C : vrs(C), out(\"NDC_West\", C), in(\"TZ_Pacific\", C)} > 0.\n",
      ":- #count {A : vrs(A), in(\"NDC_West\", A), out(\"TZ_Pacific\", A)} > 0,\n",
      "   #count {B : vrs(B), in(\"NDC_West\", B), in(\"TZ_Pacific\", B)} > 0,\n",
      "   #count {C : vrs(C), out(\"NDC_West\", C), in(\"TZ_Pacific\", C)} > 0.\n",
      ":- #count {X : vrs(X), in(\"NDC_West\", X), out(\"TZ_Pacific\", X)} = 0.\n",
      ":- #count {X : vrs(X), in(\"NDC_West\", X), in(\"TZ_Pacific\", X)} = 0.\n",
      "ir(X, r2599) :- out(\"NDC_West\", X), in(\"TZ_Pacific\", X).\n",
      "\n",
      "% \"NDC_West\" ['!'] \"TZ_Eastern\"\n",
      ":- #count {A : vrs(A), in(\"NDC_West\", A), out(\"TZ_Eastern\", A)} = 0,\n",
      "   #count {B : vrs(B), in(\"NDC_West\", B), in(\"TZ_Eastern\", B)} > 0,\n",
      "   #count {C : vrs(C), out(\"NDC_West\", C), in(\"TZ_Eastern\", C)} = 0.\n",
      ":- #count {A : vrs(A), in(\"NDC_West\", A), out(\"TZ_Eastern\", A)} = 0,\n",
      "   #count {B : vrs(B), in(\"NDC_West\", B), in(\"TZ_Eastern\", B)} > 0,\n",
      "   #count {C : vrs(C), out(\"NDC_West\", C), in(\"TZ_Eastern\", C)} > 0.\n",
      ":- #count {A : vrs(A), in(\"NDC_West\", A), out(\"TZ_Eastern\", A)} > 0,\n",
      "   #count {B : vrs(B), in(\"NDC_West\", B), in(\"TZ_Eastern\", B)} > 0,\n",
      "   #count {C : vrs(C), out(\"NDC_West\", C), in(\"TZ_Eastern\", C)} > 0.\n",
      ":- #count {A : vrs(A), in(\"NDC_West\", A), out(\"TZ_Eastern\", A)} > 0,\n",
      "   #count {B : vrs(B), in(\"NDC_West\", B), in(\"TZ_Eastern\", B)} > 0,\n",
      "   #count {C : vrs(C), out(\"NDC_West\", C), in(\"TZ_Eastern\", C)} = 0.\n",
      ":- #count {X : vrs(X), in(\"NDC_West\", X), out(\"TZ_Eastern\", X)} = 0.\n",
      "ir(X, r2600) :- in(\"NDC_West\", X), in(\"TZ_Eastern\", X).\n",
      ":- #count {X : vrs(X), out(\"NDC_West\", X), in(\"TZ_Eastern\", X)} = 0.\n",
      "\n",
      "% Decoding Rules\n",
      ":- rel(X, Y, \"=\"), rel(X, Y, \"!\"), concept2(X, N1), concept2(Y, N2).\n",
      ":- rel(X, Y, \"=\"), rel(X, Y, \"<\"), concept2(X, N1), concept2(Y, N2).\n",
      ":- rel(X, Y, \"=\"), rel(X, Y, \"o\"), concept2(X, N1), concept2(Y, N2).\n",
      ":- rel(X, Y, \"=\"), rel(X, Y, \">\"), concept2(X, N1), concept2(Y, N2).\n",
      ":- rel(X, Y, \"!\"), rel(X, Y, \"<\"), concept2(X, N1), concept2(Y, N2).\n",
      ":- rel(X, Y, \"!\"), rel(X, Y, \"o\"), concept2(X, N1), concept2(Y, N2).\n",
      ":- rel(X, Y, \"!\"), rel(X, Y, \">\"), concept2(X, N1), concept2(Y, N2).\n",
      ":- rel(X, Y, \"<\"), rel(X, Y, \"o\"), concept2(X, N1), concept2(Y, N2).\n",
      ":- rel(X, Y, \"<\"), rel(X, Y, \">\"), concept2(X, N1), concept2(Y, N2).\n",
      ":- rel(X, Y, \"o\"), rel(X, Y, \">\"), concept2(X, N1), concept2(Y, N2).\n",
      "\n",
      ":- not rel(X, Y, \"=\"), not rel(X, Y, \"!\"), not rel(X, Y, \"<\"), not rel(X, Y, \"o\"), not rel(X, Y, \">\"), concept2(X, N1), concept2(Y, N2), N1 < N2.\n",
      "\n",
      "rel(X, Y, \"=\") :- not hint(X, Y, 0), hint(X, Y, 1), not hint(X, Y, 2).\n",
      "rel(X, Y, \"!\") :- hint(X, Y, 0), not hint(X, Y, 1), hint(X, Y, 2).\n",
      "rel(X, Y, \"<\") :- not hint(X, Y, 0), hint(X, Y, 1), hint(X, Y, 2).\n",
      "rel(X, Y, \"o\") :- hint(X, Y, 0), hint(X, Y, 1), hint(X, Y, 2).\n",
      "rel(X, Y, \">\") :- hint(X, Y, 0), hint(X, Y, 1), not hint(X, Y, 2).\n",
      "\n",
      "hint(X, Y, 0) :- concept2(X, N1), concept2(Y, N2), N1 < N2, vrs(R), in(X, R), out(Y, R).\n",
      "hint(X, Y, 1) :- concept2(X, N1), concept2(Y, N2), N1 < N2, vrs(R), in(X, R), in(Y, R).\n",
      "hint(X, Y, 2) :- concept2(X, N1), concept2(Y, N2), N1 < N2, vrs(R), out(X, R), in(Y, R).\n",
      "\n",
      "\n",
      "% Child Parent Rules for Viz\n",
      "\n",
      "bl(\"NDC_USA\", \"NDC_Midwest\").\n",
      "bl(\"NDC_USA\", \"NDC_Northeast\").\n",
      "bl(\"NDC_USA\", \"NDC_Southeast\").\n",
      "bl(\"NDC_USA\", \"NDC_Southwest\").\n",
      "bl(\"NDC_USA\", \"NDC_West\").\n",
      "bl(\"TZ_USA\", \"TZ_Pacific\").\n",
      "bl(\"TZ_USA\", \"TZ_Mountain\").\n",
      "bl(\"TZ_USA\", \"TZ_Central\").\n",
      "bl(\"TZ_USA\", \"TZ_Eastern\").\n",
      "\n",
      "#show rel/3.\n",
      "eq(A, B) :- rel(A, B, \"=\").\n",
      "po(A, B) :- rel(A, B, \"o\").\n",
      "dr(A, B) :- rel(A, B, \"!\").\n",
      "pp(A, B) :- rel(A, B, \"<\").\n",
      "pp(B, A) :- rel(A, B, \">\").\n",
      "pp(Y,X) :- bl(X,Y).\n",
      "u(X) :- bl(_,X).\n",
      "u(X) :- bl(X,_).\n",
      "#show eq/2.\n",
      "#show po/2.\n",
      "#show pp/2.\n",
      "#show dr/2.\n",
      "#show bl/2.\n",
      "#show u/1.\n"
     ]
    }
   ],
   "source": [
    "print('\\n'.join(gt_rules))"
   ]
  },
  {
   "cell_type": "code",
   "execution_count": 58,
   "metadata": {},
   "outputs": [
    {
     "data": {
      "image/png": "[encoded data removed]",
      "text/plain": [
       "<IPython.core.display.Image object>"
      ]
     },
     "execution_count": 58,
     "metadata": {},
     "output_type": "execute_result"
    }
   ],
   "source": [
    "gt_G = visualize_euler_input(gt_rel_data, tax_data)\n",
    "draw(gt_G)"
   ]
  },
  {
   "cell_type": "code",
   "execution_count": 59,
   "metadata": {},
   "outputs": [
    {
     "name": "stdout",
     "output_type": "stream",
     "text": [
      "Answer: 1\n",
      "u(\"NDC_Midwest\") u(\"NDC_Northeast\") u(\"NDC_Southeast\") u(\"NDC_Southwest\") u(\"NDC_West\") u(\"TZ_Pacific\") u(\"TZ_Mountain\") u(\"TZ_Central\") u(\"TZ_Eastern\") u(\"NDC_USA\") u(\"TZ_USA\") bl(\"NDC_USA\",\"NDC_Midwest\") bl(\"NDC_USA\",\"NDC_Northeast\") bl(\"NDC_USA\",\"NDC_Southeast\") bl(\"NDC_USA\",\"NDC_Southwest\") bl(\"NDC_USA\",\"NDC_West\") bl(\"TZ_USA\",\"TZ_Pacific\") bl(\"TZ_USA\",\"TZ_Mountain\") bl(\"TZ_USA\",\"TZ_Central\") bl(\"TZ_USA\",\"TZ_Eastern\") pp(\"NDC_Midwest\",\"NDC_USA\") pp(\"NDC_Northeast\",\"NDC_USA\") pp(\"NDC_Southeast\",\"NDC_USA\") pp(\"NDC_Southwest\",\"NDC_USA\") pp(\"NDC_West\",\"NDC_USA\") pp(\"TZ_Pacific\",\"TZ_USA\") pp(\"TZ_Mountain\",\"TZ_USA\") pp(\"TZ_Central\",\"TZ_USA\") pp(\"TZ_Eastern\",\"TZ_USA\") rel(\"NDC_Midwest\",\"TZ_Pacific\",\"!\") rel(\"NDC_Northeast\",\"TZ_Pacific\",\"!\") rel(\"NDC_Northeast\",\"TZ_Mountain\",\"!\") rel(\"NDC_Northeast\",\"TZ_Central\",\"!\") rel(\"NDC_Southeast\",\"TZ_Pacific\",\"!\") rel(\"NDC_Southeast\",\"TZ_Mountain\",\"!\") rel(\"NDC_Southwest\",\"TZ_Pacific\",\"!\") rel(\"NDC_Southwest\",\"TZ_Eastern\",\"!\") rel(\"NDC_West\",\"TZ_Central\",\"!\") rel(\"NDC_West\",\"TZ_Eastern\",\"!\") rel(\"NDC_USA\",\"TZ_USA\",\"=\") rel(\"NDC_Midwest\",\"TZ_USA\",\"<\") rel(\"NDC_Northeast\",\"TZ_USA\",\"<\") rel(\"NDC_Northeast\",\"TZ_Eastern\",\"<\") rel(\"NDC_Southeast\",\"TZ_USA\",\"<\") rel(\"NDC_Southwest\",\"TZ_USA\",\"<\") rel(\"NDC_West\",\"TZ_USA\",\"<\") rel(\"NDC_Midwest\",\"TZ_Mountain\",\"o\") rel(\"NDC_Midwest\",\"TZ_Central\",\"o\") rel(\"NDC_Midwest\",\"TZ_Eastern\",\"o\") rel(\"NDC_Southeast\",\"TZ_Central\",\"o\") rel(\"NDC_Southeast\",\"TZ_Eastern\",\"o\") rel(\"NDC_Southwest\",\"TZ_Mountain\",\"o\") rel(\"NDC_Southwest\",\"TZ_Central\",\"o\") rel(\"NDC_West\",\"TZ_Mountain\",\"o\") rel(\"NDC_USA\",\"TZ_Pacific\",\">\") rel(\"NDC_USA\",\"TZ_Mountain\",\">\") rel(\"NDC_USA\",\"TZ_Central\",\">\") rel(\"NDC_USA\",\"TZ_Eastern\",\">\") rel(\"NDC_West\",\"TZ_Pacific\",\">\") eq(\"NDC_USA\",\"TZ_USA\") po(\"NDC_Midwest\",\"TZ_Mountain\") po(\"NDC_Midwest\",\"TZ_Central\") po(\"NDC_Midwest\",\"TZ_Eastern\") po(\"NDC_Southeast\",\"TZ_Central\") po(\"NDC_Southeast\",\"TZ_Eastern\") po(\"NDC_Southwest\",\"TZ_Mountain\") po(\"NDC_Southwest\",\"TZ_Central\") po(\"NDC_West\",\"TZ_Mountain\") dr(\"NDC_Midwest\",\"TZ_Pacific\") dr(\"NDC_Northeast\",\"TZ_Pacific\") dr(\"NDC_Northeast\",\"TZ_Mountain\") dr(\"NDC_Northeast\",\"TZ_Central\") dr(\"NDC_Southeast\",\"TZ_Pacific\") dr(\"NDC_Southeast\",\"TZ_Mountain\") dr(\"NDC_Southwest\",\"TZ_Pacific\") dr(\"NDC_Southwest\",\"TZ_Eastern\") dr(\"NDC_West\",\"TZ_Central\") dr(\"NDC_West\",\"TZ_Eastern\") pp(\"NDC_Midwest\",\"TZ_USA\") pp(\"NDC_Northeast\",\"TZ_USA\") pp(\"NDC_Northeast\",\"TZ_Eastern\") pp(\"NDC_Southeast\",\"TZ_USA\") pp(\"NDC_Southwest\",\"TZ_USA\") pp(\"NDC_West\",\"TZ_USA\") pp(\"TZ_Pacific\",\"NDC_USA\") pp(\"TZ_Mountain\",\"NDC_USA\") pp(\"TZ_Central\",\"NDC_USA\") pp(\"TZ_Eastern\",\"NDC_USA\") pp(\"TZ_Pacific\",\"NDC_West\")\n",
      "SATISFIABLE\n",
      "\n",
      "Models       : 1\n",
      "Calls        : 1\n",
      "Time         : 0.035s (Solving: 0.00s 1st Model: 0.00s Unsat: 0.00s)\n",
      "CPU Time     : 0.035s\n"
     ]
    }
   ],
   "source": [
    "gt_clingo_soln = run_clingo(clingo_rules=gt_rules)\n",
    "print('\\n'.join(gt_clingo_soln))"
   ]
  },
  {
   "cell_type": "code",
   "execution_count": 60,
   "metadata": {},
   "outputs": [
    {
     "name": "stdout",
     "output_type": "stream",
     "text": [
      "Number of Models: 1\n"
     ]
    }
   ],
   "source": [
    "gt_dfs, gt_rels, gt_pws = load_worlds(clingo_output=gt_clingo_soln, preprocessed=False, reasoner='clingo')"
   ]
  },
  {
   "cell_type": "code",
   "execution_count": 61,
   "metadata": {},
   "outputs": [
    {
     "data": {
      "text/plain": [
       "[{'relation_name': 'u_1', 'arity': 1, 'r_id': 0},\n",
       " {'relation_name': 'bl_2', 'arity': 2, 'r_id': 1},\n",
       " {'relation_name': 'pp_2', 'arity': 2, 'r_id': 2},\n",
       " {'relation_name': 'rel_3', 'arity': 3, 'r_id': 3},\n",
       " {'relation_name': 'eq_2', 'arity': 2, 'r_id': 4},\n",
       " {'relation_name': 'po_2', 'arity': 2, 'r_id': 5},\n",
       " {'relation_name': 'dr_2', 'arity': 2, 'r_id': 6}]"
      ]
     },
     "execution_count": 61,
     "metadata": {},
     "output_type": "execute_result"
    }
   ],
   "source": [
    "list(map(lambda x: x.__dict__, gt_rels))"
   ]
  },
  {
   "cell_type": "code",
   "execution_count": 62,
   "metadata": {},
   "outputs": [],
   "source": [
    "gt_pws_vizs = euler_visualization_nxpd.visualize(dfs=gt_dfs, pws=gt_pws, relations=gt_rels, conn=None, project_name='ndc_tz', save_to_file=False)"
   ]
  },
  {
   "cell_type": "code",
   "execution_count": 63,
   "metadata": {},
   "outputs": [
    {
     "data": {
      "image/png": "[encoded data removed]",
      "text/plain": [
       "<IPython.core.display.Image object>"
      ]
     },
     "execution_count": 63,
     "metadata": {},
     "output_type": "execute_result"
    }
   ],
   "source": [
    "draw(gt_pws_vizs[0])"
   ]
  },
  {
   "cell_type": "code",
   "execution_count": 4,
   "metadata": {},
   "outputs": [],
   "source": [
    "def dist_func(rels, dfs, pws, pw_id_1, pw_id_2):\n",
    "#     return len(PWEQuery.unique_tuples(relations=rels, \n",
    "#                                       col_names=['x1','x2','x3'], \n",
    "#                                       dfs=dfs, do_print=False, \n",
    "#                                       expected_pws=len(pws), \n",
    "#                                       rl_id=pwe.pwe_helper.rel_id_from_rel_name(rel_name='rel_3', relations=rels), \n",
    "#                                       pws_to_consider=[pw_id_1, pw_id_2]))\n",
    "    return len(PWEQuery.difference_both_ways(col_names=['x1','x2','x3'], \n",
    "                                             dfs=dfs, do_print=False, \n",
    "                                             pw_id_1=pw_id_1, pw_id_2=pw_id_2, \n",
    "                                             relations=rels, \n",
    "                                             rl_id=pwe.pwe_helper.rel_id_from_rel_name(rel_name='rel_3', relations=rels)))\n"
   ]
  },
  {
   "cell_type": "code",
   "execution_count": 5,
   "metadata": {},
   "outputs": [],
   "source": [
    "from copy import deepcopy\n",
    "def add_gt(gt_rels, gt_dfs, gt_pws, rels, dfs, pws):\n",
    "    \n",
    "    new_rels = deepcopy(rels)\n",
    "    new_dfs = deepcopy(dfs)\n",
    "    \n",
    "    gt_pw = gt_pws[0]\n",
    "    new_pw_id = len(pws)+1\n",
    "    new_pw = pwe.pwe_helper.PossibleWorld(num_relations=len(rels), pw_id=new_pw_id)\n",
    "    \n",
    "    for rel in rels:\n",
    "        gt_rel_id = pwe.pwe_helper.rel_id_from_rel_name(rel_name=rel.relation_name, relations=gt_rels)\n",
    "        if gt_rel_id is None:\n",
    "            print(\"Didn't find the relation {} in Ground Truth. Skipping.\".format(rel.relation_name))\n",
    "            continue\n",
    "        rel_id = rel.r_id\n",
    "        new_pw.rls[rel_id] = deepcopy(gt_pw.rls[gt_rel_id])\n",
    "        gt_rel_df = deepcopy(gt_dfs[gt_rel_id])\n",
    "        gt_rel_df['pw'] = new_pw_id\n",
    "        new_dfs[rel_id] = pd.concat([gt_rel_df, new_dfs[rel_id]], ignore_index=True)\n",
    "    \n",
    "    new_pws = pws + [new_pw]\n",
    "    return new_rels, new_dfs, new_pws\n",
    "        "
   ]
  },
  {
   "cell_type": "code",
   "execution_count": 6,
   "metadata": {},
   "outputs": [],
   "source": [
    "# rl_set_to_rmv = (9,)\n",
    "# k = list(range(len(gt_rel_data)))\n",
    "# for rl in rl_set_to_rmv:\n",
    "#     k.remove(rl)\n",
    "# rel_data = gt_rel_data.iloc[k,:].copy(deep=False)\n",
    "# rules = LeanEuler.gen_asp_rules(rel_data, tax_data, encoding='mnpw')\n",
    "# clingo_soln = run_clingo(clingo_rules=rules)\n",
    "# dfs, rels, pws = load_worlds(clingo_output=clingo_soln, preprocessed=False, reasoner='clingo')"
   ]
  },
  {
   "cell_type": "code",
   "execution_count": 7,
   "metadata": {},
   "outputs": [],
   "source": [
    "# merged_rels, merged_dfs, merged_pws = add_gt(gt_rels, gt_dfs, gt_pws, rels, dfs, pws)"
   ]
  },
  {
   "cell_type": "code",
   "execution_count": 8,
   "metadata": {},
   "outputs": [],
   "source": [
    "# distances = np.array([dist_func(merged_rels, merged_dfs, merged_pws, i, len(merged_pws)) for i in range(1, len(merged_pws))])"
   ]
  },
  {
   "cell_type": "code",
   "execution_count": 9,
   "metadata": {},
   "outputs": [],
   "source": [
    "# distances"
   ]
  },
  {
   "cell_type": "code",
   "execution_count": 10,
   "metadata": {},
   "outputs": [],
   "source": [
    "# distances = distances - np.min(distances)\n",
    "# distances = distances / np.max(distances)\n",
    "# distances = 1 - distances"
   ]
  },
  {
   "cell_type": "code",
   "execution_count": 11,
   "metadata": {},
   "outputs": [],
   "source": [
    "# distances"
   ]
  },
  {
   "cell_type": "code",
   "execution_count": 12,
   "metadata": {},
   "outputs": [],
   "source": [
    "def build_dataset_helper(gt_rels, gt_dfs, gt_pws, rels, dfs, pws, dist_func):\n",
    "    \n",
    "    merged_rels, merged_dfs, merged_pws = add_gt(gt_rels, gt_dfs, gt_pws, rels, dfs, pws)\n",
    "    distances = np.array([dist_func(merged_rels, merged_dfs, merged_pws, i, len(merged_pws)) for i in range(1, len(merged_pws))])\n",
    "    \n",
    "    X = np.zeros((len(merged_pws)-1, len(merged_rels)))\n",
    "    y = distances\n",
    "    for rel in ['u_1', 'bl_2', 'pp_2', 'rel_3', 'eq_2', 'po_2', 'dr_2']:\n",
    "        rel_id = pwe.pwe_helper.rel_id_from_rel_name(rel_name=rel, relations=merged_rels)\n",
    "        rel_df = merged_dfs[rel_id]\n",
    "        for pw_id in range(len(merged_pws)-1):\n",
    "            X[pw_id, rel_id] = len(rel_df[rel_df['pw'] == (pw_id+1)])\n",
    "    return X, y\n",
    "\n",
    "\n",
    "\n",
    "def build_dataset(gt_dfs, gt_pws, gt_rels, gt_rel_data, tax_data, rels_to_rmv, dist_func):\n",
    "    \n",
    "    Xs = []\n",
    "    ys = []\n",
    "    \n",
    "    for rl_set_to_rmv in rels_to_rmv:\n",
    "        \n",
    "        k = list(range(len(gt_rel_data)))\n",
    "        for rl in rl_set_to_rmv:\n",
    "            k.remove(rl)\n",
    "        rel_data = gt_rel_data.iloc[k,:].copy(deep=False)\n",
    "        rules = LeanEuler.gen_asp_rules(rel_data, tax_data, encoding='mnpw')\n",
    "        clingo_soln = run_clingo(clingo_rules=rules)\n",
    "        dfs, rels, pws = load_worlds(clingo_output=clingo_soln, preprocessed=False, reasoner='clingo')\n",
    "        \n",
    "        curr_X, curr_y = build_dataset_helper(gt_rels, gt_dfs, gt_pws, rels, dfs, pws, dist_func)\n",
    "        Xs.append(curr_X)\n",
    "        ys.append(curr_y)\n",
    "\n",
    "    \n",
    "    X = np.vstack(tuple(Xs))\n",
    "    y = np.hstack(tuple(ys))\n",
    "    y = y - np.min(y)\n",
    "    y = y/np.max(y)\n",
    "    y = 1 - y\n",
    "    \n",
    "    return X, y"
   ]
  },
  {
   "cell_type": "code",
   "execution_count": 74,
   "metadata": {
    "scrolled": true
   },
   "outputs": [
    {
     "data": {
      "text/plain": [
       "[(9,),\n",
       " (10,),\n",
       " (11,),\n",
       " (12,),\n",
       " (13,),\n",
       " (14,),\n",
       " (15,),\n",
       " (16,),\n",
       " (17,),\n",
       " (18,),\n",
       " (19,),\n",
       " (20,),\n",
       " (9, 10),\n",
       " (9, 11),\n",
       " (9, 12),\n",
       " (9, 13),\n",
       " (9, 14),\n",
       " (9, 15),\n",
       " (9, 16),\n",
       " (9, 17),\n",
       " (9, 18),\n",
       " (9, 19),\n",
       " (9, 20),\n",
       " (10, 11),\n",
       " (10, 12),\n",
       " (10, 13),\n",
       " (10, 14),\n",
       " (10, 15),\n",
       " (10, 16),\n",
       " (10, 17),\n",
       " (10, 18),\n",
       " (10, 19),\n",
       " (10, 20),\n",
       " (11, 12),\n",
       " (11, 13),\n",
       " (11, 14),\n",
       " (11, 15),\n",
       " (11, 16),\n",
       " (11, 17),\n",
       " (11, 18),\n",
       " (11, 19),\n",
       " (11, 20),\n",
       " (12, 13),\n",
       " (12, 14),\n",
       " (12, 15),\n",
       " (12, 16),\n",
       " (12, 17),\n",
       " (12, 18),\n",
       " (12, 19),\n",
       " (12, 20),\n",
       " (13, 14),\n",
       " (13, 15),\n",
       " (13, 16),\n",
       " (13, 17),\n",
       " (13, 18),\n",
       " (13, 19),\n",
       " (13, 20),\n",
       " (14, 15),\n",
       " (14, 16),\n",
       " (14, 17),\n",
       " (14, 18),\n",
       " (14, 19),\n",
       " (14, 20),\n",
       " (15, 16),\n",
       " (15, 17),\n",
       " (15, 18),\n",
       " (15, 19),\n",
       " (15, 20),\n",
       " (16, 17),\n",
       " (16, 18),\n",
       " (16, 19),\n",
       " (16, 20),\n",
       " (17, 18),\n",
       " (17, 19),\n",
       " (17, 20),\n",
       " (18, 19),\n",
       " (18, 20),\n",
       " (19, 20)]"
      ]
     },
     "execution_count": 74,
     "metadata": {},
     "output_type": "execute_result"
    }
   ],
   "source": [
    "articulation_sets_to_rmv = list(itertools.combinations(range(9, len(gt_rel_data)), r=1)) + list(itertools.combinations(range(9, len(gt_rel_data)), r=2))\n",
    "articulation_sets_to_rmv"
   ]
  },
  {
   "cell_type": "code",
   "execution_count": 75,
   "metadata": {
    "scrolled": true
   },
   "outputs": [
    {
     "name": "stdout",
     "output_type": "stream",
     "text": [
      "Number of Models: 2\n",
      "Number of Models: 2\n",
      "Number of Models: 432\n",
      "Number of Models: 3\n",
      "Number of Models: 3\n",
      "Number of Models: 3\n",
      "Number of Models: 3\n",
      "Number of Models: 2\n",
      "Number of Models: 7\n",
      "Number of Models: 3\n",
      "Number of Models: 53\n",
      "Number of Models: 3\n",
      "Number of Models: 3\n",
      "Number of Models: 792\n",
      "Number of Models: 6\n",
      "Number of Models: 5\n",
      "Number of Models: 6\n",
      "Number of Models: 5\n",
      "Number of Models: 3\n",
      "Number of Models: 14\n",
      "Number of Models: 6\n",
      "Number of Models: 88\n",
      "Number of Models: 6\n",
      "Number of Models: 792\n",
      "Number of Models: 6\n",
      "Number of Models: 6\n",
      "Number of Models: 5\n",
      "Number of Models: 6\n",
      "Number of Models: 3\n",
      "Number of Models: 14\n",
      "Number of Models: 6\n",
      "Number of Models: 88\n",
      "Number of Models: 5\n",
      "Number of Models: 936\n",
      "Number of Models: 1008\n",
      "Number of Models: 1008\n",
      "Number of Models: 936\n",
      "Number of Models: 792\n",
      "Number of Models: 5976\n",
      "Number of Models: 1008\n",
      "Number of Models: 21520\n",
      "Number of Models: 1008\n",
      "Number of Models: 9\n",
      "Number of Models: 8\n",
      "Number of Models: 8\n",
      "Number of Models: 5\n",
      "Number of Models: 21\n",
      "Number of Models: 7\n",
      "Number of Models: 105\n",
      "Number of Models: 8\n",
      "Number of Models: 9\n",
      "Number of Models: 7\n",
      "Number of Models: 6\n",
      "Number of Models: 18\n",
      "Number of Models: 9\n",
      "Number of Models: 123\n",
      "Number of Models: 9\n",
      "Number of Models: 9\n",
      "Number of Models: 6\n",
      "Number of Models: 21\n",
      "Number of Models: 9\n",
      "Number of Models: 123\n",
      "Number of Models: 7\n",
      "Number of Models: 6\n",
      "Number of Models: 18\n",
      "Number of Models: 8\n",
      "Number of Models: 105\n",
      "Number of Models: 9\n",
      "Number of Models: 14\n",
      "Number of Models: 5\n",
      "Number of Models: 88\n",
      "Number of Models: 6\n",
      "Number of Models: 21\n",
      "Number of Models: 677\n",
      "Number of Models: 21\n",
      "Number of Models: 123\n",
      "Number of Models: 9\n",
      "Number of Models: 123\n"
     ]
    }
   ],
   "source": [
    "X_, y_ = build_dataset(gt_dfs, gt_pws, gt_rels, gt_rel_data, tax_data, articulation_sets_to_rmv, dist_func)"
   ]
  },
  {
   "cell_type": "code",
   "execution_count": 76,
   "metadata": {},
   "outputs": [],
   "source": [
    "Xs.append(X_)\n",
    "ys.append(y_)"
   ]
  },
  {
   "cell_type": "code",
   "execution_count": null,
   "metadata": {},
   "outputs": [],
   "source": []
  },
  {
   "cell_type": "code",
   "execution_count": null,
   "metadata": {},
   "outputs": [],
   "source": []
  },
  {
   "cell_type": "code",
   "execution_count": 13,
   "metadata": {},
   "outputs": [],
   "source": [
    "from copy import deepcopy"
   ]
  },
  {
   "cell_type": "code",
   "execution_count": 77,
   "metadata": {},
   "outputs": [],
   "source": [
    "X = np.vstack(tuple(Xs))\n",
    "y = np.hstack(tuple(ys))"
   ]
  },
  {
   "cell_type": "code",
   "execution_count": 5,
   "metadata": {},
   "outputs": [
    {
     "data": {
      "text/plain": [
       "61133"
      ]
     },
     "execution_count": 5,
     "metadata": {},
     "output_type": "execute_result"
    }
   ],
   "source": [
    "len(y)"
   ]
  },
  {
   "cell_type": "code",
   "execution_count": 14,
   "metadata": {},
   "outputs": [],
   "source": [
    "import pickle as pkl\n",
    "# with open('cen_ndc_tz_X.pkl', 'wb') as f:\n",
    "#     pkl.dump(X, f)\n",
    "# with open('cen_ndc_tz_y.pkl', 'wb') as f:\n",
    "#     pkl.dump(y, f)\n",
    "with open('cen_ndc_tz_X.pkl', 'rb') as f:\n",
    "    X = pkl.load(f)\n",
    "with open('cen_ndc_tz_y.pkl', 'rb') as f:\n",
    "    y = pkl.load(f)"
   ]
  },
  {
   "cell_type": "code",
   "execution_count": null,
   "metadata": {},
   "outputs": [],
   "source": []
  },
  {
   "cell_type": "code",
   "execution_count": 16,
   "metadata": {},
   "outputs": [
    {
     "data": {
      "text/plain": [
       "61133"
      ]
     },
     "execution_count": 16,
     "metadata": {},
     "output_type": "execute_result"
    }
   ],
   "source": [
    "len(y)"
   ]
  },
  {
   "cell_type": "code",
   "execution_count": 17,
   "metadata": {},
   "outputs": [],
   "source": [
    "from sklearn.model_selection import train_test_split\n",
    "X_train, X_test, y_train, y_test = train_test_split(X, y, test_size=0.25)"
   ]
  },
  {
   "cell_type": "code",
   "execution_count": null,
   "metadata": {},
   "outputs": [],
   "source": []
  },
  {
   "cell_type": "code",
   "execution_count": 18,
   "metadata": {},
   "outputs": [
    {
     "name": "stderr",
     "output_type": "stream",
     "text": [
      "/Users/sahil1105/PW-explorer/.env/lib/python3.7/site-packages/sklearn/linear_model/base.py:485: RuntimeWarning: internal gelsd driver lwork query error, required iwork dimension not returned. This is likely the result of LAPACK bug 0038, fixed in LAPACK 3.2.2 (released July 21, 2010). Falling back to 'gelss' driver.\n",
      "  linalg.lstsq(X, y)\n"
     ]
    }
   ],
   "source": [
    "from sklearn.linear_model import LinearRegression\n",
    "reg = LinearRegression(normalize=True).fit(X_train, y_train)"
   ]
  },
  {
   "cell_type": "code",
   "execution_count": 19,
   "metadata": {},
   "outputs": [
    {
     "data": {
      "text/plain": [
       "array([ 8.23759166e+10, -6.56054953e+10,  7.03308326e+09, -1.17937842e+10,\n",
       "        7.03308326e+09,  7.03308326e+09,  7.03308326e+09])"
      ]
     },
     "execution_count": 19,
     "metadata": {},
     "output_type": "execute_result"
    }
   ],
   "source": [
    "reg.coef_"
   ]
  },
  {
   "cell_type": "code",
   "execution_count": 20,
   "metadata": {},
   "outputs": [
    {
     "data": {
      "text/plain": [
       "-236162346976.03787"
      ]
     },
     "execution_count": 20,
     "metadata": {},
     "output_type": "execute_result"
    }
   ],
   "source": [
    "reg.intercept_"
   ]
  },
  {
   "cell_type": "code",
   "execution_count": 21,
   "metadata": {},
   "outputs": [
    {
     "data": {
      "text/plain": [
       "0.5537492456005795"
      ]
     },
     "execution_count": 21,
     "metadata": {},
     "output_type": "execute_result"
    }
   ],
   "source": [
    "reg.score(X_train, y_train)"
   ]
  },
  {
   "cell_type": "code",
   "execution_count": 22,
   "metadata": {},
   "outputs": [
    {
     "data": {
      "text/plain": [
       "0.554834930257982"
      ]
     },
     "execution_count": 22,
     "metadata": {},
     "output_type": "execute_result"
    }
   ],
   "source": [
    "reg.score(X_test, y_test)"
   ]
  },
  {
   "cell_type": "code",
   "execution_count": null,
   "metadata": {},
   "outputs": [],
   "source": []
  },
  {
   "cell_type": "code",
   "execution_count": null,
   "metadata": {},
   "outputs": [],
   "source": []
  },
  {
   "cell_type": "code",
   "execution_count": null,
   "metadata": {},
   "outputs": [],
   "source": []
  },
  {
   "cell_type": "code",
   "execution_count": 63,
   "metadata": {},
   "outputs": [],
   "source": [
    "from sklearn.linear_model import Ridge\n",
    "ridge_reg = Ridge(alpha=0.0001, normalize=False, fit_intercept=True, solver='saga').fit(X_train, y_train)"
   ]
  },
  {
   "cell_type": "code",
   "execution_count": 64,
   "metadata": {},
   "outputs": [
    {
     "data": {
      "text/plain": [
       "array([-0.00261249, -0.00261249,  0.03573285, -0.01306243, -0.01885601,\n",
       "       -0.00666062, -0.02589113])"
      ]
     },
     "execution_count": 64,
     "metadata": {},
     "output_type": "execute_result"
    }
   ],
   "source": [
    "ridge_reg.coef_"
   ]
  },
  {
   "cell_type": "code",
   "execution_count": 65,
   "metadata": {},
   "outputs": [
    {
     "data": {
      "text/plain": [
       "0.674431607587038"
      ]
     },
     "execution_count": 65,
     "metadata": {},
     "output_type": "execute_result"
    }
   ],
   "source": [
    "ridge_reg.intercept_"
   ]
  },
  {
   "cell_type": "code",
   "execution_count": 66,
   "metadata": {},
   "outputs": [
    {
     "data": {
      "text/plain": [
       "0.5537585409486274"
      ]
     },
     "execution_count": 66,
     "metadata": {},
     "output_type": "execute_result"
    }
   ],
   "source": [
    "ridge_reg.score(X_train, y_train)"
   ]
  },
  {
   "cell_type": "code",
   "execution_count": 67,
   "metadata": {},
   "outputs": [
    {
     "data": {
      "text/plain": [
       "0.5547397557019864"
      ]
     },
     "execution_count": 67,
     "metadata": {},
     "output_type": "execute_result"
    }
   ],
   "source": [
    "ridge_reg.score(X_test, y_test)"
   ]
  },
  {
   "cell_type": "code",
   "execution_count": null,
   "metadata": {},
   "outputs": [],
   "source": []
  },
  {
   "cell_type": "code",
   "execution_count": null,
   "metadata": {},
   "outputs": [],
   "source": []
  },
  {
   "cell_type": "code",
   "execution_count": null,
   "metadata": {},
   "outputs": [],
   "source": []
  },
  {
   "cell_type": "code",
   "execution_count": 68,
   "metadata": {},
   "outputs": [
    {
     "data": {
      "text/plain": [
       "SVR(C=0.05, cache_size=200, coef0=0.0, degree=3, epsilon=0.2, gamma='scale',\n",
       "  kernel='rbf', max_iter=-1, shrinking=True, tol=0.001, verbose=False)"
      ]
     },
     "execution_count": 68,
     "metadata": {},
     "output_type": "execute_result"
    }
   ],
   "source": [
    "from sklearn.svm import SVR, SVC\n",
    "clf = SVR(kernel='rbf', gamma='scale', C=0.05, epsilon=0.2)\n",
    "#clf = SVC()\n",
    "clf.fit(X_train, y_train)"
   ]
  },
  {
   "cell_type": "code",
   "execution_count": 69,
   "metadata": {},
   "outputs": [
    {
     "ename": "AttributeError",
     "evalue": "coef_ is only available when using a linear kernel",
     "output_type": "error",
     "traceback": [
      "\u001b[0;31m---------------------------------------------------------------------------\u001b[0m",
      "\u001b[0;31mAttributeError\u001b[0m                            Traceback (most recent call last)",
      "\u001b[0;32m<ipython-input-69-eaad8d6955f1>\u001b[0m in \u001b[0;36m<module>\u001b[0;34m\u001b[0m\n\u001b[0;32m----> 1\u001b[0;31m \u001b[0mclf\u001b[0m\u001b[0;34m.\u001b[0m\u001b[0mcoef_\u001b[0m\u001b[0;34m\u001b[0m\u001b[0m\n\u001b[0m",
      "\u001b[0;32m~/PW-explorer/.env/lib/python3.7/site-packages/sklearn/svm/base.py\u001b[0m in \u001b[0;36mcoef_\u001b[0;34m(self)\u001b[0m\n\u001b[1;32m    482\u001b[0m     \u001b[0;32mdef\u001b[0m \u001b[0mcoef_\u001b[0m\u001b[0;34m(\u001b[0m\u001b[0mself\u001b[0m\u001b[0;34m)\u001b[0m\u001b[0;34m:\u001b[0m\u001b[0;34m\u001b[0m\u001b[0m\n\u001b[1;32m    483\u001b[0m         \u001b[0;32mif\u001b[0m \u001b[0mself\u001b[0m\u001b[0;34m.\u001b[0m\u001b[0mkernel\u001b[0m \u001b[0;34m!=\u001b[0m \u001b[0;34m'linear'\u001b[0m\u001b[0;34m:\u001b[0m\u001b[0;34m\u001b[0m\u001b[0m\n\u001b[0;32m--> 484\u001b[0;31m             raise AttributeError('coef_ is only available when using a '\n\u001b[0m\u001b[1;32m    485\u001b[0m                                  'linear kernel')\n\u001b[1;32m    486\u001b[0m \u001b[0;34m\u001b[0m\u001b[0m\n",
      "\u001b[0;31mAttributeError\u001b[0m: coef_ is only available when using a linear kernel"
     ]
    }
   ],
   "source": [
    "clf.coef_"
   ]
  },
  {
   "cell_type": "code",
   "execution_count": 70,
   "metadata": {},
   "outputs": [
    {
     "data": {
      "text/plain": [
       "array([0.48638513])"
      ]
     },
     "execution_count": 70,
     "metadata": {},
     "output_type": "execute_result"
    }
   ],
   "source": [
    "clf.intercept_"
   ]
  },
  {
   "cell_type": "code",
   "execution_count": 71,
   "metadata": {},
   "outputs": [
    {
     "data": {
      "text/plain": [
       "0.5812437915686499"
      ]
     },
     "execution_count": 71,
     "metadata": {},
     "output_type": "execute_result"
    }
   ],
   "source": [
    "clf.score(X_train, y_train)"
   ]
  },
  {
   "cell_type": "code",
   "execution_count": 72,
   "metadata": {},
   "outputs": [
    {
     "data": {
      "text/plain": [
       "0.5854669722377279"
      ]
     },
     "execution_count": 72,
     "metadata": {},
     "output_type": "execute_result"
    }
   ],
   "source": [
    "clf.score(X_test, y_test)"
   ]
  },
  {
   "cell_type": "code",
   "execution_count": null,
   "metadata": {},
   "outputs": [],
   "source": []
  },
  {
   "cell_type": "code",
   "execution_count": null,
   "metadata": {},
   "outputs": [],
   "source": []
  },
  {
   "cell_type": "code",
   "execution_count": null,
   "metadata": {},
   "outputs": [],
   "source": []
  },
  {
   "cell_type": "code",
   "execution_count": 73,
   "metadata": {},
   "outputs": [
    {
     "data": {
      "text/plain": [
       "DecisionTreeRegressor(criterion='mse', max_depth=20, max_features=None,\n",
       "           max_leaf_nodes=None, min_impurity_decrease=0.0,\n",
       "           min_impurity_split=None, min_samples_leaf=1,\n",
       "           min_samples_split=2, min_weight_fraction_leaf=0.0,\n",
       "           presort=False, random_state=0, splitter='best')"
      ]
     },
     "execution_count": 73,
     "metadata": {},
     "output_type": "execute_result"
    }
   ],
   "source": [
    "from sklearn.tree import DecisionTreeRegressor\n",
    "from sklearn.model_selection import cross_val_score\n",
    "regressor = DecisionTreeRegressor(random_state=0, max_depth=20)\n",
    "regressor.fit(X_train, y_train)"
   ]
  },
  {
   "cell_type": "code",
   "execution_count": 74,
   "metadata": {},
   "outputs": [
    {
     "data": {
      "text/plain": [
       "0.6517072379846991"
      ]
     },
     "execution_count": 74,
     "metadata": {},
     "output_type": "execute_result"
    }
   ],
   "source": [
    "regressor.score(X_train, y_train)"
   ]
  },
  {
   "cell_type": "code",
   "execution_count": 75,
   "metadata": {},
   "outputs": [
    {
     "data": {
      "text/plain": [
       "0.6480486988695161"
      ]
     },
     "execution_count": 75,
     "metadata": {},
     "output_type": "execute_result"
    }
   ],
   "source": [
    "regressor.score(X_test, y_test)"
   ]
  },
  {
   "cell_type": "code",
   "execution_count": null,
   "metadata": {},
   "outputs": [],
   "source": []
  },
  {
   "cell_type": "code",
   "execution_count": null,
   "metadata": {},
   "outputs": [],
   "source": []
  },
  {
   "cell_type": "code",
   "execution_count": 76,
   "metadata": {},
   "outputs": [
    {
     "data": {
      "text/plain": [
       "PCA(copy=True, iterated_power='auto', n_components=4, random_state=None,\n",
       "  svd_solver='auto', tol=0.0, whiten=False)"
      ]
     },
     "execution_count": 76,
     "metadata": {},
     "output_type": "execute_result"
    }
   ],
   "source": [
    "from sklearn.decomposition import PCA\n",
    "pca = PCA(n_components = 4)\n",
    "pca.fit(X_train)"
   ]
  },
  {
   "cell_type": "code",
   "execution_count": 77,
   "metadata": {},
   "outputs": [
    {
     "data": {
      "text/plain": [
       "array([[ 0.0246582 ,  0.0246582 ,  0.44489951,  0.123291  , -0.72643662,\n",
       "        -0.07310081,  0.50258712],\n",
       "       [-0.03183703, -0.03183703, -0.06021716, -0.15918517,  0.30213387,\n",
       "        -0.84257003,  0.40963112],\n",
       "       [-0.15428398, -0.15428398, -0.39801559, -0.77141988, -0.43880737,\n",
       "        -0.00990024, -0.07898066],\n",
       "       [ 0.0485037 ,  0.0485037 , -0.67269749,  0.2425185 ,  0.03087159,\n",
       "         0.31166328,  0.62118483]])"
      ]
     },
     "execution_count": 77,
     "metadata": {},
     "output_type": "execute_result"
    }
   ],
   "source": [
    "pca.components_"
   ]
  },
  {
   "cell_type": "code",
   "execution_count": 78,
   "metadata": {},
   "outputs": [],
   "source": [
    "X_train_pca = pca.transform(X_train)"
   ]
  },
  {
   "cell_type": "code",
   "execution_count": 79,
   "metadata": {},
   "outputs": [],
   "source": [
    "X_test_pca = pca.transform(X_test)"
   ]
  },
  {
   "cell_type": "code",
   "execution_count": 80,
   "metadata": {},
   "outputs": [],
   "source": [
    "rreg_pca = Ridge(alpha=0.000001, normalize=False, fit_intercept=True, solver='saga').fit(X_train_pca, y_train)"
   ]
  },
  {
   "cell_type": "code",
   "execution_count": 81,
   "metadata": {},
   "outputs": [
    {
     "data": {
      "text/plain": [
       "0.5537581511549917"
      ]
     },
     "execution_count": 81,
     "metadata": {},
     "output_type": "execute_result"
    }
   ],
   "source": [
    "rreg_pca.score(X_train_pca, y_train)"
   ]
  },
  {
   "cell_type": "code",
   "execution_count": 82,
   "metadata": {},
   "outputs": [
    {
     "data": {
      "text/plain": [
       "0.5547499578287487"
      ]
     },
     "execution_count": 82,
     "metadata": {},
     "output_type": "execute_result"
    }
   ],
   "source": [
    "rreg_pca.score(X_test_pca, y_test)"
   ]
  },
  {
   "cell_type": "code",
   "execution_count": null,
   "metadata": {},
   "outputs": [],
   "source": []
  },
  {
   "cell_type": "code",
   "execution_count": 83,
   "metadata": {},
   "outputs": [
    {
     "data": {
      "text/plain": [
       "['u_1', 'bl_2', 'pp_2', 'rel_3', 'eq_2', 'po_2', 'dr_2']"
      ]
     },
     "execution_count": 83,
     "metadata": {},
     "output_type": "execute_result"
    }
   ],
   "source": [
    "['u_1', 'bl_2', 'pp_2', 'rel_3', 'eq_2', 'po_2', 'dr_2']"
   ]
  },
  {
   "cell_type": "code",
   "execution_count": null,
   "metadata": {},
   "outputs": [],
   "source": []
  },
  {
   "cell_type": "code",
   "execution_count": 84,
   "metadata": {},
   "outputs": [],
   "source": [
    "from sklearn.neural_network import MLPRegressor"
   ]
  },
  {
   "cell_type": "code",
   "execution_count": 100,
   "metadata": {},
   "outputs": [],
   "source": [
    "mlp_reg = MLPRegressor(hidden_layer_sizes=(10, 15, 20, 15, 10), activation='relu', solver='adam', alpha=0.01, \n",
    "                       learning_rate='adaptive', early_stopping=True, validation_fraction=0.1).fit(X_train, y_train)"
   ]
  },
  {
   "cell_type": "code",
   "execution_count": 101,
   "metadata": {},
   "outputs": [
    {
     "data": {
      "text/plain": [
       "0.6220052518401988"
      ]
     },
     "execution_count": 101,
     "metadata": {},
     "output_type": "execute_result"
    }
   ],
   "source": [
    "mlp_reg.score(X_train, y_train)"
   ]
  },
  {
   "cell_type": "code",
   "execution_count": 102,
   "metadata": {},
   "outputs": [
    {
     "data": {
      "text/plain": [
       "0.6211102575207686"
      ]
     },
     "execution_count": 102,
     "metadata": {},
     "output_type": "execute_result"
    }
   ],
   "source": [
    "mlp_reg.score(X_test, y_test)"
   ]
  },
  {
   "cell_type": "code",
   "execution_count": null,
   "metadata": {},
   "outputs": [],
   "source": []
  },
  {
   "cell_type": "code",
   "execution_count": null,
   "metadata": {},
   "outputs": [],
   "source": []
  },
  {
   "cell_type": "code",
   "execution_count": null,
   "metadata": {},
   "outputs": [],
   "source": []
  }
 ],
 "metadata": {
  "kernelspec": {
   "display_name": "Python 3",
   "language": "python",
   "name": "python3"
  },
  "language_info": {
   "codemirror_mode": {
    "name": "ipython",
    "version": 3
   },
   "file_extension": ".py",
   "mimetype": "text/x-python",
   "name": "python",
   "nbconvert_exporter": "python",
   "pygments_lexer": "ipython3",
   "version": "3.7.0"
  }
 },
 "nbformat": 4,
 "nbformat_minor": 2
}
