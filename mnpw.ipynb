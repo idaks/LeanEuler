{
 "cells": [
  {
   "cell_type": "code",
   "execution_count": 1,
   "metadata": {
    "collapsed": true
   },
   "outputs": [],
   "source": [
    "import pickle as pkl\n",
    "import anytree\n",
    "import numpy as np\n",
    "import pandas as pd\n",
    "import argparse"
   ]
  },
  {
   "cell_type": "code",
   "execution_count": 2,
   "metadata": {
    "collapsed": true
   },
   "outputs": [],
   "source": [
    "equals = np.array([0,1,0], dtype=\"bool\")\n",
    "overlaps = np.array([1,1,1], dtype=\"bool\")\n",
    "included_in = np.array([0,1,1], dtype=\"bool\")\n",
    "disjoint = np.array([1,0,1], dtype=\"bool\")\n",
    "includes = np.array([1,1,0], dtype=\"bool\")"
   ]
  },
  {
   "cell_type": "code",
   "execution_count": 3,
   "metadata": {
    "collapsed": true
   },
   "outputs": [],
   "source": [
    "sym_dict = {\n",
    "    \"=\": equals,\n",
    "    \"o\": overlaps,\n",
    "    \"<\": included_in,\n",
    "    \">\": includes,\n",
    "    \"!\": disjoint\n",
    "}\n",
    "all_rels = set(sym_dict.keys())"
   ]
  },
  {
   "cell_type": "code",
   "execution_count": 4,
   "metadata": {
    "collapsed": true
   },
   "outputs": [],
   "source": [
    "idx_rel_map = {0: (\"in\", \"out\"),\n",
    "               1: (\"in\", \"in\"),\n",
    "               2: (\"out\", \"in\")}"
   ]
  },
  {
   "cell_type": "code",
   "execution_count": 5,
   "metadata": {
    "collapsed": true
   },
   "outputs": [],
   "source": [
    "def rec_bitwise_and(fs):\n",
    "    if len(fs) == 1:\n",
    "        return fs[0]\n",
    "    if len(fs) == 2:\n",
    "        return np.bitwise_and(fs[0], fs[1])\n",
    "    mid = int(np.ceil(len(fs)/2))\n",
    "    return np.bitwise_and(rec_bitwise_and(fs[:mid]), rec_bitwise_and(fs[mid:]))"
   ]
  },
  {
   "cell_type": "code",
   "execution_count": 6,
   "metadata": {
    "collapsed": true
   },
   "outputs": [],
   "source": [
    "def rec_bitwise_and_not(fs):\n",
    "    f_not = list(map(np.invert, fs))\n",
    "    return rec_bitwise_and(f_not)"
   ]
  },
  {
   "cell_type": "code",
   "execution_count": 7,
   "metadata": {
    "collapsed": true
   },
   "outputs": [],
   "source": [
    "def intersection(fs):\n",
    "    t1 = rec_bitwise_and(fs)\n",
    "    t2 = rec_bitwise_and_not(fs)\n",
    "    return np.bitwise_or(t1, t2)"
   ]
  },
  {
   "cell_type": "code",
   "execution_count": 8,
   "metadata": {
    "collapsed": true
   },
   "outputs": [],
   "source": [
    "def not_filter_helper(r_var, rel1, rel2, n1, n2, sign):\n",
    "    return \"#count {{{0} : vrs({0}), {1}({3}, {0}), {2}({4}, {0})}} {5} 0\".format(r_var, rel1, rel2, n1, n2, sign)"
   ]
  },
  {
   "cell_type": "code",
   "execution_count": 9,
   "metadata": {
    "collapsed": true
   },
   "outputs": [],
   "source": [
    "def not_filter(n1, n2, rel):\n",
    "    ts = []\n",
    "    for i in range(len(rel)):\n",
    "        t = not_filter_helper(chr(ord('A')+i), idx_rel_map[i][0], idx_rel_map[i][1], n1, n2, \">\" if rel[i] else \"=\")\n",
    "        ts.append(t)\n",
    "    return \":- {}.\".format(\",\\n   \".join(ts))"
   ]
  },
  {
   "cell_type": "code",
   "execution_count": 10,
   "metadata": {
    "collapsed": true
   },
   "outputs": [],
   "source": [
    "def ir_helper(rel1: str, rel2: str, n1: str, n2: str, idx: int, rel_var=\"X\"):\n",
    "    return \"ir({0}, r{1}) :- {2}({3}, {0}), {4}({5}, {0}).\".format(rel_var, idx, rel1, n1, rel2, n2)"
   ]
  },
  {
   "cell_type": "code",
   "execution_count": 11,
   "metadata": {
    "collapsed": true
   },
   "outputs": [],
   "source": [
    "def vr_ir_helper(rel1: str, rel2: str, n1: str, n2: str, idx: int, rel_var=\"X\"):\n",
    "    return \"vr({}, r{}) ; \".format(rel_var, idx) + ir_helper(rel1, rel2, n1, n2, idx, rel_var)"
   ]
  },
  {
   "cell_type": "code",
   "execution_count": 12,
   "metadata": {
    "collapsed": true
   },
   "outputs": [],
   "source": [
    "def gen_coverage_rule(parent: str, children: list):  # For every non-leaf node\n",
    "    lhs = 'out({}, X)'.format(parent)\n",
    "    rhs = \", \".join(list(map(lambda x: 'out({}, X)'.format(x), children)))\n",
    "    return \"{} :- {}.\".format(lhs, rhs)"
   ]
  },
  {
   "cell_type": "code",
   "execution_count": 13,
   "metadata": {
    "collapsed": true
   },
   "outputs": [],
   "source": [
    "def gen_concept2_rule(node: str, tax_num: int):\n",
    "    return \"concept2({}, {}).\".format(node, tax_num)\n",
    "def gen_concept_rule(node: str, tax_num: int, concept_num: int):\n",
    "    return \"concept({}, {}, {}).\".format(node, tax_num, concept_num)\n",
    "def concept2_concept_rel():\n",
    "    return \"concept2(A, B) :- concept(A,B,_).\""
   ]
  },
  {
   "cell_type": "code",
   "execution_count": 14,
   "metadata": {
    "collapsed": true
   },
   "outputs": [],
   "source": [
    "def gen_sibling_disjointness(n1: str, n2: str, idx: int):  # For every pair of siblings\n",
    "    r1 = ir_helper(n1=n1, n2=n2, rel1=\"in\", rel2=\"in\", idx=idx)\n",
    "    r2 = \":- {}.\".format(not_filter_helper(n1=n1, n2=n2, rel1=\"in\", rel2=\"out\", sign=\"=\", r_var=\"X\"))\n",
    "    r3 = \":- {}.\".format(not_filter_helper(n1=n2, n2=n1, rel1=\"in\", rel2=\"out\", sign=\"=\", r_var=\"X\"))\n",
    "    return \"\\n\".join([r1,r2,r3])"
   ]
  },
  {
   "cell_type": "code",
   "execution_count": 15,
   "metadata": {
    "collapsed": true
   },
   "outputs": [],
   "source": [
    "def gen_isa_rule(child: str, parent: str, idx: int):  # For every parent-child relation\n",
    "    r1 = ir_helper(n1=child, n2=parent, rel1=\"in\", rel2=\"out\", idx=idx)\n",
    "    r2 = \":- {}.\".format(not_filter_helper(n1=child, n2=parent, rel1=\"in\", rel2=\"in\", sign=\"=\", r_var=\"X\"))\n",
    "    return \"\\n\".join([r1,r2])"
   ]
  },
  {
   "cell_type": "code",
   "execution_count": 16,
   "metadata": {
    "collapsed": true
   },
   "outputs": [],
   "source": [
    "def gen_euler_bit():  # Standard\n",
    "    r1 = \"bit(M, {}, V) :- r(M), M1=M/1, V = M1 \\ 5.\".format(0)\n",
    "    r2 = \"bit(M, {}, V) :- r(M), M1=M/5, V = M1 \\ 5.\".format(1)\n",
    "    return [r1, r2]"
   ]
  },
  {
   "cell_type": "code",
   "execution_count": 17,
   "metadata": {
    "collapsed": true
   },
   "outputs": [],
   "source": [
    "def gen_region_meanings():  # Standard\n",
    "    in_rule =   \"in(X, M) :- r(M), concept(X, T, N), N1=N+1, bit(M, T, N1).\"\n",
    "    out_rule = \"out(X, M) :- r(M), concept(X, T, N), N1=N+1, not bit(M, T, N1).\"\n",
    "    exactly_one = \"in(X, M) :- r(M), concept2(X, _), not out(X, M).\"\n",
    "    irs_rule = \"irs(M) :- in(X, M), out(X, M), r(M), concept2(X, _).\"\n",
    "    return [in_rule, out_rule, exactly_one, irs_rule]"
   ]
  },
  {
   "cell_type": "code",
   "execution_count": 18,
   "metadata": {
    "collapsed": true
   },
   "outputs": [],
   "source": [
    "def gen_region_constraints():  # Standard\n",
    "    irs = \"irs(X) :- ir(X, _).\"\n",
    "    vrs = \"vrs(X) :- vr(X, _).\"\n",
    "    vr = \"vr(X, X) :- not irs(X), r(X).\"\n",
    "    ir = \"ir(X, X) :- not vrs(X), r(X).\"\n",
    "    exactly_one = \":- vrs(X), irs(X).\"\n",
    "    return [irs, vrs, vr, ir, exactly_one]"
   ]
  },
  {
   "cell_type": "code",
   "execution_count": 19,
   "metadata": {
    "collapsed": true
   },
   "outputs": [],
   "source": [
    "def euler_region_count(end, start=1):\n",
    "    return [\"r({}..{}).\".format(start, end)]"
   ]
  },
  {
   "cell_type": "code",
   "execution_count": 20,
   "metadata": {
    "collapsed": true
   },
   "outputs": [],
   "source": [
    "rule_count = 0"
   ]
  },
  {
   "cell_type": "code",
   "execution_count": 26,
   "metadata": {
    "collapsed": true
   },
   "outputs": [],
   "source": [
    "def initial_rules():\n",
    "    global rule_count\n",
    "    euler_region_count_rule = euler_region_count(rule_count-1)\n",
    "    euler_bit_rules = gen_euler_bit()\n",
    "    region_meaning_rules = gen_region_meanings()\n",
    "    region_constraint_rules = gen_region_constraints()\n",
    "    concept2_concept_rule = concept2_concept_rel()\n",
    "    all_rules = euler_region_count_rule\n",
    "    all_rules.extend(euler_bit_rules)\n",
    "    all_rules.extend(region_meaning_rules)\n",
    "    all_rules.extend(region_constraint_rules)\n",
    "    all_rules.extend(concept2_concept_rule)\n",
    "    return all_rules"
   ]
  },
  {
   "cell_type": "code",
   "execution_count": 27,
   "metadata": {
    "collapsed": true
   },
   "outputs": [],
   "source": [
    "def gen_tax_rules(root, tax_id=0, concept_count=0):\n",
    "    global rule_count\n",
    "    children = root.children\n",
    "    sd_r = []\n",
    "    cov_r = []\n",
    "    concept_r = []\n",
    "    isa_r = []\n",
    "    if len(children) > 0:\n",
    "        for n1 in range(len(children)):\n",
    "            for n2 in range(n1+1, len(children)):\n",
    "                sd_r.append(gen_sibling_disjointness(children[n1].name, children[n2].name, rule_count))\n",
    "                rule_count += 1\n",
    "        cov_r = [gen_coverage_rule(root.name, list(map(lambda x: x.name, children)))]\n",
    "        concept_r = [gen_concept2_rule(root.name, tax_id)]\n",
    "        for child in children:\n",
    "            isa_r.append(gen_isa_rule(child.name, root.name, rule_count))\n",
    "            rule_count += 1\n",
    "        for child in children:\n",
    "            t_sd_r, t_cov_r, t_concept_r, t_isa_r, concept_count = gen_tax_rules(child, tax_id, concept_count)\n",
    "            sd_r.extend(t_sd_r)\n",
    "            cov_r.extend(t_cov_r)\n",
    "            concept_r.extend(t_concept_r)\n",
    "            isa_r.extend(t_isa_r)\n",
    "    else:\n",
    "        concept_r = [gen_concept_rule(root.name, tax_id, concept_count)]\n",
    "        concept_count += 1\n",
    "    return sd_r, cov_r, concept_r, isa_r, concept_count"
   ]
  },
  {
   "cell_type": "code",
   "execution_count": 28,
   "metadata": {
    "collapsed": true
   },
   "outputs": [],
   "source": [
    "def gen_rules(n1, n2, rels):\n",
    "    \"\"\"\n",
    "    Generates the rules that must be encoded in clingo to represent the\n",
    "    list of possible relations (rels) between given nodes n1 and n2\n",
    "    \"\"\"\n",
    "    global rule_count\n",
    "    update_rule_count = False\n",
    "    \n",
    "    rules = []\n",
    "    not_rels = list(all_rels - set(rels))\n",
    "    rels = list(map(lambda x: sym_dict[x], rels))\n",
    "    not_rels = list(map(lambda x: sym_dict[x], not_rels))\n",
    "    for not_rel in not_rels:\n",
    "        rules.append(not_filter(n1, n2, not_rel))\n",
    "    if len(rels) > 1:\n",
    "        intersect = intersection(rels)\n",
    "        for i in range(len(intersect)):\n",
    "            if intersect[i] == 1 and rels[0][i] == 0:\n",
    "                rules.append(ir_helper(idx_rel_map[i][0], idx_rel_map[i][1], n1, n2, rule_count))\n",
    "                update_rule_count = True\n",
    "            elif intersect[i] == 1 and rels[0][i] == 1:\n",
    "                rules.append(\":- {}.\".format(not_filter_helper(\"X\", idx_rel_map[i][0], idx_rel_map[i][1], n1, n2, \"=\"), \".\"))\n",
    "            elif intersect[i] == 0:\n",
    "                rules.append(vr_ir_helper(idx_rel_map[i][0], idx_rel_map[i][1], n1, n2, rule_count))\n",
    "                update_rule_count = True\n",
    "    else:\n",
    "        for i in range(len(rels[0])):\n",
    "            if rels[0][i] == 0:\n",
    "                rules.append(ir_helper(idx_rel_map[i][0], idx_rel_map[i][1], n1, n2, rule_count))\n",
    "                update_rule_count = True\n",
    "            elif rels[0][i] == 1:\n",
    "                rules.append(\":- {}.\".format(not_filter_helper(\"X\", idx_rel_map[i][0], idx_rel_map[i][1], n1, n2, \"=\"), \".\"))\n",
    "    \n",
    "    if update_rule_count:\n",
    "        rule_count += 1\n",
    "    \n",
    "    return rules"
   ]
  },
  {
   "cell_type": "code",
   "execution_count": 31,
   "metadata": {
    "collapsed": true
   },
   "outputs": [],
   "source": [
    "def decoding_rules():\n",
    "    \n",
    "    rel_list = list(all_rels)\n",
    "    mir_rules = [] ##\n",
    "    for i in range(len(rel_list)):\n",
    "        for j in range(i+1, len(rel_list)):\n",
    "            mir_rules.append(':- rel(X, Y, \"{}\"), rel(X, Y, \"{}\"), concept2(X, N1), concept2(Y, N2).'.format(rel_list[i], rel_list[j]))\n",
    "    \n",
    "    t = []\n",
    "    for rel in rel_list:\n",
    "        t.append('not rel(X, Y, \"{}\")'.format(rel))\n",
    "    t.append('concept2(X, N1)')\n",
    "    t.append('concept2(Y, N2)')\n",
    "    t.append('N1 < N2')\n",
    "    t.append('not ncf(X)')\n",
    "    t.append('not ncf(Y)')\n",
    "    at_least_one_rule = ':- {}.'.format(\", \".join(t)) ##\n",
    "    \n",
    "    rel_def = [] ##\n",
    "    for rel in rel_list:\n",
    "        t_ = []\n",
    "        for i in range(3):\n",
    "            t_.append('{1}hint(X, Y, {0})'.format(i, \"\" if sym_dict[rel][i] else \"not \"))\n",
    "        rel_def.append('rel(X, Y, \"{}\") :- {}.'.format(rel, \", \".join(t_)))\n",
    "    \n",
    "    ncf_rules = [] ##\n",
    "    for i in range(3):\n",
    "        ncf_rules.append('hint(X, Y, {}) :- concept2(X, N1), concept2(Y, N2), N1 < N2, vrs(R), {}(X, R), {}(Y, R), not ncf(X), not ncf(Y).'.format(i, idx_rel_map[i][0], idx_rel_map[i][1]))\n",
    "    \n",
    "    all_rules = mir_rules\n",
    "    all_rules.append(at_least_one_rule)\n",
    "    all_rules.extend(rel_def)\n",
    "    all_rules.extend(ncf_rules)\n",
    "    return all_rules"
   ]
  },
  {
   "cell_type": "code",
   "execution_count": 32,
   "metadata": {
    "collapsed": true
   },
   "outputs": [],
   "source": [
    "anytree_ = None\n",
    "with open('Temp_Pickle_Data/abstract4/anytree.pkl', 'rb') as f:\n",
    "    anytree_ = pkl.load(f)"
   ]
  },
  {
   "cell_type": "code",
   "execution_count": 33,
   "metadata": {},
   "outputs": [
    {
     "data": {
      "text/plain": [
       "dict_keys(['1', '2'])"
      ]
     },
     "execution_count": 33,
     "metadata": {},
     "output_type": "execute_result"
    }
   ],
   "source": [
    "anytree_.keys()"
   ]
  },
  {
   "cell_type": "code",
   "execution_count": 34,
   "metadata": {
    "collapsed": true
   },
   "outputs": [],
   "source": [
    "sibling_disjointness_rules = []\n",
    "coverage_rules = []\n",
    "concept_rules = []\n",
    "isa_rules = []\n",
    "tax2_rules = []\n",
    "for i, tax_name in enumerate(anytree_.keys()):\n",
    "    tax2_rules.append('tax({}, {}).'.format(tax_name, i))\n",
    "    root = anytree_[tax_name][tax_name].children[0]\n",
    "    all_rules = gen_tax_rules(root, tax_id=i)\n",
    "    sibling_disjointness_rules.extend(all_rules[0])\n",
    "    coverage_rules.extend(all_rules[1])\n",
    "    concept_rules.extend(all_rules[2])\n",
    "    isa_rules.extend(all_rules[3])"
   ]
  },
  {
   "cell_type": "code",
   "execution_count": 35,
   "metadata": {},
   "outputs": [
    {
     "name": "stdout",
     "output_type": "stream",
     "text": [
      "ir(X, r0) :- in(\"1_B\", X), in(\"1_C\", X).\n",
      ":- #count {X : vrs(X), in(\"1_B\", X), out(\"1_C\", X)} = 0.\n",
      ":- #count {X : vrs(X), in(\"1_C\", X), out(\"1_B\", X)} = 0.\n",
      "ir(X, r1) :- in(\"1_B\", X), in(\"1_D\", X).\n",
      ":- #count {X : vrs(X), in(\"1_B\", X), out(\"1_D\", X)} = 0.\n",
      ":- #count {X : vrs(X), in(\"1_D\", X), out(\"1_B\", X)} = 0.\n",
      "ir(X, r2) :- in(\"1_B\", X), in(\"1_E\", X).\n",
      ":- #count {X : vrs(X), in(\"1_B\", X), out(\"1_E\", X)} = 0.\n",
      ":- #count {X : vrs(X), in(\"1_E\", X), out(\"1_B\", X)} = 0.\n",
      "ir(X, r3) :- in(\"1_C\", X), in(\"1_D\", X).\n",
      ":- #count {X : vrs(X), in(\"1_C\", X), out(\"1_D\", X)} = 0.\n",
      ":- #count {X : vrs(X), in(\"1_D\", X), out(\"1_C\", X)} = 0.\n",
      "ir(X, r4) :- in(\"1_C\", X), in(\"1_E\", X).\n",
      ":- #count {X : vrs(X), in(\"1_C\", X), out(\"1_E\", X)} = 0.\n",
      ":- #count {X : vrs(X), in(\"1_E\", X), out(\"1_C\", X)} = 0.\n",
      "ir(X, r5) :- in(\"1_D\", X), in(\"1_E\", X).\n",
      ":- #count {X : vrs(X), in(\"1_D\", X), out(\"1_E\", X)} = 0.\n",
      ":- #count {X : vrs(X), in(\"1_E\", X), out(\"1_D\", X)} = 0.\n",
      "ir(X, r10) :- in(\"2_B\", X), in(\"2_D\", X).\n",
      ":- #count {X : vrs(X), in(\"2_B\", X), out(\"2_D\", X)} = 0.\n",
      ":- #count {X : vrs(X), in(\"2_D\", X), out(\"2_B\", X)} = 0.\n",
      "ir(X, r11) :- in(\"2_B\", X), in(\"2_F\", X).\n",
      ":- #count {X : vrs(X), in(\"2_B\", X), out(\"2_F\", X)} = 0.\n",
      ":- #count {X : vrs(X), in(\"2_F\", X), out(\"2_B\", X)} = 0.\n",
      "ir(X, r12) :- in(\"2_B\", X), in(\"2_G\", X).\n",
      ":- #count {X : vrs(X), in(\"2_B\", X), out(\"2_G\", X)} = 0.\n",
      ":- #count {X : vrs(X), in(\"2_G\", X), out(\"2_B\", X)} = 0.\n",
      "ir(X, r13) :- in(\"2_D\", X), in(\"2_F\", X).\n",
      ":- #count {X : vrs(X), in(\"2_D\", X), out(\"2_F\", X)} = 0.\n",
      ":- #count {X : vrs(X), in(\"2_F\", X), out(\"2_D\", X)} = 0.\n",
      "ir(X, r14) :- in(\"2_D\", X), in(\"2_G\", X).\n",
      ":- #count {X : vrs(X), in(\"2_D\", X), out(\"2_G\", X)} = 0.\n",
      ":- #count {X : vrs(X), in(\"2_G\", X), out(\"2_D\", X)} = 0.\n",
      "ir(X, r15) :- in(\"2_F\", X), in(\"2_G\", X).\n",
      ":- #count {X : vrs(X), in(\"2_F\", X), out(\"2_G\", X)} = 0.\n",
      ":- #count {X : vrs(X), in(\"2_G\", X), out(\"2_F\", X)} = 0.\n"
     ]
    }
   ],
   "source": [
    "print(\"\\n\".join(sibling_disjointness_rules))"
   ]
  },
  {
   "cell_type": "code",
   "execution_count": 36,
   "metadata": {},
   "outputs": [
    {
     "name": "stdout",
     "output_type": "stream",
     "text": [
      "out(\"1_A\", X) :- out(\"1_B\", X), out(\"1_C\", X), out(\"1_D\", X), out(\"1_E\", X).\n",
      "out(\"2_A\", X) :- out(\"2_B\", X), out(\"2_D\", X), out(\"2_F\", X), out(\"2_G\", X).\n"
     ]
    }
   ],
   "source": [
    "print(\"\\n\".join(coverage_rules))"
   ]
  },
  {
   "cell_type": "code",
   "execution_count": 37,
   "metadata": {},
   "outputs": [
    {
     "name": "stdout",
     "output_type": "stream",
     "text": [
      "concept2(\"1_A\", 0).\n",
      "concept(\"1_B\", 0, 0).\n",
      "concept(\"1_C\", 0, 1).\n",
      "concept(\"1_D\", 0, 2).\n",
      "concept(\"1_E\", 0, 3).\n",
      "concept2(\"2_A\", 1).\n",
      "concept(\"2_B\", 1, 0).\n",
      "concept(\"2_D\", 1, 1).\n",
      "concept(\"2_F\", 1, 2).\n",
      "concept(\"2_G\", 1, 3).\n"
     ]
    }
   ],
   "source": [
    "print(\"\\n\".join(concept_rules))"
   ]
  },
  {
   "cell_type": "code",
   "execution_count": 38,
   "metadata": {},
   "outputs": [
    {
     "name": "stdout",
     "output_type": "stream",
     "text": [
      "ir(X, r6) :- in(\"1_B\", X), out(\"1_A\", X).\n",
      ":- #count {X : vrs(X), in(\"1_B\", X), in(\"1_A\", X)} = 0.\n",
      "ir(X, r7) :- in(\"1_C\", X), out(\"1_A\", X).\n",
      ":- #count {X : vrs(X), in(\"1_C\", X), in(\"1_A\", X)} = 0.\n",
      "ir(X, r8) :- in(\"1_D\", X), out(\"1_A\", X).\n",
      ":- #count {X : vrs(X), in(\"1_D\", X), in(\"1_A\", X)} = 0.\n",
      "ir(X, r9) :- in(\"1_E\", X), out(\"1_A\", X).\n",
      ":- #count {X : vrs(X), in(\"1_E\", X), in(\"1_A\", X)} = 0.\n",
      "ir(X, r16) :- in(\"2_B\", X), out(\"2_A\", X).\n",
      ":- #count {X : vrs(X), in(\"2_B\", X), in(\"2_A\", X)} = 0.\n",
      "ir(X, r17) :- in(\"2_D\", X), out(\"2_A\", X).\n",
      ":- #count {X : vrs(X), in(\"2_D\", X), in(\"2_A\", X)} = 0.\n",
      "ir(X, r18) :- in(\"2_F\", X), out(\"2_A\", X).\n",
      ":- #count {X : vrs(X), in(\"2_F\", X), in(\"2_A\", X)} = 0.\n",
      "ir(X, r19) :- in(\"2_G\", X), out(\"2_A\", X).\n",
      ":- #count {X : vrs(X), in(\"2_G\", X), in(\"2_A\", X)} = 0.\n"
     ]
    }
   ],
   "source": [
    "print(\"\\n\".join(isa_rules))"
   ]
  },
  {
   "cell_type": "code",
   "execution_count": 39,
   "metadata": {},
   "outputs": [
    {
     "name": "stdout",
     "output_type": "stream",
     "text": [
      "tax(1, 0).\n",
      "tax(2, 1).\n"
     ]
    }
   ],
   "source": [
    "print(\"\\n\".join(tax2_rules))"
   ]
  },
  {
   "cell_type": "code",
   "execution_count": 40,
   "metadata": {
    "collapsed": true
   },
   "outputs": [],
   "source": [
    "articulations = None\n",
    "with open('Temp_Pickle_Data/abstract4/taxDesc.pkl', 'rb') as f:\n",
    "    articulations = pkl.load(f)\n",
    "#print(articulations)"
   ]
  },
  {
   "cell_type": "code",
   "execution_count": 41,
   "metadata": {},
   "outputs": [
    {
     "name": "stdout",
     "output_type": "stream",
     "text": [
      ":- #count {A : vrs(A), in(\"1_A\", A), out(\"2_A\", A)} > 0,\n",
      "   #count {B : vrs(B), in(\"1_A\", B), in(\"2_A\", B)} > 0,\n",
      "   #count {C : vrs(C), out(\"1_A\", C), in(\"2_A\", C)} > 0.\n",
      ":- #count {A : vrs(A), in(\"1_A\", A), out(\"2_A\", A)} > 0,\n",
      "   #count {B : vrs(B), in(\"1_A\", B), in(\"2_A\", B)} = 0,\n",
      "   #count {C : vrs(C), out(\"1_A\", C), in(\"2_A\", C)} > 0.\n",
      ":- #count {A : vrs(A), in(\"1_A\", A), out(\"2_A\", A)} > 0,\n",
      "   #count {B : vrs(B), in(\"1_A\", B), in(\"2_A\", B)} > 0,\n",
      "   #count {C : vrs(C), out(\"1_A\", C), in(\"2_A\", C)} = 0.\n",
      "ir(X, r20) :- in(\"1_A\", X), out(\"2_A\", X).\n",
      ":- #count {X : vrs(X), in(\"1_A\", X), in(\"2_A\", X)} = 0.\n",
      "vr(X, r20) ; ir(X, r20) :- out(\"1_A\", X), in(\"2_A\", X).\n",
      ":- #count {A : vrs(A), in(\"1_B\", A), out(\"2_B\", A)} > 0,\n",
      "   #count {B : vrs(B), in(\"1_B\", B), in(\"2_B\", B)} > 0,\n",
      "   #count {C : vrs(C), out(\"1_B\", C), in(\"2_B\", C)} > 0.\n",
      ":- #count {A : vrs(A), in(\"1_B\", A), out(\"2_B\", A)} = 0,\n",
      "   #count {B : vrs(B), in(\"1_B\", B), in(\"2_B\", B)} > 0,\n",
      "   #count {C : vrs(C), out(\"1_B\", C), in(\"2_B\", C)} > 0.\n",
      ":- #count {A : vrs(A), in(\"1_B\", A), out(\"2_B\", A)} > 0,\n",
      "   #count {B : vrs(B), in(\"1_B\", B), in(\"2_B\", B)} = 0,\n",
      "   #count {C : vrs(C), out(\"1_B\", C), in(\"2_B\", C)} > 0.\n",
      ":- #count {A : vrs(A), in(\"1_B\", A), out(\"2_B\", A)} > 0,\n",
      "   #count {B : vrs(B), in(\"1_B\", B), in(\"2_B\", B)} > 0,\n",
      "   #count {C : vrs(C), out(\"1_B\", C), in(\"2_B\", C)} = 0.\n",
      "ir(X, r21) :- in(\"1_B\", X), out(\"2_B\", X).\n",
      ":- #count {X : vrs(X), in(\"1_B\", X), in(\"2_B\", X)} = 0.\n",
      "ir(X, r21) :- out(\"1_B\", X), in(\"2_B\", X).\n",
      ":- #count {A : vrs(A), in(\"1_C\", A), out(\"2_F\", A)} > 0,\n",
      "   #count {B : vrs(B), in(\"1_C\", B), in(\"2_F\", B)} = 0,\n",
      "   #count {C : vrs(C), out(\"1_C\", C), in(\"2_F\", C)} > 0.\n",
      ":- #count {A : vrs(A), in(\"1_C\", A), out(\"2_F\", A)} = 0,\n",
      "   #count {B : vrs(B), in(\"1_C\", B), in(\"2_F\", B)} > 0,\n",
      "   #count {C : vrs(C), out(\"1_C\", C), in(\"2_F\", C)} = 0.\n",
      ":- #count {A : vrs(A), in(\"1_C\", A), out(\"2_F\", A)} > 0,\n",
      "   #count {B : vrs(B), in(\"1_C\", B), in(\"2_F\", B)} > 0,\n",
      "   #count {C : vrs(C), out(\"1_C\", C), in(\"2_F\", C)} = 0.\n",
      "vr(X, r22) ; ir(X, r22) :- in(\"1_C\", X), out(\"2_F\", X).\n",
      ":- #count {X : vrs(X), in(\"1_C\", X), in(\"2_F\", X)} = 0.\n",
      ":- #count {X : vrs(X), out(\"1_C\", X), in(\"2_F\", X)} = 0.\n",
      ":- #count {A : vrs(A), in(\"1_D\", A), out(\"2_D\", A)} > 0,\n",
      "   #count {B : vrs(B), in(\"1_D\", B), in(\"2_D\", B)} > 0,\n",
      "   #count {C : vrs(C), out(\"1_D\", C), in(\"2_D\", C)} > 0.\n",
      ":- #count {A : vrs(A), in(\"1_D\", A), out(\"2_D\", A)} = 0,\n",
      "   #count {B : vrs(B), in(\"1_D\", B), in(\"2_D\", B)} > 0,\n",
      "   #count {C : vrs(C), out(\"1_D\", C), in(\"2_D\", C)} > 0.\n",
      ":- #count {A : vrs(A), in(\"1_D\", A), out(\"2_D\", A)} > 0,\n",
      "   #count {B : vrs(B), in(\"1_D\", B), in(\"2_D\", B)} = 0,\n",
      "   #count {C : vrs(C), out(\"1_D\", C), in(\"2_D\", C)} > 0.\n",
      ":- #count {A : vrs(A), in(\"1_D\", A), out(\"2_D\", A)} > 0,\n",
      "   #count {B : vrs(B), in(\"1_D\", B), in(\"2_D\", B)} > 0,\n",
      "   #count {C : vrs(C), out(\"1_D\", C), in(\"2_D\", C)} = 0.\n",
      "ir(X, r23) :- in(\"1_D\", X), out(\"2_D\", X).\n",
      ":- #count {X : vrs(X), in(\"1_D\", X), in(\"2_D\", X)} = 0.\n",
      "ir(X, r23) :- out(\"1_D\", X), in(\"2_D\", X).\n",
      ":- #count {A : vrs(A), in(\"1_E\", A), out(\"2_G\", A)} = 0,\n",
      "   #count {B : vrs(B), in(\"1_E\", B), in(\"2_G\", B)} > 0,\n",
      "   #count {C : vrs(C), out(\"1_E\", C), in(\"2_G\", C)} > 0.\n",
      ":- #count {A : vrs(A), in(\"1_E\", A), out(\"2_G\", A)} > 0,\n",
      "   #count {B : vrs(B), in(\"1_E\", B), in(\"2_G\", B)} = 0,\n",
      "   #count {C : vrs(C), out(\"1_E\", C), in(\"2_G\", C)} > 0.\n",
      ":- #count {A : vrs(A), in(\"1_E\", A), out(\"2_G\", A)} > 0,\n",
      "   #count {B : vrs(B), in(\"1_E\", B), in(\"2_G\", B)} > 0,\n",
      "   #count {C : vrs(C), out(\"1_E\", C), in(\"2_G\", C)} = 0.\n",
      "vr(X, r24) ; ir(X, r24) :- in(\"1_E\", X), out(\"2_G\", X).\n",
      ":- #count {X : vrs(X), in(\"1_E\", X), in(\"2_G\", X)} = 0.\n",
      "vr(X, r24) ; ir(X, r24) :- out(\"1_E\", X), in(\"2_G\", X).\n"
     ]
    }
   ],
   "source": [
    "articulation_rules = []\n",
    "for idx, row in articulations.iterrows():\n",
    "    n1 = row['Node1']\n",
    "    rel = row['Relation'].split(\",\")\n",
    "    n2 = row['Node2']\n",
    "    if rel[0] != 'parent':\n",
    "        articulation_rules.extend(gen_rules(n1, n2, rel))\n",
    "print(\"\\n\".join(articulation_rules))"
   ]
  },
  {
   "cell_type": "code",
   "execution_count": 42,
   "metadata": {},
   "outputs": [
    {
     "name": "stdout",
     "output_type": "stream",
     "text": [
      ":- rel(X, Y, \"!\"), rel(X, Y, \">\"), concept2(X, N1), concept2(Y, N2).\n",
      ":- rel(X, Y, \"!\"), rel(X, Y, \"=\"), concept2(X, N1), concept2(Y, N2).\n",
      ":- rel(X, Y, \"!\"), rel(X, Y, \"o\"), concept2(X, N1), concept2(Y, N2).\n",
      ":- rel(X, Y, \"!\"), rel(X, Y, \"<\"), concept2(X, N1), concept2(Y, N2).\n",
      ":- rel(X, Y, \">\"), rel(X, Y, \"=\"), concept2(X, N1), concept2(Y, N2).\n",
      ":- rel(X, Y, \">\"), rel(X, Y, \"o\"), concept2(X, N1), concept2(Y, N2).\n",
      ":- rel(X, Y, \">\"), rel(X, Y, \"<\"), concept2(X, N1), concept2(Y, N2).\n",
      ":- rel(X, Y, \"=\"), rel(X, Y, \"o\"), concept2(X, N1), concept2(Y, N2).\n",
      ":- rel(X, Y, \"=\"), rel(X, Y, \"<\"), concept2(X, N1), concept2(Y, N2).\n",
      ":- rel(X, Y, \"o\"), rel(X, Y, \"<\"), concept2(X, N1), concept2(Y, N2).\n",
      ":- not rel(X, Y, \"!\"), not rel(X, Y, \">\"), not rel(X, Y, \"=\"), not rel(X, Y, \"o\"), not rel(X, Y, \"<\"), concept2(X, N1), concept2(Y, N2), N1 < N2, not ncf(X), not ncf(Y).\n",
      "rel(X, Y, \"!\") :- hint(X, Y, 0), not hint(X, Y, 1), hint(X, Y, 2).\n",
      "rel(X, Y, \">\") :- hint(X, Y, 0), hint(X, Y, 1), not hint(X, Y, 2).\n",
      "rel(X, Y, \"=\") :- not hint(X, Y, 0), hint(X, Y, 1), not hint(X, Y, 2).\n",
      "rel(X, Y, \"o\") :- hint(X, Y, 0), hint(X, Y, 1), hint(X, Y, 2).\n",
      "rel(X, Y, \"<\") :- not hint(X, Y, 0), hint(X, Y, 1), hint(X, Y, 2).\n",
      "hint(X, Y, 0) :- concept2(X, N1), concept2(Y, N2), N1 < N2, vrs(R), in(X, R), out(Y, R), not ncf(X), not ncf(Y).\n",
      "hint(X, Y, 1) :- concept2(X, N1), concept2(Y, N2), N1 < N2, vrs(R), in(X, R), in(Y, R), not ncf(X), not ncf(Y).\n",
      "hint(X, Y, 2) :- concept2(X, N1), concept2(Y, N2), N1 < N2, vrs(R), out(X, R), in(Y, R), not ncf(X), not ncf(Y).\n"
     ]
    }
   ],
   "source": [
    "print(\"\\n\".join(decoding_rules()))"
   ]
  },
  {
   "cell_type": "code",
   "execution_count": 43,
   "metadata": {},
   "outputs": [
    {
     "name": "stdout",
     "output_type": "stream",
     "text": [
      "r(1..24).\n",
      "bit(M, 0, V) :- r(M), M1=M/1, V = M1 \\ 5.\n",
      "bit(M, 1, V) :- r(M), M1=M/5, V = M1 \\ 5.\n",
      "in(X, M) :- r(M), concept(X, T, N), N1=N+1, bit(M, T, N1).\n",
      "out(X, M) :- r(M), concept(X, T, N), N1=N+1, not bit(M, T, N1).\n",
      "in(X, M) :- r(M), concept2(X, _), not out(X, M).\n",
      "irs(M) :- in(X, M), out(X, M), r(M), concept2(X, _).\n",
      "irs(X) :- ir(X, _).\n",
      "vrs(X) :- vr(X, _).\n",
      "vr(X, X) :- not irs(X), r(X).\n",
      "ir(X, X) :- not vrs(X), r(X).\n",
      ":- vrs(X), irs(X).\n"
     ]
    }
   ],
   "source": [
    "print(\"\\n\".join(initial_rules()))"
   ]
  },
  {
   "cell_type": "code",
   "execution_count": null,
   "metadata": {
    "collapsed": true
   },
   "outputs": [],
   "source": []
  }
 ],
 "metadata": {
  "kernelspec": {
   "display_name": "Python 3",
   "language": "python",
   "name": "python3"
  },
  "language_info": {
   "codemirror_mode": {
    "name": "ipython",
    "version": 3
   },
   "file_extension": ".py",
   "mimetype": "text/x-python",
   "name": "python",
   "nbconvert_exporter": "python",
   "pygments_lexer": "ipython3",
   "version": "3.6.5"
  }
 },
 "nbformat": 4,
 "nbformat_minor": 2
}
