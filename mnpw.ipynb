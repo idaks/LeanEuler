{
 "cells": [
  {
   "cell_type": "code",
   "execution_count": 1,
   "metadata": {
    "collapsed": true
   },
   "outputs": [],
   "source": [
    "import numpy as np"
   ]
  },
  {
   "cell_type": "code",
   "execution_count": 47,
   "metadata": {
    "collapsed": true
   },
   "outputs": [],
   "source": [
    "equals = np.array([0,1,0], dtype=\"bool\")\n",
    "overlaps = np.array([1,1,1], dtype=\"bool\")\n",
    "included_in = np.array([0,1,1], dtype=\"bool\")\n",
    "disjoint = np.array([1,0,1], dtype=\"bool\")\n",
    "includes = np.array([1,1,0], dtype=\"bool\")"
   ]
  },
  {
   "cell_type": "code",
   "execution_count": 48,
   "metadata": {},
   "outputs": [],
   "source": [
    "sym_dict = {\n",
    "    \"=\": equals,\n",
    "    \"o\": overlaps,\n",
    "    \"<\": included_in,\n",
    "    \">\": includes,\n",
    "    \"!\": disjoint\n",
    "}\n",
    "all_rels = set(sym_dict.keys())"
   ]
  },
  {
   "cell_type": "code",
   "execution_count": 49,
   "metadata": {
    "collapsed": true
   },
   "outputs": [],
   "source": [
    "idx_rel_map = {0: (\"in\", \"out\"),\n",
    "               1: (\"in\", \"in\"),\n",
    "               2: (\"out\", \"in\")}"
   ]
  },
  {
   "cell_type": "code",
   "execution_count": 50,
   "metadata": {
    "collapsed": true
   },
   "outputs": [],
   "source": [
    "def rec_bitwise_and(fs):\n",
    "    if len(fs) == 1:\n",
    "        return fs[0]\n",
    "    if len(fs) == 2:\n",
    "        return np.bitwise_and(fs[0], fs[1])\n",
    "    mid = int(np.ceil(len(fs)/2))\n",
    "    return np.bitwise_and(rec_bitwise_and(fs[:mid]), rec_bitwise_and(fs[mid:]))"
   ]
  },
  {
   "cell_type": "code",
   "execution_count": 51,
   "metadata": {
    "collapsed": true
   },
   "outputs": [],
   "source": [
    "def rec_bitwise_and_not(fs):\n",
    "    f_not = list(map(np.invert, fs))\n",
    "    return rec_bitwise_and(f_not)"
   ]
  },
  {
   "cell_type": "code",
   "execution_count": 52,
   "metadata": {
    "collapsed": true
   },
   "outputs": [],
   "source": [
    "def intersection(fs):\n",
    "    t1 = rec_bitwise_and(fs)\n",
    "    t2 = rec_bitwise_and_not(fs)\n",
    "    return np.bitwise_or(t1, t2)"
   ]
  },
  {
   "cell_type": "code",
   "execution_count": 53,
   "metadata": {
    "collapsed": true
   },
   "outputs": [],
   "source": [
    "def not_filter_helper(r_var, rel1, rel2, n1, n2, sign):\n",
    "    return \"#count {{{0} : vrs({0}), {1}({3}, {0}), {2}({4}, {0})}} {5} 0\".format(r_var, rel1, rel2, n1, n2, sign)"
   ]
  },
  {
   "cell_type": "code",
   "execution_count": 54,
   "metadata": {
    "collapsed": true
   },
   "outputs": [],
   "source": [
    "def not_filter(n1, n2, rel):\n",
    "    ts = []\n",
    "    for i in range(len(rel)):\n",
    "        t = not_filter_helper(chr(ord('A')+i), idx_rel_map[i][0], idx_rel_map[i][1], n1, n2, \">\" if rel[i] else \"=\")\n",
    "        ts.append(t)\n",
    "    return \":- {}.\".format(\",\\n   \".join(ts))"
   ]
  },
  {
   "cell_type": "code",
   "execution_count": 55,
   "metadata": {
    "collapsed": true
   },
   "outputs": [],
   "source": [
    "def ir_helper(rel1: str, rel2: str, n1: str, n2: str, idx: int, rel_var=\"X\"):\n",
    "    return \"ir({0}, r{1}) :- {2}({3}, {0}), {4}({5}, {0}).\".format(rel_var, idx, rel1, n1, rel2, n2)"
   ]
  },
  {
   "cell_type": "code",
   "execution_count": 56,
   "metadata": {
    "collapsed": true
   },
   "outputs": [],
   "source": [
    "def vr_ir_helper(rel1: str, rel2: str, n1: str, n2: str, idx: int, rel_var=\"X\"):\n",
    "    return \"vr({}, r{}) ; \".format(rel_var, idx) + ir_helper(rel1, rel2, n1, n2, idx, rel_var)"
   ]
  },
  {
   "cell_type": "code",
   "execution_count": 59,
   "metadata": {
    "collapsed": true
   },
   "outputs": [],
   "source": [
    "def gen_rules(n1, n2, rels):\n",
    "    \"\"\"\n",
    "    Generates the rules that must be encoded in clingo to represent the\n",
    "    list of possible relations (rels) between given nodes n1 and n2\n",
    "    \"\"\"\n",
    "    global rule_count\n",
    "    rule_count += 1\n",
    "    rules = []\n",
    "    not_rels = list(all_rels - set(rels))\n",
    "    rels = list(map(lambda x: sym_dict[x], rels))\n",
    "    not_rels = list(map(lambda x: sym_dict[x], not_rels))\n",
    "    for not_rel in not_rels:\n",
    "        rules.append(not_filter(n1, n2, not_rel))\n",
    "    if len(rels) > 1:\n",
    "        intersect = intersection(rels)\n",
    "        for i in range(len(intersect)):\n",
    "            if intersect[i] == 1 and rels[0][i] == 0:\n",
    "                rules.append(ir_helper(idx_rel_map[i][0], idx_rel_map[i][1], n1, n2, rule_count))\n",
    "            elif intersect[i] == 1 and rels[0][i] == 1:\n",
    "                rules.append(\":- {}.\".format(not_filter_helper(\"X\", idx_rel_map[i][0], idx_rel_map[i][1], n1, n2, \"=\"), \".\"))\n",
    "            elif intersect[i] == 0:\n",
    "                rules.append(vr_ir_helper(idx_rel_map[i][0], idx_rel_map[i][1], n1, n2, rule_count))\n",
    "    else:\n",
    "        for i in range(len(rels[0])):\n",
    "            if rels[0][i] == 0:\n",
    "                rules.append(ir_helper(idx_rel_map[i][0], idx_rel_map[i][1], n1, n2, rule_count))\n",
    "            elif rels[0][i] == 1:\n",
    "                rules.append(\":- {}.\".format(not_filter_helper(\"X\", idx_rel_map[i][0], idx_rel_map[i][1], n1, n2, \"=\"), \".\"))\n",
    "    return rules"
   ]
  },
  {
   "cell_type": "code",
   "execution_count": 57,
   "metadata": {
    "collapsed": true
   },
   "outputs": [],
   "source": [
    "rule_count = 0"
   ]
  },
  {
   "cell_type": "code",
   "execution_count": 58,
   "metadata": {
    "collapsed": true
   },
   "outputs": [],
   "source": [
    "rule_count = 21"
   ]
  },
  {
   "cell_type": "code",
   "execution_count": 60,
   "metadata": {},
   "outputs": [
    {
     "name": "stdout",
     "output_type": "stream",
     "text": [
      ":- #count {A : vrs(A), in(1_A, A), out(2_A, A)} > 0,\n",
      "   #count {B : vrs(B), in(1_A, B), in(2_A, B)} > 0,\n",
      "   #count {C : vrs(C), out(1_A, C), in(2_A, C)} > 0.\n",
      ":- #count {A : vrs(A), in(1_A, A), out(2_A, A)} > 0,\n",
      "   #count {B : vrs(B), in(1_A, B), in(2_A, B)} = 0,\n",
      "   #count {C : vrs(C), out(1_A, C), in(2_A, C)} > 0.\n",
      ":- #count {A : vrs(A), in(1_A, A), out(2_A, A)} > 0,\n",
      "   #count {B : vrs(B), in(1_A, B), in(2_A, B)} > 0,\n",
      "   #count {C : vrs(C), out(1_A, C), in(2_A, C)} = 0.\n",
      "ir(X, r22) :- in(1_A, X), out(2_A, X).\n",
      ":- #count {X : vrs(X), in(1_A, X), in(2_A, X)} = 0.\n",
      "vr(X, r22) ; ir(X, r22) :- out(1_A, X), in(2_A, X).\n"
     ]
    }
   ],
   "source": [
    "print(\"\\n\".join(gen_rules(\"1_A\", \"2_A\", [\"<\", \"=\"])))"
   ]
  },
  {
   "cell_type": "code",
   "execution_count": 61,
   "metadata": {},
   "outputs": [
    {
     "name": "stdout",
     "output_type": "stream",
     "text": [
      ":- #count {A : vrs(A), in(1_B, A), out(2_B, A)} = 0,\n",
      "   #count {B : vrs(B), in(1_B, B), in(2_B, B)} > 0,\n",
      "   #count {C : vrs(C), out(1_B, C), in(2_B, C)} > 0.\n",
      ":- #count {A : vrs(A), in(1_B, A), out(2_B, A)} > 0,\n",
      "   #count {B : vrs(B), in(1_B, B), in(2_B, B)} > 0,\n",
      "   #count {C : vrs(C), out(1_B, C), in(2_B, C)} > 0.\n",
      ":- #count {A : vrs(A), in(1_B, A), out(2_B, A)} > 0,\n",
      "   #count {B : vrs(B), in(1_B, B), in(2_B, B)} = 0,\n",
      "   #count {C : vrs(C), out(1_B, C), in(2_B, C)} > 0.\n",
      ":- #count {A : vrs(A), in(1_B, A), out(2_B, A)} > 0,\n",
      "   #count {B : vrs(B), in(1_B, B), in(2_B, B)} > 0,\n",
      "   #count {C : vrs(C), out(1_B, C), in(2_B, C)} = 0.\n",
      "ir(X, r23) :- in(1_B, X), out(2_B, X).\n",
      ":- #count {X : vrs(X), in(1_B, X), in(2_B, X)} = 0.\n",
      "ir(X, r23) :- out(1_B, X), in(2_B, X).\n"
     ]
    }
   ],
   "source": [
    "print(\"\\n\".join(gen_rules(\"1_B\", \"2_B\", [\"=\"])))"
   ]
  },
  {
   "cell_type": "code",
   "execution_count": 62,
   "metadata": {},
   "outputs": [
    {
     "name": "stdout",
     "output_type": "stream",
     "text": [
      ":- #count {A : vrs(A), in(1_C, A), out(2_F, A)} = 0,\n",
      "   #count {B : vrs(B), in(1_C, B), in(2_F, B)} > 0,\n",
      "   #count {C : vrs(C), out(1_C, C), in(2_F, C)} = 0.\n",
      ":- #count {A : vrs(A), in(1_C, A), out(2_F, A)} > 0,\n",
      "   #count {B : vrs(B), in(1_C, B), in(2_F, B)} = 0,\n",
      "   #count {C : vrs(C), out(1_C, C), in(2_F, C)} > 0.\n",
      ":- #count {A : vrs(A), in(1_C, A), out(2_F, A)} > 0,\n",
      "   #count {B : vrs(B), in(1_C, B), in(2_F, B)} > 0,\n",
      "   #count {C : vrs(C), out(1_C, C), in(2_F, C)} = 0.\n",
      "vr(X, r24) ; ir(X, r24) :- in(1_C, X), out(2_F, X).\n",
      ":- #count {X : vrs(X), in(1_C, X), in(2_F, X)} = 0.\n",
      ":- #count {X : vrs(X), out(1_C, X), in(2_F, X)} = 0.\n"
     ]
    }
   ],
   "source": [
    "print(\"\\n\".join(gen_rules(\"1_C\", \"2_F\", [\"<\", \"o\"])))"
   ]
  },
  {
   "cell_type": "code",
   "execution_count": 63,
   "metadata": {},
   "outputs": [
    {
     "name": "stdout",
     "output_type": "stream",
     "text": [
      ":- #count {A : vrs(A), in(1_D, A), out(2_D, A)} = 0,\n",
      "   #count {B : vrs(B), in(1_D, B), in(2_D, B)} > 0,\n",
      "   #count {C : vrs(C), out(1_D, C), in(2_D, C)} > 0.\n",
      ":- #count {A : vrs(A), in(1_D, A), out(2_D, A)} > 0,\n",
      "   #count {B : vrs(B), in(1_D, B), in(2_D, B)} > 0,\n",
      "   #count {C : vrs(C), out(1_D, C), in(2_D, C)} > 0.\n",
      ":- #count {A : vrs(A), in(1_D, A), out(2_D, A)} > 0,\n",
      "   #count {B : vrs(B), in(1_D, B), in(2_D, B)} = 0,\n",
      "   #count {C : vrs(C), out(1_D, C), in(2_D, C)} > 0.\n",
      ":- #count {A : vrs(A), in(1_D, A), out(2_D, A)} > 0,\n",
      "   #count {B : vrs(B), in(1_D, B), in(2_D, B)} > 0,\n",
      "   #count {C : vrs(C), out(1_D, C), in(2_D, C)} = 0.\n",
      "ir(X, r25) :- in(1_D, X), out(2_D, X).\n",
      ":- #count {X : vrs(X), in(1_D, X), in(2_D, X)} = 0.\n",
      "ir(X, r25) :- out(1_D, X), in(2_D, X).\n"
     ]
    }
   ],
   "source": [
    "print(\"\\n\".join(gen_rules(\"1_D\", \"2_D\", [\"=\"])))"
   ]
  },
  {
   "cell_type": "code",
   "execution_count": 64,
   "metadata": {},
   "outputs": [
    {
     "name": "stdout",
     "output_type": "stream",
     "text": [
      ":- #count {A : vrs(A), in(1_E, A), out(2_G, A)} = 0,\n",
      "   #count {B : vrs(B), in(1_E, B), in(2_G, B)} > 0,\n",
      "   #count {C : vrs(C), out(1_E, C), in(2_G, C)} > 0.\n",
      ":- #count {A : vrs(A), in(1_E, A), out(2_G, A)} > 0,\n",
      "   #count {B : vrs(B), in(1_E, B), in(2_G, B)} = 0,\n",
      "   #count {C : vrs(C), out(1_E, C), in(2_G, C)} > 0.\n",
      ":- #count {A : vrs(A), in(1_E, A), out(2_G, A)} > 0,\n",
      "   #count {B : vrs(B), in(1_E, B), in(2_G, B)} > 0,\n",
      "   #count {C : vrs(C), out(1_E, C), in(2_G, C)} = 0.\n",
      "vr(X, r26) ; ir(X, r26) :- in(1_E, X), out(2_G, X).\n",
      ":- #count {X : vrs(X), in(1_E, X), in(2_G, X)} = 0.\n",
      "vr(X, r26) ; ir(X, r26) :- out(1_E, X), in(2_G, X).\n"
     ]
    }
   ],
   "source": [
    "print(\"\\n\".join(gen_rules(\"1_E\", \"2_G\", [\"o\", \"=\"])))"
   ]
  },
  {
   "cell_type": "code",
   "execution_count": 65,
   "metadata": {
    "collapsed": true
   },
   "outputs": [],
   "source": [
    "# MIR and Decoding rules (Standard)"
   ]
  },
  {
   "cell_type": "code",
   "execution_count": 75,
   "metadata": {
    "collapsed": true
   },
   "outputs": [],
   "source": [
    "def decoding_rules():\n",
    "    \n",
    "    rel_list = list(all_rels)\n",
    "    mir_rules = [] ##\n",
    "    for i in range(len(rel_list)):\n",
    "        for j in range(i+1, len(rel_list)):\n",
    "            mir_rules.append(':- rel(X, Y, \"{}\"), rel(X, Y, \"{}\"), concept2(X, N1), concept2(X, N2).'.format(rel_list[i], rel_list[j]))\n",
    "    \n",
    "    t = []\n",
    "    for rel in rel_list:\n",
    "        t.append('not rel(X, Y, \"{}\")'.format(rel))\n",
    "    t.append('concept2(X, N1)')\n",
    "    t.append('concept2(Y, N2)')\n",
    "    t.append('N1 < N2')\n",
    "    t.append('not ncf(X)')\n",
    "    t.append('not ncf(Y)')\n",
    "    at_least_one_rule = ':- {}.'.format(\", \".join(t)) ##\n",
    "    \n",
    "    rel_def = [] ##\n",
    "    for rel in rel_list:\n",
    "        t_ = []\n",
    "        for i in range(3):\n",
    "            t_.append('{1}hint(X, Y, {0})'.format(i, \"\" if sym_dict[rel][i] else \"not \"))\n",
    "        rel_def.append('rel(X, Y, \"{}\") :- {}.'.format(rel, \", \".join(t_)))\n",
    "    \n",
    "    ncf_rules = [] ##\n",
    "    for i in range(3):\n",
    "        ncf_rules.append('hint(X, Y, {}) :- concept2(X, N1), concept2(Y, N2), N1 < N2, vrs(R), {}(X, R), {}(Y, R), not ncf(X), not ncf(Y).'.format(i, idx_rel_map[i][0], idx_rel_map[i][1]))\n",
    "    \n",
    "    all_rules = mir_rules\n",
    "    all_rules.append(at_least_one_rule)\n",
    "    all_rules.extend(rel_def)\n",
    "    all_rules.extend(ncf_rules)\n",
    "    return all_rules"
   ]
  },
  {
   "cell_type": "code",
   "execution_count": 76,
   "metadata": {},
   "outputs": [
    {
     "name": "stdout",
     "output_type": "stream",
     "text": [
      ":- rel(X, Y, \"<\"), rel(X, Y, \"!\"), concept2(X, N1), concept2(X, N2).\n",
      ":- rel(X, Y, \"<\"), rel(X, Y, \"o\"), concept2(X, N1), concept2(X, N2).\n",
      ":- rel(X, Y, \"<\"), rel(X, Y, \"=\"), concept2(X, N1), concept2(X, N2).\n",
      ":- rel(X, Y, \"<\"), rel(X, Y, \">\"), concept2(X, N1), concept2(X, N2).\n",
      ":- rel(X, Y, \"!\"), rel(X, Y, \"o\"), concept2(X, N1), concept2(X, N2).\n",
      ":- rel(X, Y, \"!\"), rel(X, Y, \"=\"), concept2(X, N1), concept2(X, N2).\n",
      ":- rel(X, Y, \"!\"), rel(X, Y, \">\"), concept2(X, N1), concept2(X, N2).\n",
      ":- rel(X, Y, \"o\"), rel(X, Y, \"=\"), concept2(X, N1), concept2(X, N2).\n",
      ":- rel(X, Y, \"o\"), rel(X, Y, \">\"), concept2(X, N1), concept2(X, N2).\n",
      ":- rel(X, Y, \"=\"), rel(X, Y, \">\"), concept2(X, N1), concept2(X, N2).\n",
      ":- not rel(X, Y, \"<\"), not rel(X, Y, \"!\"), not rel(X, Y, \"o\"), not rel(X, Y, \"=\"), not rel(X, Y, \">\"), concept2(X, N1), concept2(Y, N2), N1 < N2, not ncf(X), not ncf(Y).\n",
      "rel(X, Y, \"<\") :- not hint(X, Y, 0), hint(X, Y, 1), hint(X, Y, 2).\n",
      "rel(X, Y, \"!\") :- hint(X, Y, 0), not hint(X, Y, 1), hint(X, Y, 2).\n",
      "rel(X, Y, \"o\") :- hint(X, Y, 0), hint(X, Y, 1), hint(X, Y, 2).\n",
      "rel(X, Y, \"=\") :- not hint(X, Y, 0), hint(X, Y, 1), not hint(X, Y, 2).\n",
      "rel(X, Y, \">\") :- hint(X, Y, 0), hint(X, Y, 1), not hint(X, Y, 2).\n",
      "hint(X, Y, 0) :- concept2(X, N1), concept2(Y, N2), N1 < N2, vrs(R), in(X, R), out(Y, R), not ncf(X), not ncf(Y).\n",
      "hint(X, Y, 1) :- concept2(X, N1), concept2(Y, N2), N1 < N2, vrs(R), in(X, R), in(Y, R), not ncf(X), not ncf(Y).\n",
      "hint(X, Y, 2) :- concept2(X, N1), concept2(Y, N2), N1 < N2, vrs(R), out(X, R), in(Y, R), not ncf(X), not ncf(Y).\n"
     ]
    }
   ],
   "source": [
    "print(\"\\n\".join(decoding_rules()))"
   ]
  },
  {
   "cell_type": "code",
   "execution_count": 70,
   "metadata": {},
   "outputs": [],
   "source": [
    "import pickle as pkl\n",
    "import anytree"
   ]
  },
  {
   "cell_type": "code",
   "execution_count": 38,
   "metadata": {},
   "outputs": [],
   "source": [
    "anytree_ = None\n",
    "with open('Temp_Pickle_Data/cen_test/anytree.pkl', 'rb') as f:\n",
    "    anytree_ = pkl.load(f)"
   ]
  },
  {
   "cell_type": "code",
   "execution_count": 39,
   "metadata": {},
   "outputs": [
    {
     "data": {
      "text/plain": [
       "dict_keys(['CEN', 'NDC'])"
      ]
     },
     "execution_count": 39,
     "metadata": {},
     "output_type": "execute_result"
    }
   ],
   "source": [
    "anytree_.keys()"
   ]
  },
  {
   "cell_type": "code",
   "execution_count": 40,
   "metadata": {},
   "outputs": [
    {
     "data": {
      "text/plain": [
       "'\"CEN_P1\"'"
      ]
     },
     "execution_count": 40,
     "metadata": {},
     "output_type": "execute_result"
    }
   ],
   "source": [
    "anytree_['CEN']['CEN'].children[0].children[0].children[0].name\n",
    "#root.name\n",
    "#print(anytree.RenderTree(node=root))"
   ]
  },
  {
   "cell_type": "code",
   "execution_count": 41,
   "metadata": {},
   "outputs": [],
   "source": [
    "sibling_disjointness_rules = []\n",
    "coverage_rules = []\n",
    "concept_rules = []\n",
    "isa_rules = []\n",
    "\n",
    "for i, tax_name in enumerate(anytree_.keys()):\n",
    "    root = anytree_[tax_name][tax_name].children[0]\n",
    "    all_rules = gen_tax_rules(root, tax_id=i)\n",
    "    sibling_disjointness_rules.extend(all_rules[0])\n",
    "    coverage_rules.extend(all_rules[1])\n",
    "    concept_rules.extend(all_rules[2])\n",
    "    isa_rules.extend(all_rules[3])"
   ]
  },
  {
   "cell_type": "code",
   "execution_count": 42,
   "metadata": {},
   "outputs": [
    {
     "name": "stdout",
     "output_type": "stream",
     "text": [
      "ir(X, r0) :- in(\"CEN_Northeast\", X), in(\"CEN_Midwest\", X).\n",
      ":- #count {X : vrs(X), in(\"CEN_Northeast\", X), out(\"CEN_Midwest\", X)} = 0.\n",
      ":- #count {X : vrs(X), in(\"CEN_Midwest\", X), out(\"CEN_Northeast\", X)} = 0.\n",
      "ir(X, r0) :- in(\"CEN_Northeast\", X), in(\"CEN_South\", X).\n",
      ":- #count {X : vrs(X), in(\"CEN_Northeast\", X), out(\"CEN_South\", X)} = 0.\n",
      ":- #count {X : vrs(X), in(\"CEN_South\", X), out(\"CEN_Northeast\", X)} = 0.\n",
      "ir(X, r0) :- in(\"CEN_Northeast\", X), in(\"CEN_West\", X).\n",
      ":- #count {X : vrs(X), in(\"CEN_Northeast\", X), out(\"CEN_West\", X)} = 0.\n",
      ":- #count {X : vrs(X), in(\"CEN_West\", X), out(\"CEN_Northeast\", X)} = 0.\n",
      "ir(X, r0) :- in(\"CEN_Midwest\", X), in(\"CEN_South\", X).\n",
      ":- #count {X : vrs(X), in(\"CEN_Midwest\", X), out(\"CEN_South\", X)} = 0.\n",
      ":- #count {X : vrs(X), in(\"CEN_South\", X), out(\"CEN_Midwest\", X)} = 0.\n",
      "ir(X, r0) :- in(\"CEN_Midwest\", X), in(\"CEN_West\", X).\n",
      ":- #count {X : vrs(X), in(\"CEN_Midwest\", X), out(\"CEN_West\", X)} = 0.\n",
      ":- #count {X : vrs(X), in(\"CEN_West\", X), out(\"CEN_Midwest\", X)} = 0.\n",
      "ir(X, r0) :- in(\"CEN_South\", X), in(\"CEN_West\", X).\n",
      ":- #count {X : vrs(X), in(\"CEN_South\", X), out(\"CEN_West\", X)} = 0.\n",
      ":- #count {X : vrs(X), in(\"CEN_West\", X), out(\"CEN_South\", X)} = 0.\n",
      "ir(X, r0) :- in(\"CEN_P1\", X), in(\"CEN_P2\", X).\n",
      ":- #count {X : vrs(X), in(\"CEN_P1\", X), out(\"CEN_P2\", X)} = 0.\n",
      ":- #count {X : vrs(X), in(\"CEN_P2\", X), out(\"CEN_P1\", X)} = 0.\n",
      "ir(X, r0) :- in(\"CEN_B1\", X), in(\"CEN_B2\", X).\n",
      ":- #count {X : vrs(X), in(\"CEN_B1\", X), out(\"CEN_B2\", X)} = 0.\n",
      ":- #count {X : vrs(X), in(\"CEN_B2\", X), out(\"CEN_B1\", X)} = 0.\n",
      "ir(X, r0) :- in(\"CEN_B1\", X), in(\"CEN_B3\", X).\n",
      ":- #count {X : vrs(X), in(\"CEN_B1\", X), out(\"CEN_B3\", X)} = 0.\n",
      ":- #count {X : vrs(X), in(\"CEN_B3\", X), out(\"CEN_B1\", X)} = 0.\n",
      "ir(X, r0) :- in(\"CEN_B2\", X), in(\"CEN_B3\", X).\n",
      ":- #count {X : vrs(X), in(\"CEN_B2\", X), out(\"CEN_B3\", X)} = 0.\n",
      ":- #count {X : vrs(X), in(\"CEN_B3\", X), out(\"CEN_B2\", X)} = 0.\n",
      "ir(X, r0) :- in(\"NDC_Midwest\", X), in(\"NDC_Northeast\", X).\n",
      ":- #count {X : vrs(X), in(\"NDC_Midwest\", X), out(\"NDC_Northeast\", X)} = 0.\n",
      ":- #count {X : vrs(X), in(\"NDC_Northeast\", X), out(\"NDC_Midwest\", X)} = 0.\n",
      "ir(X, r0) :- in(\"NDC_Midwest\", X), in(\"NDC_Southeast\", X).\n",
      ":- #count {X : vrs(X), in(\"NDC_Midwest\", X), out(\"NDC_Southeast\", X)} = 0.\n",
      ":- #count {X : vrs(X), in(\"NDC_Southeast\", X), out(\"NDC_Midwest\", X)} = 0.\n",
      "ir(X, r0) :- in(\"NDC_Midwest\", X), in(\"NDC_Southwest\", X).\n",
      ":- #count {X : vrs(X), in(\"NDC_Midwest\", X), out(\"NDC_Southwest\", X)} = 0.\n",
      ":- #count {X : vrs(X), in(\"NDC_Southwest\", X), out(\"NDC_Midwest\", X)} = 0.\n",
      "ir(X, r0) :- in(\"NDC_Midwest\", X), in(\"NDC_West\", X).\n",
      ":- #count {X : vrs(X), in(\"NDC_Midwest\", X), out(\"NDC_West\", X)} = 0.\n",
      ":- #count {X : vrs(X), in(\"NDC_West\", X), out(\"NDC_Midwest\", X)} = 0.\n",
      "ir(X, r0) :- in(\"NDC_Northeast\", X), in(\"NDC_Southeast\", X).\n",
      ":- #count {X : vrs(X), in(\"NDC_Northeast\", X), out(\"NDC_Southeast\", X)} = 0.\n",
      ":- #count {X : vrs(X), in(\"NDC_Southeast\", X), out(\"NDC_Northeast\", X)} = 0.\n",
      "ir(X, r0) :- in(\"NDC_Northeast\", X), in(\"NDC_Southwest\", X).\n",
      ":- #count {X : vrs(X), in(\"NDC_Northeast\", X), out(\"NDC_Southwest\", X)} = 0.\n",
      ":- #count {X : vrs(X), in(\"NDC_Southwest\", X), out(\"NDC_Northeast\", X)} = 0.\n",
      "ir(X, r0) :- in(\"NDC_Northeast\", X), in(\"NDC_West\", X).\n",
      ":- #count {X : vrs(X), in(\"NDC_Northeast\", X), out(\"NDC_West\", X)} = 0.\n",
      ":- #count {X : vrs(X), in(\"NDC_West\", X), out(\"NDC_Northeast\", X)} = 0.\n",
      "ir(X, r0) :- in(\"NDC_Southeast\", X), in(\"NDC_Southwest\", X).\n",
      ":- #count {X : vrs(X), in(\"NDC_Southeast\", X), out(\"NDC_Southwest\", X)} = 0.\n",
      ":- #count {X : vrs(X), in(\"NDC_Southwest\", X), out(\"NDC_Southeast\", X)} = 0.\n",
      "ir(X, r0) :- in(\"NDC_Southeast\", X), in(\"NDC_West\", X).\n",
      ":- #count {X : vrs(X), in(\"NDC_Southeast\", X), out(\"NDC_West\", X)} = 0.\n",
      ":- #count {X : vrs(X), in(\"NDC_West\", X), out(\"NDC_Southeast\", X)} = 0.\n",
      "ir(X, r0) :- in(\"NDC_Southwest\", X), in(\"NDC_West\", X).\n",
      ":- #count {X : vrs(X), in(\"NDC_Southwest\", X), out(\"NDC_West\", X)} = 0.\n",
      ":- #count {X : vrs(X), in(\"NDC_West\", X), out(\"NDC_Southwest\", X)} = 0.\n",
      "ir(X, r0) :- in(\"NDC_A1\", X), in(\"NDC_A2\", X).\n",
      ":- #count {X : vrs(X), in(\"NDC_A1\", X), out(\"NDC_A2\", X)} = 0.\n",
      ":- #count {X : vrs(X), in(\"NDC_A2\", X), out(\"NDC_A1\", X)} = 0.\n",
      "ir(X, r0) :- in(\"NDC_A1\", X), in(\"NDC_A3\", X).\n",
      ":- #count {X : vrs(X), in(\"NDC_A1\", X), out(\"NDC_A3\", X)} = 0.\n",
      ":- #count {X : vrs(X), in(\"NDC_A3\", X), out(\"NDC_A1\", X)} = 0.\n",
      "ir(X, r0) :- in(\"NDC_A2\", X), in(\"NDC_A3\", X).\n",
      ":- #count {X : vrs(X), in(\"NDC_A2\", X), out(\"NDC_A3\", X)} = 0.\n",
      ":- #count {X : vrs(X), in(\"NDC_A3\", X), out(\"NDC_A2\", X)} = 0.\n"
     ]
    }
   ],
   "source": [
    "print(\"\\n\".join(sibling_disjointness_rules))"
   ]
  },
  {
   "cell_type": "code",
   "execution_count": 43,
   "metadata": {},
   "outputs": [
    {
     "name": "stdout",
     "output_type": "stream",
     "text": [
      "out(\"CEN_USA\", X) :- out(\"CEN_Northeast\", X), out(\"CEN_Midwest\", X), out(\"CEN_South\", X), out(\"CEN_West\", X).\n",
      "out(\"CEN_Northeast\", X) :- out(\"CEN_P1\", X), out(\"CEN_P2\", X).\n",
      "out(\"CEN_Midwest\", X) :- out(\"CEN_B1\", X), out(\"CEN_B2\", X), out(\"CEN_B3\", X).\n",
      "out(\"NDC_USA\", X) :- out(\"NDC_Midwest\", X), out(\"NDC_Northeast\", X), out(\"NDC_Southeast\", X), out(\"NDC_Southwest\", X), out(\"NDC_West\", X).\n",
      "out(\"NDC_West\", X) :- out(\"NDC_K1\", X).\n",
      "out(\"NDC_K1\", X) :- out(\"NDC_A1\", X), out(\"NDC_A2\", X), out(\"NDC_A3\", X).\n"
     ]
    }
   ],
   "source": [
    "print(\"\\n\".join(coverage_rules))"
   ]
  },
  {
   "cell_type": "code",
   "execution_count": 44,
   "metadata": {},
   "outputs": [
    {
     "name": "stdout",
     "output_type": "stream",
     "text": [
      "concept2(\"CEN_USA\", 0).\n",
      "concept2(\"CEN_Northeast\", 0).\n",
      "concept(\"CEN_P1\", 0, 0).\n",
      "concept(\"CEN_P2\", 0, 1).\n",
      "concept2(\"CEN_Midwest\", 0).\n",
      "concept(\"CEN_B1\", 0, 2).\n",
      "concept(\"CEN_B2\", 0, 3).\n",
      "concept(\"CEN_B3\", 0, 4).\n",
      "concept(\"CEN_South\", 0, 5).\n",
      "concept(\"CEN_West\", 0, 6).\n",
      "concept2(\"NDC_USA\", 1).\n",
      "concept(\"NDC_Midwest\", 1, 0).\n",
      "concept(\"NDC_Northeast\", 1, 1).\n",
      "concept(\"NDC_Southeast\", 1, 2).\n",
      "concept(\"NDC_Southwest\", 1, 3).\n",
      "concept2(\"NDC_West\", 1).\n",
      "concept2(\"NDC_K1\", 1).\n",
      "concept(\"NDC_A1\", 1, 4).\n",
      "concept(\"NDC_A2\", 1, 5).\n",
      "concept(\"NDC_A3\", 1, 6).\n"
     ]
    }
   ],
   "source": [
    "print(\"\\n\".join(concept_rules))"
   ]
  },
  {
   "cell_type": "code",
   "execution_count": 45,
   "metadata": {},
   "outputs": [
    {
     "name": "stdout",
     "output_type": "stream",
     "text": [
      "ir(X, r0) :- in(\"CEN_Northeast\", X), out(\"CEN_USA\", X).\n",
      ":- #count {X : vrs(X), in(\"CEN_Northeast\", X), in(\"CEN_USA\", X)} = 0.\n",
      "ir(X, r0) :- in(\"CEN_Midwest\", X), out(\"CEN_USA\", X).\n",
      ":- #count {X : vrs(X), in(\"CEN_Midwest\", X), in(\"CEN_USA\", X)} = 0.\n",
      "ir(X, r0) :- in(\"CEN_South\", X), out(\"CEN_USA\", X).\n",
      ":- #count {X : vrs(X), in(\"CEN_South\", X), in(\"CEN_USA\", X)} = 0.\n",
      "ir(X, r0) :- in(\"CEN_West\", X), out(\"CEN_USA\", X).\n",
      ":- #count {X : vrs(X), in(\"CEN_West\", X), in(\"CEN_USA\", X)} = 0.\n",
      "ir(X, r0) :- in(\"CEN_P1\", X), out(\"CEN_Northeast\", X).\n",
      ":- #count {X : vrs(X), in(\"CEN_P1\", X), in(\"CEN_Northeast\", X)} = 0.\n",
      "ir(X, r0) :- in(\"CEN_P2\", X), out(\"CEN_Northeast\", X).\n",
      ":- #count {X : vrs(X), in(\"CEN_P2\", X), in(\"CEN_Northeast\", X)} = 0.\n",
      "ir(X, r0) :- in(\"CEN_B1\", X), out(\"CEN_Midwest\", X).\n",
      ":- #count {X : vrs(X), in(\"CEN_B1\", X), in(\"CEN_Midwest\", X)} = 0.\n",
      "ir(X, r0) :- in(\"CEN_B2\", X), out(\"CEN_Midwest\", X).\n",
      ":- #count {X : vrs(X), in(\"CEN_B2\", X), in(\"CEN_Midwest\", X)} = 0.\n",
      "ir(X, r0) :- in(\"CEN_B3\", X), out(\"CEN_Midwest\", X).\n",
      ":- #count {X : vrs(X), in(\"CEN_B3\", X), in(\"CEN_Midwest\", X)} = 0.\n",
      "ir(X, r0) :- in(\"NDC_Midwest\", X), out(\"NDC_USA\", X).\n",
      ":- #count {X : vrs(X), in(\"NDC_Midwest\", X), in(\"NDC_USA\", X)} = 0.\n",
      "ir(X, r0) :- in(\"NDC_Northeast\", X), out(\"NDC_USA\", X).\n",
      ":- #count {X : vrs(X), in(\"NDC_Northeast\", X), in(\"NDC_USA\", X)} = 0.\n",
      "ir(X, r0) :- in(\"NDC_Southeast\", X), out(\"NDC_USA\", X).\n",
      ":- #count {X : vrs(X), in(\"NDC_Southeast\", X), in(\"NDC_USA\", X)} = 0.\n",
      "ir(X, r0) :- in(\"NDC_Southwest\", X), out(\"NDC_USA\", X).\n",
      ":- #count {X : vrs(X), in(\"NDC_Southwest\", X), in(\"NDC_USA\", X)} = 0.\n",
      "ir(X, r0) :- in(\"NDC_West\", X), out(\"NDC_USA\", X).\n",
      ":- #count {X : vrs(X), in(\"NDC_West\", X), in(\"NDC_USA\", X)} = 0.\n",
      "ir(X, r0) :- in(\"NDC_K1\", X), out(\"NDC_West\", X).\n",
      ":- #count {X : vrs(X), in(\"NDC_K1\", X), in(\"NDC_West\", X)} = 0.\n",
      "ir(X, r0) :- in(\"NDC_A1\", X), out(\"NDC_K1\", X).\n",
      ":- #count {X : vrs(X), in(\"NDC_A1\", X), in(\"NDC_K1\", X)} = 0.\n",
      "ir(X, r0) :- in(\"NDC_A2\", X), out(\"NDC_K1\", X).\n",
      ":- #count {X : vrs(X), in(\"NDC_A2\", X), in(\"NDC_K1\", X)} = 0.\n",
      "ir(X, r0) :- in(\"NDC_A3\", X), out(\"NDC_K1\", X).\n",
      ":- #count {X : vrs(X), in(\"NDC_A3\", X), in(\"NDC_K1\", X)} = 0.\n"
     ]
    }
   ],
   "source": [
    "print(\"\\n\".join(isa_rules))"
   ]
  },
  {
   "cell_type": "code",
   "execution_count": 22,
   "metadata": {
    "collapsed": true
   },
   "outputs": [],
   "source": [
    "def gen_tax_rules(root, tax_id=0, concept_count=0):\n",
    "    children = root.children\n",
    "    sd_r = []\n",
    "    cov_r = []\n",
    "    concept_r = []\n",
    "    isa_r = []\n",
    "    if len(children) > 0:\n",
    "        sd_r = [gen_sibling_disjointness(children[n1].name, children[n2].name, 0) for n1 in range(len(children)) for n2 in range(n1+1, len(children))]\n",
    "        cov_r = [gen_coverage_rule(root.name, list(map(lambda x: x.name, children)))]\n",
    "        concept_r = [gen_concept2_rule(root.name, tax_id)]\n",
    "        isa_r = [gen_isa_rule(child.name, root.name, 0) for child in children]\n",
    "        for child in children:\n",
    "            t_sd_r, t_cov_r, t_concept_r, t_isa_r, concept_count = gen_tax_rules(child, tax_id, concept_count)\n",
    "            sd_r.extend(t_sd_r)\n",
    "            cov_r.extend(t_cov_r)\n",
    "            concept_r.extend(t_concept_r)\n",
    "            isa_r.extend(t_isa_r)\n",
    "    else:\n",
    "        concept_r = [gen_concept_rule(root.name, tax_id, concept_count)]\n",
    "        concept_count += 1\n",
    "    return sd_r, cov_r, concept_r, isa_r, concept_count"
   ]
  },
  {
   "cell_type": "code",
   "execution_count": 18,
   "metadata": {},
   "outputs": [],
   "source": [
    "def gen_coverage_rule(parent: str, children: list):  # For every non-leaf node\n",
    "    lhs = 'out({}, X)'.format(parent)\n",
    "    rhs = \", \".join(list(map(lambda x: 'out({}, X)'.format(x), children)))\n",
    "    return \"{} :- {}.\".format(lhs, rhs)"
   ]
  },
  {
   "cell_type": "code",
   "execution_count": 19,
   "metadata": {
    "collapsed": true
   },
   "outputs": [],
   "source": [
    "def gen_concept2_rule(node: str, tax_num: int):\n",
    "    return \"concept2({}, {}).\".format(node, tax_num)\n",
    "def gen_concept_rule(node: str, tax_num: int, concept_num: int):\n",
    "    return \"concept({}, {}, {}).\".format(node, tax_num, concept_num)"
   ]
  },
  {
   "cell_type": "code",
   "execution_count": 20,
   "metadata": {
    "collapsed": true
   },
   "outputs": [],
   "source": [
    "def gen_sibling_disjointness(n1: str, n2: str, idx: int):  # For every pair of siblings\n",
    "    r1 = ir_helper(n1=n1, n2=n2, rel1=\"in\", rel2=\"in\", idx=idx)\n",
    "    r2 = \":- {}.\".format(not_filter_helper(n1=n1, n2=n2, rel1=\"in\", rel2=\"out\", sign=\"=\", r_var=\"X\"))\n",
    "    r3 = \":- {}.\".format(not_filter_helper(n1=n2, n2=n1, rel1=\"in\", rel2=\"out\", sign=\"=\", r_var=\"X\"))\n",
    "    return \"\\n\".join([r1,r2,r3])"
   ]
  },
  {
   "cell_type": "code",
   "execution_count": 21,
   "metadata": {
    "collapsed": true
   },
   "outputs": [],
   "source": [
    "def gen_isa_rule(child: str, parent: str, idx: int):  # For every parent-child relation\n",
    "    r1 = ir_helper(n1=child, n2=parent, rel1=\"in\", rel2=\"out\", idx=idx)\n",
    "    r2 = \":- {}.\".format(not_filter_helper(n1=child, n2=parent, rel1=\"in\", rel2=\"in\", sign=\"=\", r_var=\"X\"))\n",
    "    return \"\\n\".join([r1,r2])"
   ]
  },
  {
   "cell_type": "code",
   "execution_count": 46,
   "metadata": {},
   "outputs": [
    {
     "name": "stdout",
     "output_type": "stream",
     "text": [
      "              Node1 Relation            Node2\n",
      "0         \"CEN_USA\"   parent  \"CEN_Northeast\"\n",
      "1         \"CEN_USA\"   parent    \"CEN_Midwest\"\n",
      "2         \"CEN_USA\"   parent      \"CEN_South\"\n",
      "3         \"CEN_USA\"   parent       \"CEN_West\"\n",
      "4   \"CEN_Northeast\"   parent         \"CEN_P1\"\n",
      "5   \"CEN_Northeast\"   parent         \"CEN_P2\"\n",
      "6     \"CEN_Midwest\"   parent         \"CEN_B1\"\n",
      "7     \"CEN_Midwest\"   parent         \"CEN_B2\"\n",
      "8     \"CEN_Midwest\"   parent         \"CEN_B3\"\n",
      "9         \"NDC_USA\"   parent    \"NDC_Midwest\"\n",
      "10        \"NDC_USA\"   parent  \"NDC_Northeast\"\n",
      "11        \"NDC_USA\"   parent  \"NDC_Southeast\"\n",
      "12        \"NDC_USA\"   parent  \"NDC_Southwest\"\n",
      "13        \"NDC_USA\"   parent       \"NDC_West\"\n",
      "14       \"NDC_West\"   parent         \"NDC_K1\"\n",
      "15         \"NDC_K1\"   parent         \"NDC_A1\"\n",
      "16         \"NDC_K1\"   parent         \"NDC_A2\"\n",
      "17         \"NDC_K1\"   parent         \"NDC_A3\"\n",
      "18        \"CEN_USA\"        =        \"NDC_USA\"\n",
      "19       \"CEN_West\"        o       \"NDC_West\"\n",
      "20       \"CEN_West\"        !  \"NDC_Northeast\"\n",
      "21      \"CEN_South\"        o  \"NDC_Southwest\"\n",
      "22      \"CEN_South\"        >  \"NDC_Southeast\"\n",
      "23    \"CEN_Midwest\"        =    \"NDC_Midwest\"\n",
      "24  \"CEN_Northeast\"        <  \"NDC_Northeast\"\n"
     ]
    }
   ],
   "source": [
    "articulations = None\n",
    "with open('Temp_Pickle_Data/cen_test/taxDesc.pkl', 'rb') as f:\n",
    "    articulations = pkl.load(f)\n",
    "print(articulations)"
   ]
  },
  {
   "cell_type": "code",
   "execution_count": 82,
   "metadata": {},
   "outputs": [
    {
     "name": "stdout",
     "output_type": "stream",
     "text": [
      ":- #count {A : vrs(A), in(\"CEN_USA\", A), out(\"NDC_USA\", A)} = 0,\n",
      "   #count {B : vrs(B), in(\"CEN_USA\", B), in(\"NDC_USA\", B)} > 0,\n",
      "   #count {C : vrs(C), out(\"CEN_USA\", C), in(\"NDC_USA\", C)} > 0.\n",
      ":- #count {A : vrs(A), in(\"CEN_USA\", A), out(\"NDC_USA\", A)} > 0,\n",
      "   #count {B : vrs(B), in(\"CEN_USA\", B), in(\"NDC_USA\", B)} > 0,\n",
      "   #count {C : vrs(C), out(\"CEN_USA\", C), in(\"NDC_USA\", C)} > 0.\n",
      ":- #count {A : vrs(A), in(\"CEN_USA\", A), out(\"NDC_USA\", A)} > 0,\n",
      "   #count {B : vrs(B), in(\"CEN_USA\", B), in(\"NDC_USA\", B)} = 0,\n",
      "   #count {C : vrs(C), out(\"CEN_USA\", C), in(\"NDC_USA\", C)} > 0.\n",
      ":- #count {A : vrs(A), in(\"CEN_USA\", A), out(\"NDC_USA\", A)} > 0,\n",
      "   #count {B : vrs(B), in(\"CEN_USA\", B), in(\"NDC_USA\", B)} > 0,\n",
      "   #count {C : vrs(C), out(\"CEN_USA\", C), in(\"NDC_USA\", C)} = 0.\n",
      "ir(X, r42) :- in(\"CEN_USA\", X), out(\"NDC_USA\", X).\n",
      ":- #count {X : vrs(X), in(\"CEN_USA\", X), in(\"NDC_USA\", X)} = 0.\n",
      "ir(X, r42) :- out(\"CEN_USA\", X), in(\"NDC_USA\", X).\n",
      ":- #count {A : vrs(A), in(\"CEN_West\", A), out(\"NDC_West\", A)} = 0,\n",
      "   #count {B : vrs(B), in(\"CEN_West\", B), in(\"NDC_West\", B)} > 0,\n",
      "   #count {C : vrs(C), out(\"CEN_West\", C), in(\"NDC_West\", C)} > 0.\n",
      ":- #count {A : vrs(A), in(\"CEN_West\", A), out(\"NDC_West\", A)} = 0,\n",
      "   #count {B : vrs(B), in(\"CEN_West\", B), in(\"NDC_West\", B)} > 0,\n",
      "   #count {C : vrs(C), out(\"CEN_West\", C), in(\"NDC_West\", C)} = 0.\n",
      ":- #count {A : vrs(A), in(\"CEN_West\", A), out(\"NDC_West\", A)} > 0,\n",
      "   #count {B : vrs(B), in(\"CEN_West\", B), in(\"NDC_West\", B)} = 0,\n",
      "   #count {C : vrs(C), out(\"CEN_West\", C), in(\"NDC_West\", C)} > 0.\n",
      ":- #count {A : vrs(A), in(\"CEN_West\", A), out(\"NDC_West\", A)} > 0,\n",
      "   #count {B : vrs(B), in(\"CEN_West\", B), in(\"NDC_West\", B)} > 0,\n",
      "   #count {C : vrs(C), out(\"CEN_West\", C), in(\"NDC_West\", C)} = 0.\n",
      ":- #count {X : vrs(X), in(\"CEN_West\", X), out(\"NDC_West\", X)} = 0.\n",
      ":- #count {X : vrs(X), in(\"CEN_West\", X), in(\"NDC_West\", X)} = 0.\n",
      ":- #count {X : vrs(X), out(\"CEN_West\", X), in(\"NDC_West\", X)} = 0.\n",
      ":- #count {A : vrs(A), in(\"CEN_West\", A), out(\"NDC_Northeast\", A)} = 0,\n",
      "   #count {B : vrs(B), in(\"CEN_West\", B), in(\"NDC_Northeast\", B)} > 0,\n",
      "   #count {C : vrs(C), out(\"CEN_West\", C), in(\"NDC_Northeast\", C)} > 0.\n",
      ":- #count {A : vrs(A), in(\"CEN_West\", A), out(\"NDC_Northeast\", A)} > 0,\n",
      "   #count {B : vrs(B), in(\"CEN_West\", B), in(\"NDC_Northeast\", B)} > 0,\n",
      "   #count {C : vrs(C), out(\"CEN_West\", C), in(\"NDC_Northeast\", C)} > 0.\n",
      ":- #count {A : vrs(A), in(\"CEN_West\", A), out(\"NDC_Northeast\", A)} = 0,\n",
      "   #count {B : vrs(B), in(\"CEN_West\", B), in(\"NDC_Northeast\", B)} > 0,\n",
      "   #count {C : vrs(C), out(\"CEN_West\", C), in(\"NDC_Northeast\", C)} = 0.\n",
      ":- #count {A : vrs(A), in(\"CEN_West\", A), out(\"NDC_Northeast\", A)} > 0,\n",
      "   #count {B : vrs(B), in(\"CEN_West\", B), in(\"NDC_Northeast\", B)} > 0,\n",
      "   #count {C : vrs(C), out(\"CEN_West\", C), in(\"NDC_Northeast\", C)} = 0.\n",
      ":- #count {X : vrs(X), in(\"CEN_West\", X), out(\"NDC_Northeast\", X)} = 0.\n",
      "ir(X, r44) :- in(\"CEN_West\", X), in(\"NDC_Northeast\", X).\n",
      ":- #count {X : vrs(X), out(\"CEN_West\", X), in(\"NDC_Northeast\", X)} = 0.\n",
      ":- #count {A : vrs(A), in(\"CEN_South\", A), out(\"NDC_Southwest\", A)} = 0,\n",
      "   #count {B : vrs(B), in(\"CEN_South\", B), in(\"NDC_Southwest\", B)} > 0,\n",
      "   #count {C : vrs(C), out(\"CEN_South\", C), in(\"NDC_Southwest\", C)} > 0.\n",
      ":- #count {A : vrs(A), in(\"CEN_South\", A), out(\"NDC_Southwest\", A)} = 0,\n",
      "   #count {B : vrs(B), in(\"CEN_South\", B), in(\"NDC_Southwest\", B)} > 0,\n",
      "   #count {C : vrs(C), out(\"CEN_South\", C), in(\"NDC_Southwest\", C)} = 0.\n",
      ":- #count {A : vrs(A), in(\"CEN_South\", A), out(\"NDC_Southwest\", A)} > 0,\n",
      "   #count {B : vrs(B), in(\"CEN_South\", B), in(\"NDC_Southwest\", B)} = 0,\n",
      "   #count {C : vrs(C), out(\"CEN_South\", C), in(\"NDC_Southwest\", C)} > 0.\n",
      ":- #count {A : vrs(A), in(\"CEN_South\", A), out(\"NDC_Southwest\", A)} > 0,\n",
      "   #count {B : vrs(B), in(\"CEN_South\", B), in(\"NDC_Southwest\", B)} > 0,\n",
      "   #count {C : vrs(C), out(\"CEN_South\", C), in(\"NDC_Southwest\", C)} = 0.\n",
      ":- #count {X : vrs(X), in(\"CEN_South\", X), out(\"NDC_Southwest\", X)} = 0.\n",
      ":- #count {X : vrs(X), in(\"CEN_South\", X), in(\"NDC_Southwest\", X)} = 0.\n",
      ":- #count {X : vrs(X), out(\"CEN_South\", X), in(\"NDC_Southwest\", X)} = 0.\n",
      ":- #count {A : vrs(A), in(\"CEN_South\", A), out(\"NDC_Southeast\", A)} = 0,\n",
      "   #count {B : vrs(B), in(\"CEN_South\", B), in(\"NDC_Southeast\", B)} > 0,\n",
      "   #count {C : vrs(C), out(\"CEN_South\", C), in(\"NDC_Southeast\", C)} > 0.\n",
      ":- #count {A : vrs(A), in(\"CEN_South\", A), out(\"NDC_Southeast\", A)} > 0,\n",
      "   #count {B : vrs(B), in(\"CEN_South\", B), in(\"NDC_Southeast\", B)} > 0,\n",
      "   #count {C : vrs(C), out(\"CEN_South\", C), in(\"NDC_Southeast\", C)} > 0.\n",
      ":- #count {A : vrs(A), in(\"CEN_South\", A), out(\"NDC_Southeast\", A)} = 0,\n",
      "   #count {B : vrs(B), in(\"CEN_South\", B), in(\"NDC_Southeast\", B)} > 0,\n",
      "   #count {C : vrs(C), out(\"CEN_South\", C), in(\"NDC_Southeast\", C)} = 0.\n",
      ":- #count {A : vrs(A), in(\"CEN_South\", A), out(\"NDC_Southeast\", A)} > 0,\n",
      "   #count {B : vrs(B), in(\"CEN_South\", B), in(\"NDC_Southeast\", B)} = 0,\n",
      "   #count {C : vrs(C), out(\"CEN_South\", C), in(\"NDC_Southeast\", C)} > 0.\n",
      ":- #count {X : vrs(X), in(\"CEN_South\", X), out(\"NDC_Southeast\", X)} = 0.\n",
      ":- #count {X : vrs(X), in(\"CEN_South\", X), in(\"NDC_Southeast\", X)} = 0.\n",
      "ir(X, r46) :- out(\"CEN_South\", X), in(\"NDC_Southeast\", X).\n",
      ":- #count {A : vrs(A), in(\"CEN_Midwest\", A), out(\"NDC_Midwest\", A)} = 0,\n",
      "   #count {B : vrs(B), in(\"CEN_Midwest\", B), in(\"NDC_Midwest\", B)} > 0,\n",
      "   #count {C : vrs(C), out(\"CEN_Midwest\", C), in(\"NDC_Midwest\", C)} > 0.\n",
      ":- #count {A : vrs(A), in(\"CEN_Midwest\", A), out(\"NDC_Midwest\", A)} > 0,\n",
      "   #count {B : vrs(B), in(\"CEN_Midwest\", B), in(\"NDC_Midwest\", B)} > 0,\n",
      "   #count {C : vrs(C), out(\"CEN_Midwest\", C), in(\"NDC_Midwest\", C)} > 0.\n",
      ":- #count {A : vrs(A), in(\"CEN_Midwest\", A), out(\"NDC_Midwest\", A)} > 0,\n",
      "   #count {B : vrs(B), in(\"CEN_Midwest\", B), in(\"NDC_Midwest\", B)} = 0,\n",
      "   #count {C : vrs(C), out(\"CEN_Midwest\", C), in(\"NDC_Midwest\", C)} > 0.\n",
      ":- #count {A : vrs(A), in(\"CEN_Midwest\", A), out(\"NDC_Midwest\", A)} > 0,\n",
      "   #count {B : vrs(B), in(\"CEN_Midwest\", B), in(\"NDC_Midwest\", B)} > 0,\n",
      "   #count {C : vrs(C), out(\"CEN_Midwest\", C), in(\"NDC_Midwest\", C)} = 0.\n",
      "ir(X, r47) :- in(\"CEN_Midwest\", X), out(\"NDC_Midwest\", X).\n",
      ":- #count {X : vrs(X), in(\"CEN_Midwest\", X), in(\"NDC_Midwest\", X)} = 0.\n",
      "ir(X, r47) :- out(\"CEN_Midwest\", X), in(\"NDC_Midwest\", X).\n",
      ":- #count {A : vrs(A), in(\"CEN_Northeast\", A), out(\"NDC_Northeast\", A)} > 0,\n",
      "   #count {B : vrs(B), in(\"CEN_Northeast\", B), in(\"NDC_Northeast\", B)} > 0,\n",
      "   #count {C : vrs(C), out(\"CEN_Northeast\", C), in(\"NDC_Northeast\", C)} > 0.\n",
      ":- #count {A : vrs(A), in(\"CEN_Northeast\", A), out(\"NDC_Northeast\", A)} = 0,\n",
      "   #count {B : vrs(B), in(\"CEN_Northeast\", B), in(\"NDC_Northeast\", B)} > 0,\n",
      "   #count {C : vrs(C), out(\"CEN_Northeast\", C), in(\"NDC_Northeast\", C)} = 0.\n",
      ":- #count {A : vrs(A), in(\"CEN_Northeast\", A), out(\"NDC_Northeast\", A)} > 0,\n",
      "   #count {B : vrs(B), in(\"CEN_Northeast\", B), in(\"NDC_Northeast\", B)} = 0,\n",
      "   #count {C : vrs(C), out(\"CEN_Northeast\", C), in(\"NDC_Northeast\", C)} > 0.\n",
      ":- #count {A : vrs(A), in(\"CEN_Northeast\", A), out(\"NDC_Northeast\", A)} > 0,\n",
      "   #count {B : vrs(B), in(\"CEN_Northeast\", B), in(\"NDC_Northeast\", B)} > 0,\n",
      "   #count {C : vrs(C), out(\"CEN_Northeast\", C), in(\"NDC_Northeast\", C)} = 0.\n",
      "ir(X, r48) :- in(\"CEN_Northeast\", X), out(\"NDC_Northeast\", X).\n",
      ":- #count {X : vrs(X), in(\"CEN_Northeast\", X), in(\"NDC_Northeast\", X)} = 0.\n",
      ":- #count {X : vrs(X), out(\"CEN_Northeast\", X), in(\"NDC_Northeast\", X)} = 0.\n"
     ]
    }
   ],
   "source": [
    "articulation_rules = []\n",
    "for idx, row in articulations.iterrows():\n",
    "    n1 = row['Node1']\n",
    "    rel = row['Relation'].split(\",\")\n",
    "    n2 = row['Node2']\n",
    "    if rel[0] != 'parent':\n",
    "        articulation_rules.extend(gen_rules(n1, n2, rel))\n",
    "print(\"\\n\".join(articulation_rules))"
   ]
  },
  {
   "cell_type": "code",
   "execution_count": null,
   "metadata": {
    "collapsed": true
   },
   "outputs": [],
   "source": []
  }
 ],
 "metadata": {
  "kernelspec": {
   "display_name": "Python 3",
   "language": "python",
   "name": "python3"
  },
  "language_info": {
   "codemirror_mode": {
    "name": "ipython",
    "version": 3
   },
   "file_extension": ".py",
   "mimetype": "text/x-python",
   "name": "python",
   "nbconvert_exporter": "python",
   "pygments_lexer": "ipython3",
   "version": "3.6.5"
  }
 },
 "nbformat": 4,
 "nbformat_minor": 2
}
