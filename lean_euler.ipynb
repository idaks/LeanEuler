{
 "cells": [
  {
   "cell_type": "code",
   "execution_count": 32,
   "metadata": {
    "collapsed": true
   },
   "outputs": [],
   "source": [
    "import lean_euler\n",
    "import networkx as nx"
   ]
  },
  {
   "cell_type": "code",
   "execution_count": 107,
   "metadata": {
    "collapsed": true
   },
   "outputs": [],
   "source": [
    "from nxpd import draw"
   ]
  },
  {
   "cell_type": "code",
   "execution_count": 13,
   "metadata": {
    "collapsed": true
   },
   "outputs": [],
   "source": [
    "fname = 'Preprocessed_CleanTax_Input/abstract4_mnpw.txt'"
   ]
  },
  {
   "cell_type": "code",
   "execution_count": 178,
   "metadata": {},
   "outputs": [
    {
     "data": {
      "text/plain": [
       "['taxonomy 1 Taxonomy1',\n",
       " '(A B C D E)',\n",
       " 'taxonomy 2 Taxonomy2',\n",
       " '(A B D F G)',\n",
       " 'articulation abs abstract',\n",
       " '[1.A {is_included_in equals} 2.A]',\n",
       " '[1.B equals 2.B]',\n",
       " '[1.C {is_included_in overlaps} 2.F]',\n",
       " '[1.D equals 2.D]',\n",
       " '[1.E {equals overlaps} 2.G]']"
      ]
     },
     "execution_count": 178,
     "metadata": {},
     "output_type": "execute_result"
    }
   ],
   "source": [
    "cleantax_file = open(fname, 'r').read().split('\\n')\n",
    "cleantax_file"
   ]
  },
  {
   "cell_type": "code",
   "execution_count": 179,
   "metadata": {},
   "outputs": [],
   "source": [
    "# cleantax_file.insert(4, 'taxonomy 3 Taxonomy3')\n",
    "# cleantax_file.insert(5, '(A B C E H)')"
   ]
  },
  {
   "cell_type": "code",
   "execution_count": 180,
   "metadata": {
    "collapsed": true
   },
   "outputs": [],
   "source": [
    "rules, t1, t2 = lean_euler.gen_asp_from_cleantax(cleantax_file, encoding='mnpw')"
   ]
  },
  {
   "cell_type": "code",
   "execution_count": 181,
   "metadata": {
    "scrolled": true
   },
   "outputs": [
    {
     "name": "stdout",
     "output_type": "stream",
     "text": [
      "r(1..24).\n",
      "\n",
      "% Region Meanings\n",
      "in(X, M) :- r(M), concept(X, T, N), N1=N+1, bit(M, T, N1).\n",
      "out(X, M) :- r(M), concept(X, T, N), N1=N+1, not bit(M, T, N1).\n",
      "in(X, M) :- r(M), concept2(X, _), not out(X, M).\n",
      "irs(M) :- in(X, M), out(X, M), r(M), concept2(X, _).\n",
      "\n",
      "% Region Constraints\n",
      "irs(X) :- ir(X, _).\n",
      "vrs(X) :- vr(X, _).\n",
      "vr(X, X) :- not irs(X), r(X).\n",
      "ir(X, X) :- not vrs(X), r(X).\n",
      ":- vrs(X), irs(X).\n",
      "\n",
      "concept2(A, B) :- concept(A,B,_).\n",
      "\n",
      "% Taxonomy Description\n",
      "\n",
      "%  Euler Bit\n",
      "bit(M, 0, V) :- r(M), M1=M/1, V = M1 \\ 5.\n",
      "\n",
      "%  Euler Bit\n",
      "bit(M, 1, V) :- r(M), M1=M/5, V = M1 \\ 5.\n",
      "\n",
      "concept2(\"1_A\", 0).\n",
      "concept(\"1_B\", 0, 0).\n",
      "concept(\"1_C\", 0, 1).\n",
      "concept(\"1_D\", 0, 2).\n",
      "concept(\"1_E\", 0, 3).\n",
      "concept2(\"2_A\", 1).\n",
      "concept(\"2_B\", 1, 0).\n",
      "concept(\"2_D\", 1, 1).\n",
      "concept(\"2_F\", 1, 2).\n",
      "concept(\"2_G\", 1, 3).\n",
      "\n",
      "% \"1_B\" isa \"1_A\"\n",
      "ir(X, r66) :- in(\"1_B\", X), out(\"1_A\", X).\n",
      ":- #count {X : vrs(X), in(\"1_B\", X), in(\"1_A\", X)} = 0.\n",
      "\n",
      "% \"1_C\" isa \"1_A\"\n",
      "ir(X, r67) :- in(\"1_C\", X), out(\"1_A\", X).\n",
      ":- #count {X : vrs(X), in(\"1_C\", X), in(\"1_A\", X)} = 0.\n",
      "\n",
      "% \"1_D\" isa \"1_A\"\n",
      "ir(X, r68) :- in(\"1_D\", X), out(\"1_A\", X).\n",
      ":- #count {X : vrs(X), in(\"1_D\", X), in(\"1_A\", X)} = 0.\n",
      "\n",
      "% \"1_E\" isa \"1_A\"\n",
      "ir(X, r69) :- in(\"1_E\", X), out(\"1_A\", X).\n",
      ":- #count {X : vrs(X), in(\"1_E\", X), in(\"1_A\", X)} = 0.\n",
      "\n",
      "% \"2_B\" isa \"2_A\"\n",
      "ir(X, r76) :- in(\"2_B\", X), out(\"2_A\", X).\n",
      ":- #count {X : vrs(X), in(\"2_B\", X), in(\"2_A\", X)} = 0.\n",
      "\n",
      "% \"2_D\" isa \"2_A\"\n",
      "ir(X, r77) :- in(\"2_D\", X), out(\"2_A\", X).\n",
      ":- #count {X : vrs(X), in(\"2_D\", X), in(\"2_A\", X)} = 0.\n",
      "\n",
      "% \"2_F\" isa \"2_A\"\n",
      "ir(X, r78) :- in(\"2_F\", X), out(\"2_A\", X).\n",
      ":- #count {X : vrs(X), in(\"2_F\", X), in(\"2_A\", X)} = 0.\n",
      "\n",
      "% \"2_G\" isa \"2_A\"\n",
      "ir(X, r79) :- in(\"2_G\", X), out(\"2_A\", X).\n",
      ":- #count {X : vrs(X), in(\"2_G\", X), in(\"2_A\", X)} = 0.\n",
      "\n",
      "% Coverage for \"1_A\"\n",
      "out(\"1_A\", X) :- out(\"1_B\", X), out(\"1_C\", X), out(\"1_D\", X), out(\"1_E\", X).\n",
      "\n",
      "% Coverage for \"2_A\"\n",
      "out(\"2_A\", X) :- out(\"2_B\", X), out(\"2_D\", X), out(\"2_F\", X), out(\"2_G\", X).\n",
      "\n",
      "% \"1_B\" ! \"1_C\"\n",
      "ir(X, r60) :- in(\"1_B\", X), in(\"1_C\", X).\n",
      ":- #count {X : vrs(X), in(\"1_B\", X), out(\"1_C\", X)} = 0.\n",
      ":- #count {X : vrs(X), in(\"1_C\", X), out(\"1_B\", X)} = 0.\n",
      "\n",
      "% \"1_B\" ! \"1_D\"\n",
      "ir(X, r61) :- in(\"1_B\", X), in(\"1_D\", X).\n",
      ":- #count {X : vrs(X), in(\"1_B\", X), out(\"1_D\", X)} = 0.\n",
      ":- #count {X : vrs(X), in(\"1_D\", X), out(\"1_B\", X)} = 0.\n",
      "\n",
      "% \"1_B\" ! \"1_E\"\n",
      "ir(X, r62) :- in(\"1_B\", X), in(\"1_E\", X).\n",
      ":- #count {X : vrs(X), in(\"1_B\", X), out(\"1_E\", X)} = 0.\n",
      ":- #count {X : vrs(X), in(\"1_E\", X), out(\"1_B\", X)} = 0.\n",
      "\n",
      "% \"1_C\" ! \"1_D\"\n",
      "ir(X, r63) :- in(\"1_C\", X), in(\"1_D\", X).\n",
      ":- #count {X : vrs(X), in(\"1_C\", X), out(\"1_D\", X)} = 0.\n",
      ":- #count {X : vrs(X), in(\"1_D\", X), out(\"1_C\", X)} = 0.\n",
      "\n",
      "% \"1_C\" ! \"1_E\"\n",
      "ir(X, r64) :- in(\"1_C\", X), in(\"1_E\", X).\n",
      ":- #count {X : vrs(X), in(\"1_C\", X), out(\"1_E\", X)} = 0.\n",
      ":- #count {X : vrs(X), in(\"1_E\", X), out(\"1_C\", X)} = 0.\n",
      "\n",
      "% \"1_D\" ! \"1_E\"\n",
      "ir(X, r65) :- in(\"1_D\", X), in(\"1_E\", X).\n",
      ":- #count {X : vrs(X), in(\"1_D\", X), out(\"1_E\", X)} = 0.\n",
      ":- #count {X : vrs(X), in(\"1_E\", X), out(\"1_D\", X)} = 0.\n",
      "\n",
      "% \"2_B\" ! \"2_D\"\n",
      "ir(X, r70) :- in(\"2_B\", X), in(\"2_D\", X).\n",
      ":- #count {X : vrs(X), in(\"2_B\", X), out(\"2_D\", X)} = 0.\n",
      ":- #count {X : vrs(X), in(\"2_D\", X), out(\"2_B\", X)} = 0.\n",
      "\n",
      "% \"2_B\" ! \"2_F\"\n",
      "ir(X, r71) :- in(\"2_B\", X), in(\"2_F\", X).\n",
      ":- #count {X : vrs(X), in(\"2_B\", X), out(\"2_F\", X)} = 0.\n",
      ":- #count {X : vrs(X), in(\"2_F\", X), out(\"2_B\", X)} = 0.\n",
      "\n",
      "% \"2_B\" ! \"2_G\"\n",
      "ir(X, r72) :- in(\"2_B\", X), in(\"2_G\", X).\n",
      ":- #count {X : vrs(X), in(\"2_B\", X), out(\"2_G\", X)} = 0.\n",
      ":- #count {X : vrs(X), in(\"2_G\", X), out(\"2_B\", X)} = 0.\n",
      "\n",
      "% \"2_D\" ! \"2_F\"\n",
      "ir(X, r73) :- in(\"2_D\", X), in(\"2_F\", X).\n",
      ":- #count {X : vrs(X), in(\"2_D\", X), out(\"2_F\", X)} = 0.\n",
      ":- #count {X : vrs(X), in(\"2_F\", X), out(\"2_D\", X)} = 0.\n",
      "\n",
      "% \"2_D\" ! \"2_G\"\n",
      "ir(X, r74) :- in(\"2_D\", X), in(\"2_G\", X).\n",
      ":- #count {X : vrs(X), in(\"2_D\", X), out(\"2_G\", X)} = 0.\n",
      ":- #count {X : vrs(X), in(\"2_G\", X), out(\"2_D\", X)} = 0.\n",
      "\n",
      "% \"2_F\" ! \"2_G\"\n",
      "ir(X, r75) :- in(\"2_F\", X), in(\"2_G\", X).\n",
      ":- #count {X : vrs(X), in(\"2_F\", X), out(\"2_G\", X)} = 0.\n",
      ":- #count {X : vrs(X), in(\"2_G\", X), out(\"2_F\", X)} = 0.\n",
      "\n",
      "% Articulations\n",
      "\n",
      "% \"1_A\" ['<', '='] \"2_A\"\n",
      ":- #count {A : vrs(A), in(\"1_A\", A), out(\"2_A\", A)} > 0,\n",
      "   #count {B : vrs(B), in(\"1_A\", B), in(\"2_A\", B)} > 0,\n",
      "   #count {C : vrs(C), out(\"1_A\", C), in(\"2_A\", C)} = 0.\n",
      ":- #count {A : vrs(A), in(\"1_A\", A), out(\"2_A\", A)} > 0,\n",
      "   #count {B : vrs(B), in(\"1_A\", B), in(\"2_A\", B)} > 0,\n",
      "   #count {C : vrs(C), out(\"1_A\", C), in(\"2_A\", C)} > 0.\n",
      ":- #count {A : vrs(A), in(\"1_A\", A), out(\"2_A\", A)} > 0,\n",
      "   #count {B : vrs(B), in(\"1_A\", B), in(\"2_A\", B)} = 0,\n",
      "   #count {C : vrs(C), out(\"1_A\", C), in(\"2_A\", C)} > 0.\n",
      "ir(X, r80) :- in(\"1_A\", X), out(\"2_A\", X).\n",
      ":- #count {X : vrs(X), in(\"1_A\", X), in(\"2_A\", X)} = 0.\n",
      "vr(X, r80) ; ir(X, r80) :- out(\"1_A\", X), in(\"2_A\", X).\n",
      "\n",
      "% \"1_B\" ['='] \"2_B\"\n",
      ":- #count {A : vrs(A), in(\"1_B\", A), out(\"2_B\", A)} > 0,\n",
      "   #count {B : vrs(B), in(\"1_B\", B), in(\"2_B\", B)} > 0,\n",
      "   #count {C : vrs(C), out(\"1_B\", C), in(\"2_B\", C)} = 0.\n",
      ":- #count {A : vrs(A), in(\"1_B\", A), out(\"2_B\", A)} > 0,\n",
      "   #count {B : vrs(B), in(\"1_B\", B), in(\"2_B\", B)} > 0,\n",
      "   #count {C : vrs(C), out(\"1_B\", C), in(\"2_B\", C)} > 0.\n",
      ":- #count {A : vrs(A), in(\"1_B\", A), out(\"2_B\", A)} = 0,\n",
      "   #count {B : vrs(B), in(\"1_B\", B), in(\"2_B\", B)} > 0,\n",
      "   #count {C : vrs(C), out(\"1_B\", C), in(\"2_B\", C)} > 0.\n",
      ":- #count {A : vrs(A), in(\"1_B\", A), out(\"2_B\", A)} > 0,\n",
      "   #count {B : vrs(B), in(\"1_B\", B), in(\"2_B\", B)} = 0,\n",
      "   #count {C : vrs(C), out(\"1_B\", C), in(\"2_B\", C)} > 0.\n",
      "ir(X, r81) :- in(\"1_B\", X), out(\"2_B\", X).\n",
      ":- #count {X : vrs(X), in(\"1_B\", X), in(\"2_B\", X)} = 0.\n",
      "ir(X, r81) :- out(\"1_B\", X), in(\"2_B\", X).\n",
      "\n",
      "% \"1_C\" ['<', 'o'] \"2_F\"\n",
      ":- #count {A : vrs(A), in(\"1_C\", A), out(\"2_F\", A)} > 0,\n",
      "   #count {B : vrs(B), in(\"1_C\", B), in(\"2_F\", B)} > 0,\n",
      "   #count {C : vrs(C), out(\"1_C\", C), in(\"2_F\", C)} = 0.\n",
      ":- #count {A : vrs(A), in(\"1_C\", A), out(\"2_F\", A)} > 0,\n",
      "   #count {B : vrs(B), in(\"1_C\", B), in(\"2_F\", B)} = 0,\n",
      "   #count {C : vrs(C), out(\"1_C\", C), in(\"2_F\", C)} > 0.\n",
      ":- #count {A : vrs(A), in(\"1_C\", A), out(\"2_F\", A)} = 0,\n",
      "   #count {B : vrs(B), in(\"1_C\", B), in(\"2_F\", B)} > 0,\n",
      "   #count {C : vrs(C), out(\"1_C\", C), in(\"2_F\", C)} = 0.\n",
      "vr(X, r82) ; ir(X, r82) :- in(\"1_C\", X), out(\"2_F\", X).\n",
      ":- #count {X : vrs(X), in(\"1_C\", X), in(\"2_F\", X)} = 0.\n",
      ":- #count {X : vrs(X), out(\"1_C\", X), in(\"2_F\", X)} = 0.\n",
      "\n",
      "% \"1_D\" ['='] \"2_D\"\n",
      ":- #count {A : vrs(A), in(\"1_D\", A), out(\"2_D\", A)} > 0,\n",
      "   #count {B : vrs(B), in(\"1_D\", B), in(\"2_D\", B)} > 0,\n",
      "   #count {C : vrs(C), out(\"1_D\", C), in(\"2_D\", C)} = 0.\n",
      ":- #count {A : vrs(A), in(\"1_D\", A), out(\"2_D\", A)} > 0,\n",
      "   #count {B : vrs(B), in(\"1_D\", B), in(\"2_D\", B)} > 0,\n",
      "   #count {C : vrs(C), out(\"1_D\", C), in(\"2_D\", C)} > 0.\n",
      ":- #count {A : vrs(A), in(\"1_D\", A), out(\"2_D\", A)} = 0,\n",
      "   #count {B : vrs(B), in(\"1_D\", B), in(\"2_D\", B)} > 0,\n",
      "   #count {C : vrs(C), out(\"1_D\", C), in(\"2_D\", C)} > 0.\n",
      ":- #count {A : vrs(A), in(\"1_D\", A), out(\"2_D\", A)} > 0,\n",
      "   #count {B : vrs(B), in(\"1_D\", B), in(\"2_D\", B)} = 0,\n",
      "   #count {C : vrs(C), out(\"1_D\", C), in(\"2_D\", C)} > 0.\n",
      "ir(X, r83) :- in(\"1_D\", X), out(\"2_D\", X).\n",
      ":- #count {X : vrs(X), in(\"1_D\", X), in(\"2_D\", X)} = 0.\n",
      "ir(X, r83) :- out(\"1_D\", X), in(\"2_D\", X).\n",
      "\n",
      "% \"1_E\" ['=', 'o'] \"2_G\"\n",
      ":- #count {A : vrs(A), in(\"1_E\", A), out(\"2_G\", A)} > 0,\n",
      "   #count {B : vrs(B), in(\"1_E\", B), in(\"2_G\", B)} > 0,\n",
      "   #count {C : vrs(C), out(\"1_E\", C), in(\"2_G\", C)} = 0.\n",
      ":- #count {A : vrs(A), in(\"1_E\", A), out(\"2_G\", A)} = 0,\n",
      "   #count {B : vrs(B), in(\"1_E\", B), in(\"2_G\", B)} > 0,\n",
      "   #count {C : vrs(C), out(\"1_E\", C), in(\"2_G\", C)} > 0.\n",
      ":- #count {A : vrs(A), in(\"1_E\", A), out(\"2_G\", A)} > 0,\n",
      "   #count {B : vrs(B), in(\"1_E\", B), in(\"2_G\", B)} = 0,\n",
      "   #count {C : vrs(C), out(\"1_E\", C), in(\"2_G\", C)} > 0.\n",
      "vr(X, r84) ; ir(X, r84) :- in(\"1_E\", X), out(\"2_G\", X).\n",
      ":- #count {X : vrs(X), in(\"1_E\", X), in(\"2_G\", X)} = 0.\n",
      "vr(X, r84) ; ir(X, r84) :- out(\"1_E\", X), in(\"2_G\", X).\n",
      "\n",
      "% Decoding Rules\n",
      ":- rel(X, Y, \"o\"), rel(X, Y, \"<\"), concept2(X, N1), concept2(Y, N2).\n",
      ":- rel(X, Y, \"o\"), rel(X, Y, \"!\"), concept2(X, N1), concept2(Y, N2).\n",
      ":- rel(X, Y, \"o\"), rel(X, Y, \">\"), concept2(X, N1), concept2(Y, N2).\n",
      ":- rel(X, Y, \"o\"), rel(X, Y, \"=\"), concept2(X, N1), concept2(Y, N2).\n",
      ":- rel(X, Y, \"<\"), rel(X, Y, \"!\"), concept2(X, N1), concept2(Y, N2).\n",
      ":- rel(X, Y, \"<\"), rel(X, Y, \">\"), concept2(X, N1), concept2(Y, N2).\n",
      ":- rel(X, Y, \"<\"), rel(X, Y, \"=\"), concept2(X, N1), concept2(Y, N2).\n",
      ":- rel(X, Y, \"!\"), rel(X, Y, \">\"), concept2(X, N1), concept2(Y, N2).\n",
      ":- rel(X, Y, \"!\"), rel(X, Y, \"=\"), concept2(X, N1), concept2(Y, N2).\n",
      ":- rel(X, Y, \">\"), rel(X, Y, \"=\"), concept2(X, N1), concept2(Y, N2).\n",
      "\n",
      ":- not rel(X, Y, \"o\"), not rel(X, Y, \"<\"), not rel(X, Y, \"!\"), not rel(X, Y, \">\"), not rel(X, Y, \"=\"), concept2(X, N1), concept2(Y, N2), N1 < N2.\n",
      "\n",
      "rel(X, Y, \"o\") :- hint(X, Y, 0), hint(X, Y, 1), hint(X, Y, 2).\n",
      "rel(X, Y, \"<\") :- not hint(X, Y, 0), hint(X, Y, 1), hint(X, Y, 2).\n",
      "rel(X, Y, \"!\") :- hint(X, Y, 0), not hint(X, Y, 1), hint(X, Y, 2).\n",
      "rel(X, Y, \">\") :- hint(X, Y, 0), hint(X, Y, 1), not hint(X, Y, 2).\n",
      "rel(X, Y, \"=\") :- not hint(X, Y, 0), hint(X, Y, 1), not hint(X, Y, 2).\n",
      "\n",
      "hint(X, Y, 0) :- concept2(X, N1), concept2(Y, N2), N1 < N2, vrs(R), in(X, R), out(Y, R).\n",
      "hint(X, Y, 1) :- concept2(X, N1), concept2(Y, N2), N1 < N2, vrs(R), in(X, R), in(Y, R).\n",
      "hint(X, Y, 2) :- concept2(X, N1), concept2(Y, N2), N1 < N2, vrs(R), out(X, R), in(Y, R).\n",
      "\n",
      "\n",
      "% Child Parent Rules for Viz\n",
      "\n",
      "bl(\"1_A\", \"1_B\").\n",
      "bl(\"1_A\", \"1_C\").\n",
      "bl(\"1_A\", \"1_D\").\n",
      "bl(\"1_A\", \"1_E\").\n",
      "bl(\"2_A\", \"2_B\").\n",
      "bl(\"2_A\", \"2_D\").\n",
      "bl(\"2_A\", \"2_F\").\n",
      "bl(\"2_A\", \"2_G\").\n",
      "\n",
      "#show rel/3.\n",
      "eq(A, B) :- rel(A, B, \"=\").\n",
      "po(A, B) :- rel(A, B, \"o\").\n",
      "dr(A, B) :- rel(A, B, \"!\").\n",
      "pp(A, B) :- rel(A, B, \"<\").\n",
      "pp(B, A) :- rel(A, B, \">\").\n",
      "pp(Y,X) :- bl(X,Y).\n",
      "u(X) :- bl(_,X).\n",
      "u(X) :- bl(X,_).\n",
      "#show eq/2.\n",
      "#show po/2.\n",
      "#show pp/2.\n",
      "#show dr/2.\n",
      "#show bl/2.\n",
      "#show u/1.\n"
     ]
    }
   ],
   "source": [
    "print('\\n'.join(rules))"
   ]
  },
  {
   "cell_type": "code",
   "execution_count": 182,
   "metadata": {},
   "outputs": [],
   "source": [
    "from euler_visualization_nxpd import visualize"
   ]
  },
  {
   "cell_type": "code",
   "execution_count": 183,
   "metadata": {},
   "outputs": [
    {
     "data": {
      "text/plain": [
       "{'1': {'1': Node('/1'),\n",
       "  'A': Node('/1/\"1_A\"'),\n",
       "  'B': Node('/1/\"1_A\"/\"1_B\"'),\n",
       "  'C': Node('/1/\"1_A\"/\"1_C\"'),\n",
       "  'D': Node('/1/\"1_A\"/\"1_D\"'),\n",
       "  'E': Node('/1/\"1_A\"/\"1_E\"')},\n",
       " '2': {'2': Node('/2'),\n",
       "  'A': Node('/2/\"2_A\"'),\n",
       "  'B': Node('/2/\"2_A\"/\"2_B\"'),\n",
       "  'D': Node('/2/\"2_A\"/\"2_D\"'),\n",
       "  'F': Node('/2/\"2_A\"/\"2_F\"'),\n",
       "  'G': Node('/2/\"2_A\"/\"2_G\"')}}"
      ]
     },
     "execution_count": 183,
     "metadata": {},
     "output_type": "execute_result"
    }
   ],
   "source": [
    "t2"
   ]
  },
  {
   "cell_type": "code",
   "execution_count": 184,
   "metadata": {},
   "outputs": [
    {
     "data": {
      "text/html": [
       "<div>\n",
       "<style>\n",
       "    .dataframe thead tr:only-child th {\n",
       "        text-align: right;\n",
       "    }\n",
       "\n",
       "    .dataframe thead th {\n",
       "        text-align: left;\n",
       "    }\n",
       "\n",
       "    .dataframe tbody tr th {\n",
       "        vertical-align: top;\n",
       "    }\n",
       "</style>\n",
       "<table border=\"1\" class=\"dataframe\">\n",
       "  <thead>\n",
       "    <tr style=\"text-align: right;\">\n",
       "      <th></th>\n",
       "      <th>Node1</th>\n",
       "      <th>Relation</th>\n",
       "      <th>Node2</th>\n",
       "    </tr>\n",
       "  </thead>\n",
       "  <tbody>\n",
       "    <tr>\n",
       "      <th>0</th>\n",
       "      <td>\"1_A\"</td>\n",
       "      <td>parent</td>\n",
       "      <td>\"1_B\"</td>\n",
       "    </tr>\n",
       "    <tr>\n",
       "      <th>1</th>\n",
       "      <td>\"1_A\"</td>\n",
       "      <td>parent</td>\n",
       "      <td>\"1_C\"</td>\n",
       "    </tr>\n",
       "    <tr>\n",
       "      <th>2</th>\n",
       "      <td>\"1_A\"</td>\n",
       "      <td>parent</td>\n",
       "      <td>\"1_D\"</td>\n",
       "    </tr>\n",
       "    <tr>\n",
       "      <th>3</th>\n",
       "      <td>\"1_A\"</td>\n",
       "      <td>parent</td>\n",
       "      <td>\"1_E\"</td>\n",
       "    </tr>\n",
       "    <tr>\n",
       "      <th>4</th>\n",
       "      <td>\"2_A\"</td>\n",
       "      <td>parent</td>\n",
       "      <td>\"2_B\"</td>\n",
       "    </tr>\n",
       "    <tr>\n",
       "      <th>5</th>\n",
       "      <td>\"2_A\"</td>\n",
       "      <td>parent</td>\n",
       "      <td>\"2_D\"</td>\n",
       "    </tr>\n",
       "    <tr>\n",
       "      <th>6</th>\n",
       "      <td>\"2_A\"</td>\n",
       "      <td>parent</td>\n",
       "      <td>\"2_F\"</td>\n",
       "    </tr>\n",
       "    <tr>\n",
       "      <th>7</th>\n",
       "      <td>\"2_A\"</td>\n",
       "      <td>parent</td>\n",
       "      <td>\"2_G\"</td>\n",
       "    </tr>\n",
       "    <tr>\n",
       "      <th>8</th>\n",
       "      <td>\"1_A\"</td>\n",
       "      <td>&lt;,=</td>\n",
       "      <td>\"2_A\"</td>\n",
       "    </tr>\n",
       "    <tr>\n",
       "      <th>9</th>\n",
       "      <td>\"1_B\"</td>\n",
       "      <td>=</td>\n",
       "      <td>\"2_B\"</td>\n",
       "    </tr>\n",
       "    <tr>\n",
       "      <th>10</th>\n",
       "      <td>\"1_C\"</td>\n",
       "      <td>&lt;,o</td>\n",
       "      <td>\"2_F\"</td>\n",
       "    </tr>\n",
       "    <tr>\n",
       "      <th>11</th>\n",
       "      <td>\"1_D\"</td>\n",
       "      <td>=</td>\n",
       "      <td>\"2_D\"</td>\n",
       "    </tr>\n",
       "    <tr>\n",
       "      <th>12</th>\n",
       "      <td>\"1_E\"</td>\n",
       "      <td>=,o</td>\n",
       "      <td>\"2_G\"</td>\n",
       "    </tr>\n",
       "  </tbody>\n",
       "</table>\n",
       "</div>"
      ],
      "text/plain": [
       "    Node1 Relation  Node2\n",
       "0   \"1_A\"   parent  \"1_B\"\n",
       "1   \"1_A\"   parent  \"1_C\"\n",
       "2   \"1_A\"   parent  \"1_D\"\n",
       "3   \"1_A\"   parent  \"1_E\"\n",
       "4   \"2_A\"   parent  \"2_B\"\n",
       "5   \"2_A\"   parent  \"2_D\"\n",
       "6   \"2_A\"   parent  \"2_F\"\n",
       "7   \"2_A\"   parent  \"2_G\"\n",
       "8   \"1_A\"      <,=  \"2_A\"\n",
       "9   \"1_B\"        =  \"2_B\"\n",
       "10  \"1_C\"      <,o  \"2_F\"\n",
       "11  \"1_D\"        =  \"2_D\"\n",
       "12  \"1_E\"      =,o  \"2_G\""
      ]
     },
     "execution_count": 184,
     "metadata": {},
     "output_type": "execute_result"
    }
   ],
   "source": [
    "t1"
   ]
  },
  {
   "cell_type": "code",
   "execution_count": 185,
   "metadata": {},
   "outputs": [
    {
     "data": {
      "text/plain": [
       "(Node('/1/\"1_A\"/\"1_B\"'),\n",
       " Node('/1/\"1_A\"/\"1_C\"'),\n",
       " Node('/1/\"1_A\"/\"1_D\"'),\n",
       " Node('/1/\"1_A\"/\"1_E\"'))"
      ]
     },
     "execution_count": 185,
     "metadata": {},
     "output_type": "execute_result"
    }
   ],
   "source": [
    "k = t2['1']['1']\n",
    "k = k.children[0]\n",
    "k.children"
   ]
  },
  {
   "cell_type": "code",
   "execution_count": 186,
   "metadata": {},
   "outputs": [
    {
     "data": {
      "text/plain": [
       "['\"1_A\"', '\"1_B\"', '\"1_C\"', '\"1_D\"', '\"1_E\"']"
      ]
     },
     "execution_count": 186,
     "metadata": {},
     "output_type": "execute_result"
    }
   ],
   "source": [
    "k = t2['1']['1']\n",
    "list(map(lambda x: x.name, k.descendants))"
   ]
  },
  {
   "cell_type": "code",
   "execution_count": 187,
   "metadata": {},
   "outputs": [
    {
     "name": "stdout",
     "output_type": "stream",
     "text": [
      "Found it: Node('/1/\"1_A\"')\n"
     ]
    }
   ],
   "source": [
    "for desc in k.descendants:\n",
    "    if desc.name == '\"1_A\"':\n",
    "        print(\"Found it: {}\".format(desc))\n",
    "        break"
   ]
  },
  {
   "cell_type": "code",
   "execution_count": 188,
   "metadata": {},
   "outputs": [
    {
     "data": {
      "text/plain": [
       "0"
      ]
     },
     "execution_count": 188,
     "metadata": {},
     "output_type": "execute_result"
    }
   ],
   "source": [
    "[0, 1][0]"
   ]
  },
  {
   "cell_type": "code",
   "execution_count": 189,
   "metadata": {},
   "outputs": [
    {
     "data": {
      "text/html": [
       "<div>\n",
       "<style>\n",
       "    .dataframe thead tr:only-child th {\n",
       "        text-align: right;\n",
       "    }\n",
       "\n",
       "    .dataframe thead th {\n",
       "        text-align: left;\n",
       "    }\n",
       "\n",
       "    .dataframe tbody tr th {\n",
       "        vertical-align: top;\n",
       "    }\n",
       "</style>\n",
       "<table border=\"1\" class=\"dataframe\">\n",
       "  <thead>\n",
       "    <tr style=\"text-align: right;\">\n",
       "      <th></th>\n",
       "      <th>Node1</th>\n",
       "      <th>Relation</th>\n",
       "      <th>Node2</th>\n",
       "    </tr>\n",
       "  </thead>\n",
       "  <tbody>\n",
       "    <tr>\n",
       "      <th>8</th>\n",
       "      <td>\"1_A\"</td>\n",
       "      <td>&lt;,=</td>\n",
       "      <td>\"2_A\"</td>\n",
       "    </tr>\n",
       "    <tr>\n",
       "      <th>9</th>\n",
       "      <td>\"1_B\"</td>\n",
       "      <td>=</td>\n",
       "      <td>\"2_B\"</td>\n",
       "    </tr>\n",
       "    <tr>\n",
       "      <th>10</th>\n",
       "      <td>\"1_C\"</td>\n",
       "      <td>&lt;,o</td>\n",
       "      <td>\"2_F\"</td>\n",
       "    </tr>\n",
       "    <tr>\n",
       "      <th>11</th>\n",
       "      <td>\"1_D\"</td>\n",
       "      <td>=</td>\n",
       "      <td>\"2_D\"</td>\n",
       "    </tr>\n",
       "    <tr>\n",
       "      <th>12</th>\n",
       "      <td>\"1_E\"</td>\n",
       "      <td>=,o</td>\n",
       "      <td>\"2_G\"</td>\n",
       "    </tr>\n",
       "  </tbody>\n",
       "</table>\n",
       "</div>"
      ],
      "text/plain": [
       "    Node1 Relation  Node2\n",
       "8   \"1_A\"      <,=  \"2_A\"\n",
       "9   \"1_B\"        =  \"2_B\"\n",
       "10  \"1_C\"      <,o  \"2_F\"\n",
       "11  \"1_D\"        =  \"2_D\"\n",
       "12  \"1_E\"      =,o  \"2_G\""
      ]
     },
     "execution_count": 189,
     "metadata": {},
     "output_type": "execute_result"
    }
   ],
   "source": [
    "t1[t1['Relation'] != 'parent']"
   ]
  },
  {
   "cell_type": "code",
   "execution_count": 190,
   "metadata": {
    "collapsed": true
   },
   "outputs": [],
   "source": [
    "def get_graph_styles():\n",
    "    \n",
    "    return {\n",
    "            'label': (\"Input Taxonomy\"),\n",
    "            'fontsize': '16',\n",
    "            'fontcolor': 'black',\n",
    "            'bgcolor': '#ffffff',\n",
    "            'rankdir': 'LR',\n",
    "        }\n",
    "\n",
    "def get_tax_styles(tax_id):\n",
    "    \n",
    "    NODE_COLORS = ['#CCFFCC', '#FFFFCC', '#f4bf42', '#6346d6']\n",
    "    \n",
    "    return {\n",
    "        'node': dict(fillcolor=NODE_COLORS[tax_id], fontcolor='black', shape='box', style='filled', fontname='helvetica'),\n",
    "        'parent_edge': {\n",
    "                'arrowhead': 'normal',\n",
    "                'style': 'solid',\n",
    "                'color': 'black',\n",
    "                'constraint': 'true',\n",
    "                'penwidth': '1',\n",
    "            },\n",
    "    }\n",
    "\n",
    "def get_rel_edge_styles(rls):\n",
    "    \n",
    "    return {\n",
    "        'style': 'dashed',\n",
    "        'color': \"#AA00FF\",\n",
    "        'constraint': 'true',\n",
    "        'penwidth': '1',\n",
    "        'dir': 'both',\n",
    "        'arrowhead': 'normal',\n",
    "        'label': rls,\n",
    "    }"
   ]
  },
  {
   "cell_type": "code",
   "execution_count": 191,
   "metadata": {
    "collapsed": true
   },
   "outputs": [],
   "source": [
    "def add_tax_to_graph(G, root, tax_styles, tax_id):\n",
    "    \n",
    "    def add_children(G, sub_root, tax_styles):\n",
    "        for child in sub_root.children:\n",
    "            G.add_node(child.name, **tax_styles['node'])\n",
    "            if tax_id % 2 == 1:\n",
    "                G.add_edge(child.name, sub_root.name, **tax_styles['parent_edge'], dir='forward')\n",
    "            else:\n",
    "                G.add_edge(sub_root.name, child.name, **tax_styles['parent_edge'], dir='back')\n",
    "            add_children(G, child, tax_styles)\n",
    "    \n",
    "    G.add_node(root.name, **tax_styles['node'])\n",
    "    add_children(G, root, tax_styles)\n",
    "\n",
    "def visualize(rel_data, taxes):\n",
    "    \n",
    "    G = nx.DiGraph(**get_graph_styles())  # TODO\n",
    "    for i, (tax_name, tax_desc) in enumerate(taxes.items()):\n",
    "        tax_styles = get_tax_styles(i)  # TODO\n",
    "        root = tax_desc[tax_name].children[0]\n",
    "        add_tax_to_graph(G, root, tax_styles, i)\n",
    "    \n",
    "    articulations = rel_data[rel_data['Relation'] != 'parent']\n",
    "    for i, row in articulations.iterrows():\n",
    "        \n",
    "        G.add_edge(row['Node1'], row['Node2'], **get_rel_edge_styles(row['Relation']))\n",
    "    \n",
    "    return G\n",
    "        \n",
    "    \n",
    "    \n",
    "    "
   ]
  },
  {
   "cell_type": "code",
   "execution_count": 192,
   "metadata": {},
   "outputs": [],
   "source": [
    "G = visualize(t1, t2)"
   ]
  },
  {
   "cell_type": "code",
   "execution_count": 193,
   "metadata": {},
   "outputs": [
    {
     "data": {
      "image/png": "[encoded data removed]",
      "text/plain": [
       "<IPython.core.display.Image object>"
      ]
     },
     "execution_count": 193,
     "metadata": {},
     "output_type": "execute_result"
    }
   ],
   "source": [
    "draw(G, show='ipynb')"
   ]
  },
  {
   "cell_type": "code",
   "execution_count": null,
   "metadata": {
    "collapsed": true
   },
   "outputs": [],
   "source": []
  },
  {
   "cell_type": "code",
   "execution_count": null,
   "metadata": {
    "collapsed": true
   },
   "outputs": [],
   "source": []
  },
  {
   "cell_type": "code",
   "execution_count": null,
   "metadata": {
    "collapsed": true
   },
   "outputs": [],
   "source": []
  }
 ],
 "metadata": {
  "kernelspec": {
   "display_name": "Python 3",
   "language": "python",
   "name": "python3"
  },
  "language_info": {
   "codemirror_mode": {
    "name": "ipython",
    "version": 3
   },
   "file_extension": ".py",
   "mimetype": "text/x-python",
   "name": "python",
   "nbconvert_exporter": "python",
   "pygments_lexer": "ipython3",
   "version": "3.6.5"
  }
 },
 "nbformat": 4,
 "nbformat_minor": 2
}
